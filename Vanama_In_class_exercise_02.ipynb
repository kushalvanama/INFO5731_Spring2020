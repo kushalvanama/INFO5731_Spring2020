{
  "nbformat": 4,
  "nbformat_minor": 0,
  "metadata": {
    "colab": {
      "name": "Vanama_In_class_exercise_02.ipynb",
      "provenance": [],
      "collapsed_sections": [],
      "include_colab_link": true
    },
    "kernelspec": {
      "display_name": "Python 3",
      "language": "python",
      "name": "python3"
    },
    "language_info": {
      "codemirror_mode": {
        "name": "ipython",
        "version": 3
      },
      "file_extension": ".py",
      "mimetype": "text/x-python",
      "name": "python",
      "nbconvert_exporter": "python",
      "pygments_lexer": "ipython3",
      "version": "3.7.4"
    }
  },
  "cells": [
    {
      "cell_type": "markdown",
      "metadata": {
        "id": "view-in-github",
        "colab_type": "text"
      },
      "source": [
        "<a href=\"https://colab.research.google.com/github/kushalvanama/INFO5731_Spring2020/blob/main/Vanama_In_class_exercise_02.ipynb\" target=\"_parent\"><img src=\"https://colab.research.google.com/assets/colab-badge.svg\" alt=\"Open In Colab\"/></a>"
      ]
    },
    {
      "cell_type": "markdown",
      "metadata": {
        "id": "oo5bsEh2eeWi"
      },
      "source": [
        "# **The second In-class-exercise (1/27/2021, 20 points in total)**\n"
      ]
    },
    {
      "cell_type": "markdown",
      "metadata": {
        "id": "2sPQ58dIeqgp"
      },
      "source": [
        "(1) Write a Python program to find the duplicate elements in a given array of integers. Return -1 If there are no such elements. (4 points)"
      ]
    },
    {
      "cell_type": "code",
      "metadata": {
        "colab": {
          "base_uri": "https://localhost:8080/"
        },
        "id": "mnrvKMFTeoJR",
        "outputId": "07ef9af4-1694-4cae-e4c0-1f59267d2f6b"
      },
      "source": [
        "# write your answer here\n",
        "list1 = [10, 20, 30, 20, 20, 30, 40,  \n",
        "         50, -20, 60, 60, -20, -20] \n",
        "\n",
        "repeated = [] \n",
        "n = len(list1);\n",
        "for i in range(n-1): \n",
        "    for j in range(i+1,n): \n",
        "        if list1[i] == list1[j] and list1[j] not in repeated: \n",
        "            repeated.append(list1[i])\n",
        "\n",
        "if len(repeated) < 1:\n",
        "      print(-1)\n",
        "    else:\n",
        "      print (repeated)   \n",
        "\n",
        "      \n"
      ],
      "execution_count": null,
      "outputs": [
        {
          "output_type": "stream",
          "text": [
            "-1\n",
            "[10, 23, 85]\n"
          ],
          "name": "stdout"
        }
      ]
    },
    {
      "cell_type": "markdown",
      "metadata": {
        "id": "YYrH6n6IhZoQ"
      },
      "source": [
        "(2) Write a Python program to select all the Sundays of a specified year. (4 points)\n",
        "\n"
      ]
    },
    {
      "cell_type": "code",
      "metadata": {
        "colab": {
          "base_uri": "https://localhost:8080/"
        },
        "id": "OSfPLd23eLpX",
        "outputId": "5d1507a4-f576-45be-9da6-c7617f0779de"
      },
      "source": [
        "# write your answer here\n",
        "from datetime import date, timedelta\n",
        "\n",
        "def identify_sundays(year):\n",
        "       date_iterator = date(year, 1, 1)       \n",
        "       date_iterator += timedelta(days = 6 - date_iterator.weekday())  \n",
        "       while date_iterator.year == year:\n",
        "          yield date_iterator\n",
        "          date_iterator += timedelta(days = 7)\n",
        "\n",
        "val = input(\"Enter your value: \") \n",
        "print(val) \n",
        "for sundays in identify_sundays(val):\n",
        "   print(sundays)\n",
        "\n"
      ],
      "execution_count": null,
      "outputs": [
        {
          "output_type": "stream",
          "text": [
            "2018-01-07\n",
            "2018-01-14\n",
            "2018-01-21\n",
            "2018-01-28\n",
            "2018-02-04\n",
            "2018-02-11\n",
            "2018-02-18\n",
            "2018-02-25\n",
            "2018-03-04\n",
            "2018-03-11\n",
            "2018-03-18\n",
            "2018-03-25\n",
            "2018-04-01\n",
            "2018-04-08\n",
            "2018-04-15\n",
            "2018-04-22\n",
            "2018-04-29\n",
            "2018-05-06\n",
            "2018-05-13\n",
            "2018-05-20\n",
            "2018-05-27\n",
            "2018-06-03\n",
            "2018-06-10\n",
            "2018-06-17\n",
            "2018-06-24\n",
            "2018-07-01\n",
            "2018-07-08\n",
            "2018-07-15\n",
            "2018-07-22\n",
            "2018-07-29\n",
            "2018-08-05\n",
            "2018-08-12\n",
            "2018-08-19\n",
            "2018-08-26\n",
            "2018-09-02\n",
            "2018-09-09\n",
            "2018-09-16\n",
            "2018-09-23\n",
            "2018-09-30\n",
            "2018-10-07\n",
            "2018-10-14\n",
            "2018-10-21\n",
            "2018-10-28\n",
            "2018-11-04\n",
            "2018-11-11\n",
            "2018-11-18\n",
            "2018-11-25\n",
            "2018-12-02\n",
            "2018-12-09\n",
            "2018-12-16\n",
            "2018-12-23\n",
            "2018-12-30\n"
          ],
          "name": "stdout"
        }
      ]
    },
    {
      "cell_type": "markdown",
      "metadata": {
        "id": "UIpziZ6Sjie-"
      },
      "source": [
        "(3) Python files reading and writing. Download the “[exercise_02_data _collection.zip](https://github.com/unt-iialab/info5731_spring2021/blob/main/class_exercises/exercise_02_data_collection.zip)” to your local and un-zip it.\n",
        "\n",
        "*   Write a program to read all the txt files and save the sentences in all the files into one csv file with two columns, the first column is sentence id (txt file name+sentence line number), the second column is the sentence text content. (4 points)\n",
        "*   Remove all the punctuations from the sentences, save the processed sentences into a new column in the same csv file. (4 points)\n",
        "*   Ask the user to enter a word, return all the sentences that include this word, three kinds of information should be returned: sentence id, sentence text content, the count that user input word appear in the sentence. (4 points)\n",
        "\n"
      ]
    },
    {
      "cell_type": "code",
      "metadata": {
        "id": "f3CUsrWOj1Xy"
      },
      "source": [
        "# write your answer here\n",
        "\n",
        "\n"
      ],
      "execution_count": null,
      "outputs": []
    },
    {
      "cell_type": "markdown",
      "metadata": {
        "id": "-12cqmJEpZOh"
      },
      "source": [
        "(4) Install packages nltk, numpy, scipy, pandas, and sklearn on Google Colab. Write a program to test whether they are installed successfully. (3 points for extra)"
      ]
    },
    {
      "cell_type": "code",
      "metadata": {
        "id": "f1pn1Zl2qK77"
      },
      "source": [
        "# write your answer here\n",
        "\n",
        "\n",
        "\n"
      ],
      "execution_count": null,
      "outputs": []
    }
  ]
}