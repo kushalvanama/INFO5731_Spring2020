{
  "nbformat": 4,
  "nbformat_minor": 0,
  "metadata": {
    "kernelspec": {
      "display_name": "Python 3",
      "language": "python",
      "name": "python3"
    },
    "language_info": {
      "codemirror_mode": {
        "name": "ipython",
        "version": 3
      },
      "file_extension": ".py",
      "mimetype": "text/x-python",
      "name": "python",
      "nbconvert_exporter": "python",
      "pygments_lexer": "ipython3",
      "version": "3.8.5"
    },
    "colab": {
      "name": "In_class_exercise_09.ipynb",
      "provenance": [],
      "collapsed_sections": []
    }
  },
  "cells": [
    {
      "cell_type": "markdown",
      "metadata": {
        "id": "YQe1p2eKXZ-I"
      },
      "source": [
        "# **The ninth in-class-exercise (20 points in total, 4/16/2021)**"
      ]
    },
    {
      "cell_type": "markdown",
      "metadata": {
        "id": "YNLppiRTXZ-Z"
      },
      "source": [
        "The purpose of the exercise is to practice different machine learning algorithms for text classification as well as the performance evaluation. In addition, you are requried to conduct *10 fold cross validation (https://scikit-learn.org/stable/modules/cross_validation.html)* in the training. \n",
        "\n",
        "The dataset can be download from here: https://github.com/unt-iialab/info5731_spring2021/blob/main/class_exercises/exercise09_datacollection.zip. The dataset contains two files train data and test data for sentiment analysis in IMDB review, it has two categories: 1 represents positive and 0 represents negative. You need to split the training data into training and validate data (80% for training and 20% for validation, https://towardsdatascience.com/train-test-split-and-cross-validation-in-python-80b61beca4b6) and perform 10 fold cross validation while training the classifier. The final trained model was final evaluated on the test data. \n",
        "\n",
        "Algorithms:\n",
        "\n",
        "(1) MultinominalNB\n",
        "\n",
        "(2) SVM \n",
        "\n",
        "(3) KNN \n",
        "\n",
        "(4) Decision tree\n",
        "\n",
        "(5) Random Forest\n",
        "\n",
        "(6) XGBoost\n",
        "\n",
        "Evaluation measurement:\n",
        "\n",
        "(1) Accuracy\n",
        "\n",
        "(2) Recall\n",
        "\n",
        "(3) Precison \n",
        "\n",
        "(4) F-1 score"
      ]
    },
    {
      "cell_type": "code",
      "metadata": {
        "colab": {
          "base_uri": "https://localhost:8080/"
        },
        "id": "iS_56RyKYcpz",
        "outputId": "baed9be9-1655-435d-f828-b5a271c404e9"
      },
      "source": [
        "!git clone https://github.com/unt-iialab/info5731_spring2021.git"
      ],
      "execution_count": 6,
      "outputs": [
        {
          "output_type": "stream",
          "text": [
            "Cloning into 'info5731_spring2021'...\n",
            "remote: Enumerating objects: 147, done.\u001b[K\n",
            "remote: Counting objects: 100% (20/20), done.\u001b[K\n",
            "remote: Compressing objects: 100% (20/20), done.\u001b[K\n",
            "remote: Total 147 (delta 8), reused 0 (delta 0), pack-reused 127\u001b[K\n",
            "Receiving objects: 100% (147/147), 1.75 MiB | 23.90 MiB/s, done.\n",
            "Resolving deltas: 100% (55/55), done.\n"
          ],
          "name": "stdout"
        }
      ]
    },
    {
      "cell_type": "code",
      "metadata": {
        "id": "gPLed6H7YLab"
      },
      "source": [
        "!cp /content/info5731_spring2021/class_exercises/exercise09_datacollection.zip /content/"
      ],
      "execution_count": 7,
      "outputs": []
    },
    {
      "cell_type": "code",
      "metadata": {
        "id": "0u742vhTYzvY"
      },
      "source": [
        "!rm -r /content/info5731_spring2021"
      ],
      "execution_count": 9,
      "outputs": []
    },
    {
      "cell_type": "code",
      "metadata": {
        "colab": {
          "base_uri": "https://localhost:8080/"
        },
        "id": "MYDxjyvyY5EG",
        "outputId": "85247690-54f2-4b3e-fed1-46e09316ffef"
      },
      "source": [
        "!unzip exercise09_datacollection.zip"
      ],
      "execution_count": 10,
      "outputs": [
        {
          "output_type": "stream",
          "text": [
            "Archive:  exercise09_datacollection.zip\n",
            "   creating: exercise09_datacollection/\n",
            "  inflating: exercise09_datacollection/stsa-test.txt  \n",
            "  inflating: exercise09_datacollection/stsa-train.txt  \n"
          ],
          "name": "stdout"
        }
      ]
    },
    {
      "cell_type": "code",
      "metadata": {
        "id": "uP9aqOGbY_oa"
      },
      "source": [
        "from sklearn.metrics import accuracy_score, recall_score, precision_score, f1_score\n",
        "from sklearn.naive_bayes import MultinomialNB\n",
        "from sklearn.neighbors import KNeighborsClassifier\n",
        "from sklearn.svm import SVC\n",
        "from sklearn.tree import DecisionTreeClassifier\n",
        "from sklearn.ensemble import RandomForestClassifier\n",
        "from xgboost import XGBClassifier\n",
        "from sklearn.model_selection import train_test_split, cross_validate, StratifiedKFold\n",
        "from sklearn.feature_extraction.text import CountVectorizer\n",
        "from sklearn.pipeline import Pipeline\n",
        "import pandas as pd\n",
        "import numpy as np"
      ],
      "execution_count": 67,
      "outputs": []
    },
    {
      "cell_type": "code",
      "metadata": {
        "id": "0rSeVzbsbtkl"
      },
      "source": [
        "with open('exercise09_datacollection/stsa-train.txt') as fin:\n",
        "    datatrain = fin.readlines()\n",
        "with open('exercise09_datacollection/stsa-test.txt') as fin:\n",
        "    datatest = fin.readlines()"
      ],
      "execution_count": 45,
      "outputs": []
    },
    {
      "cell_type": "code",
      "metadata": {
        "id": "tsHErA0DchCp"
      },
      "source": [
        "target = [x[0] for x in datatrain]\n",
        "text = [x.strip()[2:] for x in datatrain]"
      ],
      "execution_count": 46,
      "outputs": []
    },
    {
      "cell_type": "code",
      "metadata": {
        "colab": {
          "base_uri": "https://localhost:8080/",
          "height": 402
        },
        "id": "t6lTulw7ZZ29",
        "outputId": "df872201-82e3-4fa7-fa44-720f4f302a3d"
      },
      "source": [
        "train = pd.DataFrame({'text' : text, 'target': target})\n",
        "train"
      ],
      "execution_count": 47,
      "outputs": [
        {
          "output_type": "execute_result",
          "data": {
            "text/html": [
              "<div>\n",
              "<style scoped>\n",
              "    .dataframe tbody tr th:only-of-type {\n",
              "        vertical-align: middle;\n",
              "    }\n",
              "\n",
              "    .dataframe tbody tr th {\n",
              "        vertical-align: top;\n",
              "    }\n",
              "\n",
              "    .dataframe thead th {\n",
              "        text-align: right;\n",
              "    }\n",
              "</style>\n",
              "<table border=\"1\" class=\"dataframe\">\n",
              "  <thead>\n",
              "    <tr style=\"text-align: right;\">\n",
              "      <th></th>\n",
              "      <th>text</th>\n",
              "      <th>target</th>\n",
              "    </tr>\n",
              "  </thead>\n",
              "  <tbody>\n",
              "    <tr>\n",
              "      <th>0</th>\n",
              "      <td>a stirring , funny and finally transporting re...</td>\n",
              "      <td>1</td>\n",
              "    </tr>\n",
              "    <tr>\n",
              "      <th>1</th>\n",
              "      <td>apparently reassembled from the cutting-room f...</td>\n",
              "      <td>0</td>\n",
              "    </tr>\n",
              "    <tr>\n",
              "      <th>2</th>\n",
              "      <td>they presume their audience wo n't sit still f...</td>\n",
              "      <td>0</td>\n",
              "    </tr>\n",
              "    <tr>\n",
              "      <th>3</th>\n",
              "      <td>this is a visually stunning rumination on love...</td>\n",
              "      <td>1</td>\n",
              "    </tr>\n",
              "    <tr>\n",
              "      <th>4</th>\n",
              "      <td>jonathan parker 's bartleby should have been t...</td>\n",
              "      <td>1</td>\n",
              "    </tr>\n",
              "    <tr>\n",
              "      <th>...</th>\n",
              "      <td>...</td>\n",
              "      <td>...</td>\n",
              "    </tr>\n",
              "    <tr>\n",
              "      <th>6915</th>\n",
              "      <td>painful , horrifying and oppressively tragic ,...</td>\n",
              "      <td>1</td>\n",
              "    </tr>\n",
              "    <tr>\n",
              "      <th>6916</th>\n",
              "      <td>take care is nicely performed by a quintet of ...</td>\n",
              "      <td>0</td>\n",
              "    </tr>\n",
              "    <tr>\n",
              "      <th>6917</th>\n",
              "      <td>the script covers huge , heavy topics in a bla...</td>\n",
              "      <td>0</td>\n",
              "    </tr>\n",
              "    <tr>\n",
              "      <th>6918</th>\n",
              "      <td>a seriously bad film with seriously warped log...</td>\n",
              "      <td>0</td>\n",
              "    </tr>\n",
              "    <tr>\n",
              "      <th>6919</th>\n",
              "      <td>a deliciously nonsensical comedy about a city ...</td>\n",
              "      <td>1</td>\n",
              "    </tr>\n",
              "  </tbody>\n",
              "</table>\n",
              "<p>6920 rows × 2 columns</p>\n",
              "</div>"
            ],
            "text/plain": [
              "                                                   text target\n",
              "0     a stirring , funny and finally transporting re...      1\n",
              "1     apparently reassembled from the cutting-room f...      0\n",
              "2     they presume their audience wo n't sit still f...      0\n",
              "3     this is a visually stunning rumination on love...      1\n",
              "4     jonathan parker 's bartleby should have been t...      1\n",
              "...                                                 ...    ...\n",
              "6915  painful , horrifying and oppressively tragic ,...      1\n",
              "6916  take care is nicely performed by a quintet of ...      0\n",
              "6917  the script covers huge , heavy topics in a bla...      0\n",
              "6918  a seriously bad film with seriously warped log...      0\n",
              "6919  a deliciously nonsensical comedy about a city ...      1\n",
              "\n",
              "[6920 rows x 2 columns]"
            ]
          },
          "metadata": {
            "tags": []
          },
          "execution_count": 47
        }
      ]
    },
    {
      "cell_type": "code",
      "metadata": {
        "id": "KkN6_oyGdQfj"
      },
      "source": [
        "target = [x[0] for x in datatest]\n",
        "text = [x.strip()[2:] for x in datatest]"
      ],
      "execution_count": 48,
      "outputs": []
    },
    {
      "cell_type": "code",
      "metadata": {
        "colab": {
          "base_uri": "https://localhost:8080/",
          "height": 402
        },
        "id": "CXyl1gQGegLV",
        "outputId": "68b55b48-c7a8-49dd-8a06-019b2134645d"
      },
      "source": [
        "test = pd.DataFrame({'text' : text, 'target': target})\n",
        "test"
      ],
      "execution_count": 49,
      "outputs": [
        {
          "output_type": "execute_result",
          "data": {
            "text/html": [
              "<div>\n",
              "<style scoped>\n",
              "    .dataframe tbody tr th:only-of-type {\n",
              "        vertical-align: middle;\n",
              "    }\n",
              "\n",
              "    .dataframe tbody tr th {\n",
              "        vertical-align: top;\n",
              "    }\n",
              "\n",
              "    .dataframe thead th {\n",
              "        text-align: right;\n",
              "    }\n",
              "</style>\n",
              "<table border=\"1\" class=\"dataframe\">\n",
              "  <thead>\n",
              "    <tr style=\"text-align: right;\">\n",
              "      <th></th>\n",
              "      <th>text</th>\n",
              "      <th>target</th>\n",
              "    </tr>\n",
              "  </thead>\n",
              "  <tbody>\n",
              "    <tr>\n",
              "      <th>0</th>\n",
              "      <td>no movement , no yuks , not much of anything .</td>\n",
              "      <td>0</td>\n",
              "    </tr>\n",
              "    <tr>\n",
              "      <th>1</th>\n",
              "      <td>a gob of drivel so sickly sweet , even the eag...</td>\n",
              "      <td>0</td>\n",
              "    </tr>\n",
              "    <tr>\n",
              "      <th>2</th>\n",
              "      <td>gangs of new york is an unapologetic mess , wh...</td>\n",
              "      <td>0</td>\n",
              "    </tr>\n",
              "    <tr>\n",
              "      <th>3</th>\n",
              "      <td>we never really feel involved with the story ,...</td>\n",
              "      <td>0</td>\n",
              "    </tr>\n",
              "    <tr>\n",
              "      <th>4</th>\n",
              "      <td>this is one of polanski 's best films .</td>\n",
              "      <td>1</td>\n",
              "    </tr>\n",
              "    <tr>\n",
              "      <th>...</th>\n",
              "      <td>...</td>\n",
              "      <td>...</td>\n",
              "    </tr>\n",
              "    <tr>\n",
              "      <th>1816</th>\n",
              "      <td>an often-deadly boring , strange reading of a ...</td>\n",
              "      <td>0</td>\n",
              "    </tr>\n",
              "    <tr>\n",
              "      <th>1817</th>\n",
              "      <td>the problem with concept films is that if the ...</td>\n",
              "      <td>0</td>\n",
              "    </tr>\n",
              "    <tr>\n",
              "      <th>1818</th>\n",
              "      <td>safe conduct , however ambitious and well-inte...</td>\n",
              "      <td>0</td>\n",
              "    </tr>\n",
              "    <tr>\n",
              "      <th>1819</th>\n",
              "      <td>a film made with as little wit , interest , an...</td>\n",
              "      <td>0</td>\n",
              "    </tr>\n",
              "    <tr>\n",
              "      <th>1820</th>\n",
              "      <td>but here 's the real damn : it is n't funny , ...</td>\n",
              "      <td>0</td>\n",
              "    </tr>\n",
              "  </tbody>\n",
              "</table>\n",
              "<p>1821 rows × 2 columns</p>\n",
              "</div>"
            ],
            "text/plain": [
              "                                                   text target\n",
              "0        no movement , no yuks , not much of anything .      0\n",
              "1     a gob of drivel so sickly sweet , even the eag...      0\n",
              "2     gangs of new york is an unapologetic mess , wh...      0\n",
              "3     we never really feel involved with the story ,...      0\n",
              "4               this is one of polanski 's best films .      1\n",
              "...                                                 ...    ...\n",
              "1816  an often-deadly boring , strange reading of a ...      0\n",
              "1817  the problem with concept films is that if the ...      0\n",
              "1818  safe conduct , however ambitious and well-inte...      0\n",
              "1819  a film made with as little wit , interest , an...      0\n",
              "1820  but here 's the real damn : it is n't funny , ...      0\n",
              "\n",
              "[1821 rows x 2 columns]"
            ]
          },
          "metadata": {
            "tags": []
          },
          "execution_count": 49
        }
      ]
    },
    {
      "cell_type": "code",
      "metadata": {
        "colab": {
          "base_uri": "https://localhost:8080/"
        },
        "id": "aKIci1nXejgb",
        "outputId": "3b845641-f45a-45e0-8446-711cdd778e7d"
      },
      "source": [
        "from nltk import word_tokenize\n",
        "import nltk\n",
        "nltk.download('punkt')\n",
        "from string import punctuation"
      ],
      "execution_count": 55,
      "outputs": [
        {
          "output_type": "stream",
          "text": [
            "[nltk_data] Downloading package punkt to /root/nltk_data...\n",
            "[nltk_data]   Unzipping tokenizers/punkt.zip.\n"
          ],
          "name": "stdout"
        }
      ]
    },
    {
      "cell_type": "code",
      "metadata": {
        "id": "8mPWPgNzewZF"
      },
      "source": [
        "def remove_punctuation(row):\n",
        "    return [w for w in row if w not in punctuation]"
      ],
      "execution_count": 56,
      "outputs": []
    },
    {
      "cell_type": "code",
      "metadata": {
        "id": "aNUEjK39eyWU"
      },
      "source": [
        "train.text = train.text.apply(word_tokenize)\n",
        "train.text = train.text.apply(remove_punctuation)\n",
        "train.text = train.text.apply(lambda x: [w.lower() for w in x])"
      ],
      "execution_count": 57,
      "outputs": []
    },
    {
      "cell_type": "code",
      "metadata": {
        "id": "MYowBq92e-sC"
      },
      "source": [
        "X = train.text.apply(lambda x: ' '.join(x)).values\n",
        "y = train.target.apply(lambda x: int(x)).values"
      ],
      "execution_count": 59,
      "outputs": []
    },
    {
      "cell_type": "code",
      "metadata": {
        "id": "gXoM3DJXfNZZ"
      },
      "source": [
        "train_X, test_X, train_y, test_y = train_test_split(X, y,\n",
        "                                                test_size=0.2, random_state=1)"
      ],
      "execution_count": 61,
      "outputs": []
    },
    {
      "cell_type": "code",
      "metadata": {
        "id": "ecBMnQPDfa9K"
      },
      "source": [
        "naive_bayes = MultinomialNB()\n",
        "svc = SVC()\n",
        "knn = KNeighborsClassifier()\n",
        "dt = DecisionTreeClassifier()\n",
        "rf = RandomForestClassifier()\n",
        "xgb = XGBClassifier()\n",
        "models = [naive_bayes, svc, knn, dt, rf, xgb]\n",
        "names = ['nb', 'svc', 'knn', 'dt', 'rf', 'xgb']\n",
        "estimators = []\n",
        "for name, model in zip(names, models):\n",
        "    clf = Pipeline([('vect', CountVectorizer()), (name, model)])\n",
        "    estimators.append(clf)"
      ],
      "execution_count": 68,
      "outputs": []
    },
    {
      "cell_type": "code",
      "metadata": {
        "id": "jH6F4GoDgNGq"
      },
      "source": [
        "cv = StratifiedKFold(n_splits=10, shuffle=True, random_state=1)"
      ],
      "execution_count": 70,
      "outputs": []
    },
    {
      "cell_type": "code",
      "metadata": {
        "id": "HQXpVYmqgnDr"
      },
      "source": [
        "scores = {name : None for name in names}\n",
        "scoring = {'accuracy_score' : 'accuracy',\n",
        "           'precision_score' : 'precision',\n",
        "           'recall_score' : 'recall', \n",
        "           'f1_score' : 'f1'}\n",
        "for name, clf in zip(names, estimators):\n",
        "    scores[name] = cross_validate(clf, train_X, train_y, cv=cv, scoring=scoring)"
      ],
      "execution_count": 71,
      "outputs": []
    },
    {
      "cell_type": "code",
      "metadata": {
        "id": "iXTc5Cezgpjv"
      },
      "source": [
        "def get_dict():\n",
        "    return {name : None for name in names}\n",
        "accuracy_scores = get_dict()\n",
        "precision_scores = get_dict()\n",
        "recall_scores = get_dict()\n",
        "f1_scores = get_dict()\n",
        "estimator_names = list(scores.keys())\n",
        "for name in scores.keys():\n",
        "    for score, d in zip(['accuracy_score', 'precision_score',\n",
        "                         'recall_score', 'f1_score'],\n",
        "                        [accuracy_scores, precision_scores,\n",
        "                         recall_scores, f1_scores]):\n",
        "        score_name = 'test_' + score\n",
        "        d[name] = scores[name][score_name]"
      ],
      "execution_count": 72,
      "outputs": []
    },
    {
      "cell_type": "code",
      "metadata": {
        "id": "Z21suAlXgwED"
      },
      "source": [
        "def get_mean_scores(d):\n",
        "    return [(name, np.mean(value)) for name, value in d.items()]"
      ],
      "execution_count": 73,
      "outputs": []
    },
    {
      "cell_type": "code",
      "metadata": {
        "id": "saRYQJGShDPI"
      },
      "source": [
        "accuracy_mean = get_mean_scores(accuracy_scores)\n",
        "precision_mean = get_mean_scores(precision_scores)\n",
        "recall_mean = get_mean_scores(recall_scores)\n",
        "f1_mean = get_mean_scores(f1_scores)"
      ],
      "execution_count": 74,
      "outputs": []
    },
    {
      "cell_type": "code",
      "metadata": {
        "id": "3ZEUP8kMhGDF"
      },
      "source": [
        "from matplotlib import pyplot as plt"
      ],
      "execution_count": 75,
      "outputs": []
    },
    {
      "cell_type": "code",
      "metadata": {
        "colab": {
          "base_uri": "https://localhost:8080/",
          "height": 499
        },
        "id": "PxrMeH9WhHwe",
        "outputId": "44d576ff-2380-4f6e-99b1-36ea20167051"
      },
      "source": [
        "fig, axes = plt.subplots(2,2)\n",
        "fig.set_size_inches(12, 8)\n",
        "axes = axes.flatten()\n",
        "for ax, t, title in zip(axes, [accuracy_mean, precision_mean, recall_mean, f1_mean],\n",
        "                 ['accuracy', 'precision', 'recall', 'f1']):\n",
        "    ax.bar(range(len(names)), [mean for _, mean in t], tick_label=names)\n",
        "    ax.set_title(title)"
      ],
      "execution_count": 76,
      "outputs": [
        {
          "output_type": "display_data",
          "data": {
            "image/png": "[encoded data removed]",
            "text/plain": [
              "<Figure size 864x576 with 4 Axes>"
            ]
          },
          "metadata": {
            "tags": [],
            "needs_background": "light"
          }
        }
      ]
    },
    {
      "cell_type": "code",
      "metadata": {
        "id": "EN1c3UTkhKym"
      },
      "source": [
        "def print_mean_scores(t, scoring_name):\n",
        "    for name, score in t:\n",
        "        print(name, 'mean', scoring_name, 'score is', score)"
      ],
      "execution_count": 77,
      "outputs": []
    },
    {
      "cell_type": "code",
      "metadata": {
        "colab": {
          "base_uri": "https://localhost:8080/"
        },
        "id": "Dbmg4FbKhNvJ",
        "outputId": "771a1144-3d16-4612-8804-27d7d56ea209"
      },
      "source": [
        "for t, name in zip([accuracy_mean, precision_mean, recall_mean, f1_mean], \n",
        "                   ['accuracy', 'precision', 'recall', 'f1']):\n",
        "    print_mean_scores(t, name)\n",
        "    print('+'*79)"
      ],
      "execution_count": 78,
      "outputs": [
        {
          "output_type": "stream",
          "text": [
            "nb mean accuracy score is 0.7919027163943309\n",
            "svc mean accuracy score is 0.7489192523876983\n",
            "knn mean accuracy score is 0.5785769775624916\n",
            "dt mean accuracy score is 0.6289670389930866\n",
            "rf mean accuracy score is 0.7252518262708822\n",
            "xgb mean accuracy score is 0.6566108068233005\n",
            "+++++++++++++++++++++++++++++++++++++++++++++++++++++++++++++++++++++++++++++++\n",
            "nb mean precision score is 0.7920206270674919\n",
            "svc mean precision score is 0.745522439620127\n",
            "knn mean precision score is 0.6036263774224454\n",
            "dt mean precision score is 0.6438527860124006\n",
            "rf mean precision score is 0.7204024402345909\n",
            "xgb mean precision score is 0.6357709596741885\n",
            "+++++++++++++++++++++++++++++++++++++++++++++++++++++++++++++++++++++++++++++++\n",
            "nb mean recall score is 0.8183386657186871\n",
            "svc mean recall score is 0.7914587036378717\n",
            "knn mean recall score is 0.5735999526010193\n",
            "dt mean recall score is 0.6549377888375401\n",
            "rf mean recall score is 0.7783505154639176\n",
            "xgb mean recall score is 0.8097286408342221\n",
            "+++++++++++++++++++++++++++++++++++++++++++++++++++++++++++++++++++++++++++++++\n",
            "nb mean f1 score is 0.804840768182153\n",
            "svc mean f1 score is 0.7677024719768628\n",
            "knn mean f1 score is 0.5877921882184409\n",
            "dt mean f1 score is 0.6489916272760906\n",
            "rf mean f1 score is 0.7480604294820207\n",
            "xgb mean f1 score is 0.7109874297557016\n",
            "+++++++++++++++++++++++++++++++++++++++++++++++++++++++++++++++++++++++++++++++\n"
          ],
          "name": "stdout"
        }
      ]
    },
    {
      "cell_type": "markdown",
      "metadata": {
        "id": "a_5kzDCUiFXL"
      },
      "source": [
        "## Testing on Test Data"
      ]
    },
    {
      "cell_type": "code",
      "metadata": {
        "colab": {
          "base_uri": "https://localhost:8080/"
        },
        "id": "KxovoCbzlooQ",
        "outputId": "32c36c1f-5f98-4466-9f55-a277667506f1"
      },
      "source": [
        "clf = Pipeline([('vect', CountVectorizer()), ('nb', MultinomialNB())])\n",
        "clf.fit(train_X, train_y)\n",
        "predictions = clf.predict(test_X)\n",
        "print('Test accuracy score is: {}'.format(accuracy_score(test_y, predictions)))\n",
        "print('Test precision score is: {}'.format(precision_score(test_y, predictions)))\n",
        "print('Test recall score is: {}'.format(recall_score(test_y, predictions)))\n",
        "print('Test F1 score is: {}'.format(f1_score(test_y, predictions)))"
      ],
      "execution_count": 102,
      "outputs": [
        {
          "output_type": "stream",
          "text": [
            "Test accuracy score is: 0.7767341040462428\n",
            "Test precision score is: 0.7762430939226519\n",
            "Test recall score is: 0.7926657263751763\n",
            "Test F1 score is: 0.7843684577808792\n"
          ],
          "name": "stdout"
        }
      ]
    }
  ]
}