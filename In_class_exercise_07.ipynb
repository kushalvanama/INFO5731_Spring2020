{
  "nbformat": 4,
  "nbformat_minor": 0,
  "metadata": {
    "kernelspec": {
      "display_name": "Python 3",
      "language": "python",
      "name": "python3"
    },
    "language_info": {
      "codemirror_mode": {
        "name": "ipython",
        "version": 3
      },
      "file_extension": ".py",
      "mimetype": "text/x-python",
      "name": "python",
      "nbconvert_exporter": "python",
      "pygments_lexer": "ipython3",
      "version": "3.8.5"
    },
    "colab": {
      "name": "In_class_exercise_07.ipynb",
      "provenance": [],
      "collapsed_sections": [],
      "include_colab_link": true
    }
  },
  "cells": [
    {
      "cell_type": "markdown",
      "metadata": {
        "id": "view-in-github",
        "colab_type": "text"
      },
      "source": [
        "<a href=\"https://colab.research.google.com/github/kushalvanama/INFO5731_Spring2020/blob/main/In_class_exercise_07.ipynb\" target=\"_parent\"><img src=\"https://colab.research.google.com/assets/colab-badge.svg\" alt=\"Open In Colab\"/></a>"
      ]
    },
    {
      "cell_type": "markdown",
      "metadata": {
        "id": "HkHXoIgp_kAt"
      },
      "source": [
        "# **The seventh in-class-exercise (20 points in total, 3/16/2021)**"
      ]
    },
    {
      "cell_type": "markdown",
      "metadata": {
        "id": "a8jqQx5x_kAw"
      },
      "source": [
        "Question description: In the last in-class-exercise (exercise-06), you collected the titles of 100 articles about data science, natural language processing, and machine learning. The 100 article titles will be used as the text corpus of this exercise. Perform the following tasks:"
      ]
    },
    {
      "cell_type": "markdown",
      "metadata": {
        "id": "SSgL9Cvz_kAx"
      },
      "source": [
        "## (1) (8 points) Generate K topics by using LDA, the number of topics K should be decided by the coherence score, then summarize what are the topics. You may refer the code here: \n",
        "\n",
        "https://www.machinelearningplus.com/nlp/topic-modeling-gensim-python/"
      ]
    },
    {
      "cell_type": "code",
      "metadata": {
        "colab": {
          "base_uri": "https://localhost:8080/"
        },
        "id": "Rq2xTimdB0ez",
        "outputId": "b03ff3cd-9900-4e45-93a4-4ff0cd54bd52"
      },
      "source": [
        " !pip install pyLDAvis"
      ],
      "execution_count": null,
      "outputs": [
        {
          "output_type": "stream",
          "text": [
            "Collecting pyLDAvis\n",
            "\u001b[?25l  Downloading https://files.pythonhosted.org/packages/24/38/6d81eff34c84c9158d3b7c846bff978ac88b0c2665548941946d3d591158/pyLDAvis-3.2.2.tar.gz (1.7MB)\n",
            "\r\u001b[K     |▏                               | 10kB 15.7MB/s eta 0:00:01\r\u001b[K     |▍                               | 20kB 21.4MB/s eta 0:00:01\r\u001b[K     |▋                               | 30kB 26.2MB/s eta 0:00:01\r\u001b[K     |▉                               | 40kB 16.5MB/s eta 0:00:01\r\u001b[K     |█                               | 51kB 15.8MB/s eta 0:00:01\r\u001b[K     |█▏                              | 61kB 16.2MB/s eta 0:00:01\r\u001b[K     |█▍                              | 71kB 10.2MB/s eta 0:00:01\r\u001b[K     |█▋                              | 81kB 11.2MB/s eta 0:00:01\r\u001b[K     |█▉                              | 92kB 11.6MB/s eta 0:00:01\r\u001b[K     |██                              | 102kB 11.3MB/s eta 0:00:01\r\u001b[K     |██▏                             | 112kB 11.3MB/s eta 0:00:01\r\u001b[K     |██▍                             | 122kB 11.3MB/s eta 0:00:01\r\u001b[K     |██▋                             | 133kB 11.3MB/s eta 0:00:01\r\u001b[K     |██▉                             | 143kB 11.3MB/s eta 0:00:01\r\u001b[K     |███                             | 153kB 11.3MB/s eta 0:00:01\r\u001b[K     |███▏                            | 163kB 11.3MB/s eta 0:00:01\r\u001b[K     |███▍                            | 174kB 11.3MB/s eta 0:00:01\r\u001b[K     |███▋                            | 184kB 11.3MB/s eta 0:00:01\r\u001b[K     |███▊                            | 194kB 11.3MB/s eta 0:00:01\r\u001b[K     |████                            | 204kB 11.3MB/s eta 0:00:01\r\u001b[K     |████▏                           | 215kB 11.3MB/s eta 0:00:01\r\u001b[K     |████▍                           | 225kB 11.3MB/s eta 0:00:01\r\u001b[K     |████▋                           | 235kB 11.3MB/s eta 0:00:01\r\u001b[K     |████▊                           | 245kB 11.3MB/s eta 0:00:01\r\u001b[K     |█████                           | 256kB 11.3MB/s eta 0:00:01\r\u001b[K     |█████▏                          | 266kB 11.3MB/s eta 0:00:01\r\u001b[K     |█████▍                          | 276kB 11.3MB/s eta 0:00:01\r\u001b[K     |█████▋                          | 286kB 11.3MB/s eta 0:00:01\r\u001b[K     |█████▊                          | 296kB 11.3MB/s eta 0:00:01\r\u001b[K     |██████                          | 307kB 11.3MB/s eta 0:00:01\r\u001b[K     |██████▏                         | 317kB 11.3MB/s eta 0:00:01\r\u001b[K     |██████▍                         | 327kB 11.3MB/s eta 0:00:01\r\u001b[K     |██████▌                         | 337kB 11.3MB/s eta 0:00:01\r\u001b[K     |██████▊                         | 348kB 11.3MB/s eta 0:00:01\r\u001b[K     |███████                         | 358kB 11.3MB/s eta 0:00:01\r\u001b[K     |███████▏                        | 368kB 11.3MB/s eta 0:00:01\r\u001b[K     |███████▍                        | 378kB 11.3MB/s eta 0:00:01\r\u001b[K     |███████▌                        | 389kB 11.3MB/s eta 0:00:01\r\u001b[K     |███████▊                        | 399kB 11.3MB/s eta 0:00:01\r\u001b[K     |████████                        | 409kB 11.3MB/s eta 0:00:01\r\u001b[K     |████████▏                       | 419kB 11.3MB/s eta 0:00:01\r\u001b[K     |████████▍                       | 430kB 11.3MB/s eta 0:00:01\r\u001b[K     |████████▌                       | 440kB 11.3MB/s eta 0:00:01\r\u001b[K     |████████▊                       | 450kB 11.3MB/s eta 0:00:01\r\u001b[K     |█████████                       | 460kB 11.3MB/s eta 0:00:01\r\u001b[K     |█████████▏                      | 471kB 11.3MB/s eta 0:00:01\r\u001b[K     |█████████▎                      | 481kB 11.3MB/s eta 0:00:01\r\u001b[K     |█████████▌                      | 491kB 11.3MB/s eta 0:00:01\r\u001b[K     |█████████▊                      | 501kB 11.3MB/s eta 0:00:01\r\u001b[K     |██████████                      | 512kB 11.3MB/s eta 0:00:01\r\u001b[K     |██████████▏                     | 522kB 11.3MB/s eta 0:00:01\r\u001b[K     |██████████▎                     | 532kB 11.3MB/s eta 0:00:01\r\u001b[K     |██████████▌                     | 542kB 11.3MB/s eta 0:00:01\r\u001b[K     |██████████▊                     | 552kB 11.3MB/s eta 0:00:01\r\u001b[K     |███████████                     | 563kB 11.3MB/s eta 0:00:01\r\u001b[K     |███████████▏                    | 573kB 11.3MB/s eta 0:00:01\r\u001b[K     |███████████▎                    | 583kB 11.3MB/s eta 0:00:01\r\u001b[K     |███████████▌                    | 593kB 11.3MB/s eta 0:00:01\r\u001b[K     |███████████▊                    | 604kB 11.3MB/s eta 0:00:01\r\u001b[K     |████████████                    | 614kB 11.3MB/s eta 0:00:01\r\u001b[K     |████████████                    | 624kB 11.3MB/s eta 0:00:01\r\u001b[K     |████████████▎                   | 634kB 11.3MB/s eta 0:00:01\r\u001b[K     |████████████▌                   | 645kB 11.3MB/s eta 0:00:01\r\u001b[K     |████████████▊                   | 655kB 11.3MB/s eta 0:00:01\r\u001b[K     |█████████████                   | 665kB 11.3MB/s eta 0:00:01\r\u001b[K     |█████████████                   | 675kB 11.3MB/s eta 0:00:01\r\u001b[K     |█████████████▎                  | 686kB 11.3MB/s eta 0:00:01\r\u001b[K     |█████████████▌                  | 696kB 11.3MB/s eta 0:00:01\r\u001b[K     |█████████████▊                  | 706kB 11.3MB/s eta 0:00:01\r\u001b[K     |██████████████                  | 716kB 11.3MB/s eta 0:00:01\r\u001b[K     |██████████████                  | 727kB 11.3MB/s eta 0:00:01\r\u001b[K     |██████████████▎                 | 737kB 11.3MB/s eta 0:00:01\r\u001b[K     |██████████████▌                 | 747kB 11.3MB/s eta 0:00:01\r\u001b[K     |██████████████▊                 | 757kB 11.3MB/s eta 0:00:01\r\u001b[K     |██████████████▉                 | 768kB 11.3MB/s eta 0:00:01\r\u001b[K     |███████████████                 | 778kB 11.3MB/s eta 0:00:01\r\u001b[K     |███████████████▎                | 788kB 11.3MB/s eta 0:00:01\r\u001b[K     |███████████████▌                | 798kB 11.3MB/s eta 0:00:01\r\u001b[K     |███████████████▊                | 808kB 11.3MB/s eta 0:00:01\r\u001b[K     |███████████████▉                | 819kB 11.3MB/s eta 0:00:01\r\u001b[K     |████████████████                | 829kB 11.3MB/s eta 0:00:01\r\u001b[K     |████████████████▎               | 839kB 11.3MB/s eta 0:00:01\r\u001b[K     |████████████████▌               | 849kB 11.3MB/s eta 0:00:01\r\u001b[K     |████████████████▊               | 860kB 11.3MB/s eta 0:00:01\r\u001b[K     |████████████████▉               | 870kB 11.3MB/s eta 0:00:01\r\u001b[K     |█████████████████               | 880kB 11.3MB/s eta 0:00:01\r\u001b[K     |█████████████████▎              | 890kB 11.3MB/s eta 0:00:01\r\u001b[K     |█████████████████▌              | 901kB 11.3MB/s eta 0:00:01\r\u001b[K     |█████████████████▋              | 911kB 11.3MB/s eta 0:00:01\r\u001b[K     |█████████████████▉              | 921kB 11.3MB/s eta 0:00:01\r\u001b[K     |██████████████████              | 931kB 11.3MB/s eta 0:00:01\r\u001b[K     |██████████████████▎             | 942kB 11.3MB/s eta 0:00:01\r\u001b[K     |██████████████████▌             | 952kB 11.3MB/s eta 0:00:01\r\u001b[K     |██████████████████▋             | 962kB 11.3MB/s eta 0:00:01\r\u001b[K     |██████████████████▉             | 972kB 11.3MB/s eta 0:00:01\r\u001b[K     |███████████████████             | 983kB 11.3MB/s eta 0:00:01\r\u001b[K     |███████████████████▎            | 993kB 11.3MB/s eta 0:00:01\r\u001b[K     |███████████████████▌            | 1.0MB 11.3MB/s eta 0:00:01\r\u001b[K     |███████████████████▋            | 1.0MB 11.3MB/s eta 0:00:01\r\u001b[K     |███████████████████▉            | 1.0MB 11.3MB/s eta 0:00:01\r\u001b[K     |████████████████████            | 1.0MB 11.3MB/s eta 0:00:01\r\u001b[K     |████████████████████▎           | 1.0MB 11.3MB/s eta 0:00:01\r\u001b[K     |████████████████████▍           | 1.1MB 11.3MB/s eta 0:00:01\r\u001b[K     |████████████████████▋           | 1.1MB 11.3MB/s eta 0:00:01\r\u001b[K     |████████████████████▉           | 1.1MB 11.3MB/s eta 0:00:01\r\u001b[K     |█████████████████████           | 1.1MB 11.3MB/s eta 0:00:01\r\u001b[K     |█████████████████████▎          | 1.1MB 11.3MB/s eta 0:00:01\r\u001b[K     |█████████████████████▍          | 1.1MB 11.3MB/s eta 0:00:01\r\u001b[K     |█████████████████████▋          | 1.1MB 11.3MB/s eta 0:00:01\r\u001b[K     |█████████████████████▉          | 1.1MB 11.3MB/s eta 0:00:01\r\u001b[K     |██████████████████████          | 1.1MB 11.3MB/s eta 0:00:01\r\u001b[K     |██████████████████████▎         | 1.1MB 11.3MB/s eta 0:00:01\r\u001b[K     |██████████████████████▍         | 1.2MB 11.3MB/s eta 0:00:01\r\u001b[K     |██████████████████████▋         | 1.2MB 11.3MB/s eta 0:00:01\r\u001b[K     |██████████████████████▉         | 1.2MB 11.3MB/s eta 0:00:01\r\u001b[K     |███████████████████████         | 1.2MB 11.3MB/s eta 0:00:01\r\u001b[K     |███████████████████████▏        | 1.2MB 11.3MB/s eta 0:00:01\r\u001b[K     |███████████████████████▍        | 1.2MB 11.3MB/s eta 0:00:01\r\u001b[K     |███████████████████████▋        | 1.2MB 11.3MB/s eta 0:00:01\r\u001b[K     |███████████████████████▉        | 1.2MB 11.3MB/s eta 0:00:01\r\u001b[K     |████████████████████████        | 1.2MB 11.3MB/s eta 0:00:01\r\u001b[K     |████████████████████████▏       | 1.2MB 11.3MB/s eta 0:00:01\r\u001b[K     |████████████████████████▍       | 1.3MB 11.3MB/s eta 0:00:01\r\u001b[K     |████████████████████████▋       | 1.3MB 11.3MB/s eta 0:00:01\r\u001b[K     |████████████████████████▉       | 1.3MB 11.3MB/s eta 0:00:01\r\u001b[K     |█████████████████████████       | 1.3MB 11.3MB/s eta 0:00:01\r\u001b[K     |█████████████████████████▏      | 1.3MB 11.3MB/s eta 0:00:01\r\u001b[K     |█████████████████████████▍      | 1.3MB 11.3MB/s eta 0:00:01\r\u001b[K     |█████████████████████████▋      | 1.3MB 11.3MB/s eta 0:00:01\r\u001b[K     |█████████████████████████▉      | 1.3MB 11.3MB/s eta 0:00:01\r\u001b[K     |██████████████████████████      | 1.3MB 11.3MB/s eta 0:00:01\r\u001b[K     |██████████████████████████▏     | 1.4MB 11.3MB/s eta 0:00:01\r\u001b[K     |██████████████████████████▍     | 1.4MB 11.3MB/s eta 0:00:01\r\u001b[K     |██████████████████████████▋     | 1.4MB 11.3MB/s eta 0:00:01\r\u001b[K     |██████████████████████████▉     | 1.4MB 11.3MB/s eta 0:00:01\r\u001b[K     |███████████████████████████     | 1.4MB 11.3MB/s eta 0:00:01\r\u001b[K     |███████████████████████████▏    | 1.4MB 11.3MB/s eta 0:00:01\r\u001b[K     |███████████████████████████▍    | 1.4MB 11.3MB/s eta 0:00:01\r\u001b[K     |███████████████████████████▋    | 1.4MB 11.3MB/s eta 0:00:01\r\u001b[K     |███████████████████████████▉    | 1.4MB 11.3MB/s eta 0:00:01\r\u001b[K     |████████████████████████████    | 1.4MB 11.3MB/s eta 0:00:01\r\u001b[K     |████████████████████████████▏   | 1.5MB 11.3MB/s eta 0:00:01\r\u001b[K     |████████████████████████████▍   | 1.5MB 11.3MB/s eta 0:00:01\r\u001b[K     |████████████████████████████▋   | 1.5MB 11.3MB/s eta 0:00:01\r\u001b[K     |████████████████████████████▊   | 1.5MB 11.3MB/s eta 0:00:01\r\u001b[K     |█████████████████████████████   | 1.5MB 11.3MB/s eta 0:00:01\r\u001b[K     |█████████████████████████████▏  | 1.5MB 11.3MB/s eta 0:00:01\r\u001b[K     |█████████████████████████████▍  | 1.5MB 11.3MB/s eta 0:00:01\r\u001b[K     |█████████████████████████████▋  | 1.5MB 11.3MB/s eta 0:00:01\r\u001b[K     |█████████████████████████████▊  | 1.5MB 11.3MB/s eta 0:00:01\r\u001b[K     |██████████████████████████████  | 1.5MB 11.3MB/s eta 0:00:01\r\u001b[K     |██████████████████████████████▏ | 1.6MB 11.3MB/s eta 0:00:01\r\u001b[K     |██████████████████████████████▍ | 1.6MB 11.3MB/s eta 0:00:01\r\u001b[K     |██████████████████████████████▋ | 1.6MB 11.3MB/s eta 0:00:01\r\u001b[K     |██████████████████████████████▊ | 1.6MB 11.3MB/s eta 0:00:01\r\u001b[K     |███████████████████████████████ | 1.6MB 11.3MB/s eta 0:00:01\r\u001b[K     |███████████████████████████████▏| 1.6MB 11.3MB/s eta 0:00:01\r\u001b[K     |███████████████████████████████▍| 1.6MB 11.3MB/s eta 0:00:01\r\u001b[K     |███████████████████████████████▌| 1.6MB 11.3MB/s eta 0:00:01\r\u001b[K     |███████████████████████████████▊| 1.6MB 11.3MB/s eta 0:00:01\r\u001b[K     |████████████████████████████████| 1.6MB 11.3MB/s eta 0:00:01\r\u001b[K     |████████████████████████████████| 1.7MB 11.3MB/s \n",
            "\u001b[?25hRequirement already satisfied: wheel>=0.23.0 in /usr/local/lib/python3.7/dist-packages (from pyLDAvis) (0.36.2)\n",
            "Requirement already satisfied: numpy>=1.9.2 in /usr/local/lib/python3.7/dist-packages (from pyLDAvis) (1.19.5)\n",
            "Requirement already satisfied: scipy>=0.18.0 in /usr/local/lib/python3.7/dist-packages (from pyLDAvis) (1.4.1)\n",
            "Requirement already satisfied: joblib>=0.8.4 in /usr/local/lib/python3.7/dist-packages (from pyLDAvis) (1.0.1)\n",
            "Requirement already satisfied: jinja2>=2.7.2 in /usr/local/lib/python3.7/dist-packages (from pyLDAvis) (2.11.3)\n",
            "Requirement already satisfied: numexpr in /usr/local/lib/python3.7/dist-packages (from pyLDAvis) (2.7.3)\n",
            "Requirement already satisfied: future in /usr/local/lib/python3.7/dist-packages (from pyLDAvis) (0.16.0)\n",
            "Collecting funcy\n",
            "  Downloading https://files.pythonhosted.org/packages/66/89/479de0afbbfb98d1c4b887936808764627300208bb771fcd823403645a36/funcy-1.15-py2.py3-none-any.whl\n",
            "Requirement already satisfied: pandas>=0.17.0 in /usr/local/lib/python3.7/dist-packages (from pyLDAvis) (1.1.5)\n",
            "Requirement already satisfied: MarkupSafe>=0.23 in /usr/local/lib/python3.7/dist-packages (from jinja2>=2.7.2->pyLDAvis) (1.1.1)\n",
            "Requirement already satisfied: pytz>=2017.2 in /usr/local/lib/python3.7/dist-packages (from pandas>=0.17.0->pyLDAvis) (2018.9)\n",
            "Requirement already satisfied: python-dateutil>=2.7.3 in /usr/local/lib/python3.7/dist-packages (from pandas>=0.17.0->pyLDAvis) (2.8.1)\n",
            "Requirement already satisfied: six>=1.5 in /usr/local/lib/python3.7/dist-packages (from python-dateutil>=2.7.3->pandas>=0.17.0->pyLDAvis) (1.15.0)\n",
            "Building wheels for collected packages: pyLDAvis\n",
            "  Building wheel for pyLDAvis (setup.py) ... \u001b[?25l\u001b[?25hdone\n",
            "  Created wheel for pyLDAvis: filename=pyLDAvis-3.2.2-py2.py3-none-any.whl size=135593 sha256=8e128c08942b9aa9703260f84f622c8bc8e844848b94f764928e94ba95b4b4fd\n",
            "  Stored in directory: /root/.cache/pip/wheels/74/df/b6/97234c8446a43be05c9a8687ee0db1f1b5ade5f27729187eae\n",
            "Successfully built pyLDAvis\n",
            "Installing collected packages: funcy, pyLDAvis\n",
            "Successfully installed funcy-1.15 pyLDAvis-3.2.2\n"
          ],
          "name": "stdout"
        }
      ]
    },
    {
      "cell_type": "code",
      "metadata": {
        "colab": {
          "base_uri": "https://localhost:8080/"
        },
        "id": "VV9KOLivB_O_",
        "outputId": "648d88c4-c7d1-4599-8478-a63b8bc7a5a5"
      },
      "source": [
        "# Run in python console\n",
        "import nltk; nltk.download('stopwords')\n"
      ],
      "execution_count": null,
      "outputs": [
        {
          "output_type": "stream",
          "text": [
            "[nltk_data] Downloading package stopwords to /root/nltk_data...\n",
            "[nltk_data]   Unzipping corpora/stopwords.zip.\n"
          ],
          "name": "stdout"
        },
        {
          "output_type": "execute_result",
          "data": {
            "text/plain": [
              "True"
            ]
          },
          "metadata": {
            "tags": []
          },
          "execution_count": 5
        }
      ]
    },
    {
      "cell_type": "code",
      "metadata": {
        "colab": {
          "base_uri": "https://localhost:8080/"
        },
        "id": "c_cqDDTv_kAy",
        "outputId": "64490846-187d-44ba-9851-ca10c852f1d6"
      },
      "source": [
        "# Write your code here\n",
        "import re\n",
        "import numpy as np\n",
        "import pandas as pd\n",
        "from pprint import pprint\n",
        "\n",
        "# Gensim\n",
        "import gensim\n",
        "import gensim.corpora as corpora\n",
        "from gensim.utils import simple_preprocess\n",
        "from gensim.models import CoherenceModel\n",
        "\n",
        "# spacy for lemmatization\n",
        "import spacy\n",
        "\n",
        "# Plotting tools\n",
        "import pyLDAvis\n",
        "import pyLDAvis.gensim  # don't skip this\n",
        "import matplotlib.pyplot as plt\n",
        "%matplotlib inline\n",
        "\n",
        "# Enable logging for gensim - optional\n",
        "import logging\n",
        "logging.basicConfig(format='%(asctime)s : %(levelname)s : %(message)s', level=logging.ERROR)\n",
        "\n",
        "import warnings\n",
        "warnings.filterwarnings(\"ignore\",category=DeprecationWarning)\n",
        "\n"
      ],
      "execution_count": null,
      "outputs": [
        {
          "output_type": "stream",
          "text": [
            "/usr/local/lib/python3.7/dist-packages/past/types/oldstr.py:5: DeprecationWarning: Using or importing the ABCs from 'collections' instead of from 'collections.abc' is deprecated since Python 3.3,and in 3.9 it will stop working\n",
            "  from collections import Iterable\n"
          ],
          "name": "stderr"
        }
      ]
    },
    {
      "cell_type": "code",
      "metadata": {
        "colab": {
          "base_uri": "https://localhost:8080/",
          "height": 402
        },
        "id": "jvI9VxoaCL12",
        "outputId": "c165996a-5c2e-4b97-ae19-ba758544ad56"
      },
      "source": [
        "\n",
        "# Write your code here\n",
        "\n",
        "import pandas as pd\n",
        "import requests\n",
        "from bs4 import BeautifulSoup\n",
        "def insert_into_array(values,ref_array):\n",
        "  for i in values:\n",
        "    ref_array.append(i.text)\n",
        "titles=[]\n",
        "for i in range(0,100,10):\n",
        "  URL=\"http://citeseerx.ist.psu.edu/search?q=machine+learning+%2B+datascience+%2B+natural+language+processing&t=doc&sort=rlv&start=\"+str(i)\n",
        "  page=requests.get(URL,headers={'User-Agent':'Chrome/85.0.4183.121'})\n",
        "  soup = BeautifulSoup(page.content, 'html.parser')\n",
        "  insert_into_array(soup.find_all('a', class_='remove doc_details'),titles)\n",
        "df = pd.DataFrame (titles,columns=['titles'])\n",
        "df"
      ],
      "execution_count": null,
      "outputs": [
        {
          "output_type": "execute_result",
          "data": {
            "text/html": [
              "<div>\n",
              "<style scoped>\n",
              "    .dataframe tbody tr th:only-of-type {\n",
              "        vertical-align: middle;\n",
              "    }\n",
              "\n",
              "    .dataframe tbody tr th {\n",
              "        vertical-align: top;\n",
              "    }\n",
              "\n",
              "    .dataframe thead th {\n",
              "        text-align: right;\n",
              "    }\n",
              "</style>\n",
              "<table border=\"1\" class=\"dataframe\">\n",
              "  <thead>\n",
              "    <tr style=\"text-align: right;\">\n",
              "      <th></th>\n",
              "      <th>titles</th>\n",
              "    </tr>\n",
              "  </thead>\n",
              "  <tbody>\n",
              "    <tr>\n",
              "      <th>0</th>\n",
              "      <td>\\n                  Hierarchical Bayesian Infe...</td>\n",
              "    </tr>\n",
              "    <tr>\n",
              "      <th>1</th>\n",
              "      <td>\\n                  Behavioral theories and th...</td>\n",
              "    </tr>\n",
              "    <tr>\n",
              "      <th>2</th>\n",
              "      <td>\\n                  representations and scalab...</td>\n",
              "    </tr>\n",
              "    <tr>\n",
              "      <th>3</th>\n",
              "      <td>\\n                  Chklovskii D.B.: Machine l...</td>\n",
              "    </tr>\n",
              "    <tr>\n",
              "      <th>4</th>\n",
              "      <td>\\n                  Corpus-based learning of a...</td>\n",
              "    </tr>\n",
              "    <tr>\n",
              "      <th>...</th>\n",
              "      <td>...</td>\n",
              "    </tr>\n",
              "    <tr>\n",
              "      <th>95</th>\n",
              "      <td>\\n                  von\\n</td>\n",
              "    </tr>\n",
              "    <tr>\n",
              "      <th>96</th>\n",
              "      <td>\\n                  Journal of Physics: Confer...</td>\n",
              "    </tr>\n",
              "    <tr>\n",
              "      <th>97</th>\n",
              "      <td>\\n                  Automatic program repair w...</td>\n",
              "    </tr>\n",
              "    <tr>\n",
              "      <th>98</th>\n",
              "      <td>\\n                  Authentic game-based learn...</td>\n",
              "    </tr>\n",
              "    <tr>\n",
              "      <th>99</th>\n",
              "      <td>\\n                  List of Tables...............</td>\n",
              "    </tr>\n",
              "  </tbody>\n",
              "</table>\n",
              "<p>100 rows × 1 columns</p>\n",
              "</div>"
            ],
            "text/plain": [
              "                                               titles\n",
              "0   \\n                  Hierarchical Bayesian Infe...\n",
              "1   \\n                  Behavioral theories and th...\n",
              "2   \\n                  representations and scalab...\n",
              "3   \\n                  Chklovskii D.B.: Machine l...\n",
              "4   \\n                  Corpus-based learning of a...\n",
              "..                                                ...\n",
              "95        \\n                  von\\n                  \n",
              "96  \\n                  Journal of Physics: Confer...\n",
              "97  \\n                  Automatic program repair w...\n",
              "98  \\n                  Authentic game-based learn...\n",
              "99  \\n                  List of Tables...............\n",
              "\n",
              "[100 rows x 1 columns]"
            ]
          },
          "metadata": {
            "tags": []
          },
          "execution_count": 14
        }
      ]
    },
    {
      "cell_type": "code",
      "metadata": {
        "colab": {
          "base_uri": "https://localhost:8080/"
        },
        "id": "58Ri0dEOCfg-",
        "outputId": "0b5e1d8e-dd23-4151-e772-fe20943f148a"
      },
      "source": [
        "from nltk.corpus import stopwords\n",
        "stop_words = stopwords.words('english')\n",
        "stop_words.extend(['from', 'subject', 're', 'edu', 'use'])\n",
        "def sent_to_words(sentences):\n",
        "    for sentence in sentences:\n",
        "        yield(gensim.utils.simple_preprocess(str(sentence), deacc=True))  # deacc=True removes punctuations\n",
        "\n",
        "data_words = list(sent_to_words(titles))\n",
        "bigram = gensim.models.Phrases(data_words, min_count=5, threshold=100) # higher threshold fewer phrases.\n",
        "bigram_mod = gensim.models.phrases.Phraser(bigram)\n",
        "\n",
        "print(data_words[:1])\n",
        "def remove_stopwords(texts):\n",
        "    return [[word for word in simple_preprocess(str(doc)) if word not in stop_words] for doc in texts]\n",
        "def lemmatization(texts, allowed_postags=['NOUN', 'ADJ', 'VERB', 'ADV']):\n",
        "    \"\"\"https://spacy.io/api/annotation\"\"\"\n",
        "    texts_out = []\n",
        "    for sent in texts:\n",
        "        doc = nlp(\" \".join(sent)) \n",
        "        texts_out.append([token.lemma_ for token in doc if token.pos_ in allowed_postags])\n",
        "    return texts_out\n",
        "def make_bigrams(texts):\n",
        "    return [bigram_mod[doc] for doc in texts]\n",
        "data_words_nostops = remove_stopwords(data_words)\n",
        "data_words_bigrams = make_bigrams(data_words_nostops)\n",
        "\n",
        "# Initialize spacy 'en' model, keeping only tagger component (for efficiency)\n",
        "# python3 -m spacy download en\n",
        "nlp = spacy.load('en', disable=['parser', 'ner'])\n",
        "data_lemmatized = lemmatization(data_words_bigrams, allowed_postags=['NOUN', 'ADJ', 'VERB', 'ADV'])\n",
        "\n",
        "print(data_lemmatized[:1])\n",
        "id2word = corpora.Dictionary(data_lemmatized)\n",
        "\n",
        "# Create Corpus\n",
        "texts = data_lemmatized\n",
        "\n",
        "# Term Document Frequency\n",
        "corpus = [id2word.doc2bow(text) for text in texts]\n",
        "\n",
        "# View\n",
        "print(corpus[:1])\n",
        "lda_model = gensim.models.ldamodel.LdaModel(corpus=corpus,\n",
        "                                           id2word=id2word,\n",
        "                                           num_topics=20, \n",
        "                                           random_state=100,\n",
        "                                           update_every=1,\n",
        "                                           chunksize=100,\n",
        "                                           passes=10,\n",
        "                                           alpha='auto',\n",
        "                                           per_word_topics=True)\n",
        "pprint(lda_model.print_topics())\n",
        "doc_lda = lda_model[corpus]"
      ],
      "execution_count": null,
      "outputs": [
        {
          "output_type": "stream",
          "text": [
            "[['hierarchical', 'bayesian', 'inference', 'in', 'the', 'visual', 'cortex']]\n",
            "[['hierarchical', 'bayesian', 'inference', 'cortex']]\n",
            "[[(0, 1), (1, 1), (2, 1), (3, 1)]]\n",
            "[(0,\n",
            "  '0.034*\"cryptographic\" + 0.034*\"image\" + 0.034*\"microscope\" + '\n",
            "  '0.034*\"segmentation\" + 0.034*\"logic\" + 0.034*\"theoretical\" + '\n",
            "  '0.034*\"protocol\" + 0.034*\"election\" + 0.034*\"fluorescence\" + '\n",
            "  '0.034*\"friendship\"'),\n",
            " (1,\n",
            "  '0.166*\"unknown\" + 0.166*\"title\" + 0.002*\"solution\" + 0.002*\"exception\" + '\n",
            "  '0.002*\"event\" + 0.002*\"weighted\" + 0.002*\"environment\" + 0.002*\"business\" + '\n",
            "  '0.002*\"agent\" + 0.002*\"provision\"'),\n",
            " (2,\n",
            "  '0.040*\"machine\" + 0.040*\"cluster\" + 0.040*\"literacy\" + 0.040*\"classroom\" + '\n",
            "  '0.040*\"segment\" + 0.040*\"learn\" + 0.040*\"image\" + 0.040*\"assessment\" + '\n",
            "  '0.040*\"language\" + 0.040*\"hierarchical\"'),\n",
            " (3,\n",
            "  '0.031*\"language\" + 0.031*\"text\" + 0.031*\"clinical\" + 0.016*\"research\" + '\n",
            "  '0.016*\"trail\" + 0.016*\"interscience\" + 0.016*\"debate\" + 0.016*\"third\" + '\n",
            "  '0.016*\"automating\" + 0.016*\"page\"'),\n",
            " (4,\n",
            "  '0.045*\"language\" + 0.023*\"artificial\" + 0.023*\"task\" + 0.023*\"proposal\" + '\n",
            "  '0.023*\"natural\" + 0.023*\"child\" + 0.023*\"learn\" + 0.023*\"complex\" + '\n",
            "  '0.023*\"computing\" + 0.023*\"group\"'),\n",
            " (5,\n",
            "  '0.033*\"com\" + 0.033*\"system\" + 0.033*\"model\" + 0.017*\"language\" + '\n",
            "  '0.017*\"expressive\" + 0.017*\"query\" + 0.017*\"publish\" + 0.017*\"icdt\" + '\n",
            "  '0.017*\"highly\" + 0.017*\"cortex\"'),\n",
            " (6,\n",
            "  '0.106*\"computer\" + 0.053*\"synthesis\" + 0.053*\"datacenter\" + 0.053*\"design\" '\n",
            "  '+ 0.053*\"introduction\" + 0.053*\"editor\" + 0.053*\"lecture\" + '\n",
            "  '0.053*\"machinesiii\" + 0.053*\"scale\" + 0.053*\"warehouse\"'),\n",
            " (7,\n",
            "  '0.036*\"docteur\" + 0.036*\"reality\" + 0.036*\"understand\" + 0.036*\"machine\" + '\n",
            "  '0.036*\"transparent\" + 0.036*\"simulation\" + 0.036*\"constant\" + 0.036*\"table\" '\n",
            "  '+ 0.036*\"enhance\" + 0.036*\"list\"'),\n",
            " (8,\n",
            "  '0.047*\"knowledge\" + 0.047*\"acknowledgment\" + 0.047*\"description\" + '\n",
            "  '0.047*\"logic\" + 0.047*\"action\" + 0.047*\"basis\" + 0.002*\"agent\" + '\n",
            "  '0.002*\"solution\" + 0.002*\"provision\" + 0.002*\"business\"'),\n",
            " (9,\n",
            "  '0.036*\"security\" + 0.036*\"exception\" + 0.036*\"spectrum\" + 0.036*\"unify\" + '\n",
            "  '0.036*\"solution\" + 0.036*\"approach\" + 0.036*\"handling\" + 0.036*\"sense\" + '\n",
            "  '0.036*\"par\" + 0.036*\"cognitive\"'),\n",
            " (10,\n",
            "  '0.028*\"subtitle\" + 0.028*\"yyyy\" + 0.028*\"semantic\" + 0.028*\"relation\" + '\n",
            "  '0.028*\"base\" + 0.028*\"analogie\" + 0.028*\"statistical\" + 0.028*\"regularize\" '\n",
            "  '+ 0.028*\"matrix\" + 0.028*\"report\"'),\n",
            " (11,\n",
            "  '0.049*\"learn\" + 0.049*\"quantum\" + 0.049*\"rough\" + 0.025*\"japanese\" + '\n",
            "  '0.025*\"child\" + 0.025*\"channel\" + 0.025*\"study\" + 0.025*\"classical\" + '\n",
            "  '0.025*\"simultaneous\" + 0.025*\"multiple\"'),\n",
            " (12,\n",
            "  '0.066*\"system\" + 0.044*\"generation\" + 0.044*\"term\" + 0.023*\"reduction\" + '\n",
            "  '0.023*\"derivative\" + 0.023*\"creative\" + 0.023*\"uncertainty\" + '\n",
            "  '0.023*\"scenario\" + 0.023*\"short\" + 0.023*\"planning\"'),\n",
            " (13,\n",
            "  '0.053*\"content\" + 0.027*\"completion\" + 0.027*\"dictionary\" + '\n",
            "  '0.027*\"identifiability\" + 0.027*\"minimisation\" + 0.027*\"overcomplete\" + '\n",
            "  '0.027*\"principle\" + 0.027*\"underlie\" + 0.027*\"information\" + '\n",
            "  '0.027*\"factor\"'),\n",
            " (14,\n",
            "  '0.040*\"context\" + 0.040*\"change\" + 0.040*\"language\" + 0.021*\"bit\" + '\n",
            "  '0.021*\"compressive\" + 0.021*\"rate\" + 0.021*\"depth\" + 0.021*\"sampling\" + '\n",
            "  '0.021*\"statistical\" + 0.021*\"activity\"'),\n",
            " (15,\n",
            "  '0.076*\"resource\" + 0.076*\"language\" + 0.026*\"classification\" + '\n",
            "  '0.026*\"clinical\" + 0.026*\"assertion\" + 0.026*\"status\" + 0.026*\"standard\" + '\n",
            "  '0.026*\"short\" + 0.026*\"term\" + 0.026*\"case\"'),\n",
            " (16,\n",
            "  '0.045*\"analysis\" + 0.045*\"port\" + 0.045*\"list\" + 0.045*\"kernel\" + '\n",
            "  '0.045*\"discriminant\" + 0.045*\"publication\" + 0.045*\"vector\" + '\n",
            "  '0.002*\"weighted\" + 0.002*\"business\" + 0.002*\"provision\"'),\n",
            " (17,\n",
            "  '0.082*\"language\" + 0.055*\"accept\" + 0.028*\"foreign\" + 0.028*\"learner\" + '\n",
            "  '0.028*\"anxiety\" + 0.028*\"difference\" + 0.028*\"mobile\" + 0.028*\"technology\" '\n",
            "  '+ 0.028*\"group\" + 0.028*\"listening\"'),\n",
            " (18,\n",
            "  '0.055*\"object\" + 0.055*\"representation\" + 0.028*\"chase\" + 0.028*\"user\" + '\n",
            "  '0.028*\"comparison\" + 0.028*\"system\" + 0.028*\"learner\" + '\n",
            "  '0.028*\"optimization\" + 0.028*\"learn\" + 0.028*\"friendly\"'),\n",
            " (19,\n",
            "  '0.045*\"theory\" + 0.045*\"practical\" + 0.045*\"title\" + 0.045*\"network\" + '\n",
            "  '0.045*\"sensor\" + 0.045*\"solar\" + 0.045*\"power\" + 0.002*\"event\" + '\n",
            "  '0.002*\"high\" + 0.002*\"weighted\"')]\n"
          ],
          "name": "stdout"
        }
      ]
    },
    {
      "cell_type": "markdown",
      "metadata": {
        "id": "66TZ0GYi_kAz"
      },
      "source": [
        "## (2) (8 points) Generate K topics by using LSA, the number of topics K should be decided by the coherence score, then summarize what are the topics. You may refer the code here:\n",
        "\n",
        "https://www.datacamp.com/community/tutorials/discovering-hidden-topics-python"
      ]
    },
    {
      "cell_type": "code",
      "metadata": {
        "id": "_F0Mh-Hv_kAz"
      },
      "source": [
        "# Write your code here\n",
        "import os.path\n",
        "from gensim import corpora\n",
        "from gensim.models import LsiModel\n",
        "from nltk.tokenize import RegexpTokenizer\n",
        "from nltk.corpus import stopwords\n",
        "from nltk.stem.porter import PorterStemmer\n",
        "from gensim.models.coherencemodel import CoherenceModel\n",
        "import matplotlib.pyplot as plt"
      ],
      "execution_count": null,
      "outputs": []
    },
    {
      "cell_type": "code",
      "metadata": {
        "id": "fV3ocjoTCziZ"
      },
      "source": [
        "def preprocess_data(doc_set):\n",
        "    \"\"\"\n",
        "    Input  : docuemnt list\n",
        "    Purpose: preprocess text (tokenize, removing stopwords, and stemming)\n",
        "    Output : preprocessed text\n",
        "    \"\"\"\n",
        "    # initialize regex tokenizer\n",
        "    tokenizer = RegexpTokenizer(r'\\w+')\n",
        "    # create English stop words list\n",
        "    en_stop = set(stopwords.words('english'))\n",
        "    # Create p_stemmer of class PorterStemmer\n",
        "    p_stemmer = PorterStemmer()\n",
        "    # list for tokenized documents in loop\n",
        "    texts = []\n",
        "    # loop through document list\n",
        "    for i in doc_set:\n",
        "        # clean and tokenize document string\n",
        "        raw = i.lower()\n",
        "        tokens = tokenizer.tokenize(raw)\n",
        "        # remove stop words from tokens\n",
        "        stopped_tokens = [i for i in tokens if not i in en_stop]\n",
        "        # stem tokens\n",
        "        stemmed_tokens = [p_stemmer.stem(i) for i in stopped_tokens]\n",
        "        # add tokens to list\n",
        "        texts.append(stemmed_tokens)\n",
        "    return texts\n",
        "def prepare_corpus(doc_clean):\n",
        "    \"\"\"\n",
        "    Input  : clean document\n",
        "    Purpose: create term dictionary of our courpus and Converting list of documents (corpus) into Document Term Matrix\n",
        "    Output : term dictionary and Document Term Matrix\n",
        "    \"\"\"\n",
        "    # Creating the term dictionary of our courpus, where every unique term is assigned an index. dictionary = corpora.Dictionary(doc_clean)\n",
        "    dictionary = corpora.Dictionary(doc_clean)\n",
        "    # Converting list of documents (corpus) into Document Term Matrix using dictionary prepared above.\n",
        "    doc_term_matrix = [dictionary.doc2bow(doc) for doc in doc_clean]\n",
        "    # generate LDA model\n",
        "    return dictionary,doc_term_matrix\n",
        "def create_gensim_lsa_model(doc_clean,number_of_topics,words):\n",
        "    \"\"\"\n",
        "    Input  : clean document, number of topics and number of words associated with each topic\n",
        "    Purpose: create LSA model using gensim\n",
        "    Output : return LSA model\n",
        "    \"\"\"\n",
        "    dictionary,doc_term_matrix=prepare_corpus(doc_clean)\n",
        "    # generate LSA model\n",
        "    lsamodel = LsiModel(doc_term_matrix, num_topics=number_of_topics, id2word = dictionary)  # train model\n",
        "    print(lsamodel.print_topics(num_topics=number_of_topics, num_words=words))\n",
        "    return lsamodel\n",
        "def compute_coherence_values(dictionary, doc_term_matrix, doc_clean, stop, start=2, step=3):\n",
        "    \"\"\"\n",
        "    Input   : dictionary : Gensim dictionary\n",
        "              corpus : Gensim corpus\n",
        "              texts : List of input texts\n",
        "              stop : Max num of topics\n",
        "    purpose : Compute c_v coherence for various number of topics\n",
        "    Output  : model_list : List of LSA topic models\n",
        "              coherence_values : Coherence values corresponding to the LDA model with respective number of topics\n",
        "    \"\"\"\n",
        "    coherence_values = []\n",
        "    model_list = []\n",
        "    for num_topics in range(start, stop, step):\n",
        "      model = LsiModel(doc_term_matrix, num_topics, id2word = dictionary)  # train model\n",
        "      model_list.append(model)\n",
        "      coherencemodel = CoherenceModel(model=model, texts=doc_clean, dictionary=dictionary, coherence='c_v')\n",
        "      coherence_values.append(coherencemodel.get_coherence())\n",
        "    return model_list, coherence_values\n",
        "def plot_graph(doc_clean,start, stop, step):\n",
        "    dictionary,doc_term_matrix=prepare_corpus(doc_clean)\n",
        "    model_list, coherence_values = compute_coherence_values(dictionary, doc_term_matrix,doc_clean,stop, start, step)\n",
        "    # Show graph\n",
        "    x = range(start, stop, step)\n",
        "    plt.plot(x, coherence_values)\n",
        "    plt.xlabel(\"Number of Topics\")\n",
        "    plt.ylabel(\"Coherence score\")\n",
        "    plt.legend((\"coherence_values\"), loc='best')\n",
        "    plt.show()"
      ],
      "execution_count": null,
      "outputs": []
    },
    {
      "cell_type": "code",
      "metadata": {
        "colab": {
          "base_uri": "https://localhost:8080/",
          "height": 279
        },
        "id": "ffHSdvSuC4cI",
        "outputId": "4559f106-9cf1-4f3c-a188-38bd3f7ac943"
      },
      "source": [
        "start,stop,step=2,12,1\n",
        "clean_text=preprocess_data(titles)\n",
        "plot_graph(clean_text,start,stop,step)\n"
      ],
      "execution_count": null,
      "outputs": [
        {
          "output_type": "display_data",
          "data": {
            "image/png": "[encoded data removed]",
            "text/plain": [
              "<Figure size 432x288 with 1 Axes>"
            ]
          },
          "metadata": {
            "tags": [],
            "needs_background": "light"
          }
        }
      ]
    },
    {
      "cell_type": "code",
      "metadata": {
        "colab": {
          "base_uri": "https://localhost:8080/"
        },
        "id": "dONKXPmHC7qW",
        "outputId": "a21a35e0-0ee9-4acf-87ac-4b9ec38b70e2"
      },
      "source": [
        "number_of_topics=5\n",
        "words=10\n",
        "clean_text=preprocess_data(titles)\n",
        "model=create_gensim_lsa_model(clean_text,number_of_topics,words)"
      ],
      "execution_count": null,
      "outputs": [
        {
          "output_type": "stream",
          "text": [
            "[(0, '0.552*\"comput\" + 0.273*\"editor\" + 0.245*\"design\" + 0.238*\"datacent\" + 0.238*\"warehous\" + 0.238*\"synthesi\" + 0.238*\"scale\" + 0.238*\"machinesiii\" + 0.238*\"lectur\" + 0.238*\"introduct\"'), (1, '0.750*\"languag\" + 0.321*\"resourc\" + -0.166*\"comput\" + 0.142*\"manuscript\" + 0.129*\"learn\" + 0.111*\"evalu\" + 0.107*\"creat\" + 0.107*\"methodolog\" + 0.107*\"experi\" + 0.107*\"insert\"'), (2, '-0.511*\"system\" + -0.368*\"model\" + -0.186*\"com\" + -0.186*\"www\" + -0.177*\"event\" + -0.148*\"inform\" + -0.139*\"analysi\" + -0.137*\"public\" + -0.132*\"clinic\" + -0.131*\"driven\"'), (3, '-0.389*\"inform\" + -0.230*\"text\" + -0.220*\"clinic\" + -0.218*\"medic\" + -0.218*\"extract\" + -0.207*\"10\" + 0.190*\"system\" + -0.185*\"assoc\" + -0.185*\"514e18\" + -0.185*\"17\"'), (4, '-0.625*\"learn\" + 0.213*\"model\" + -0.172*\"machin\" + -0.136*\"relat\" + 0.134*\"www\" + 0.134*\"com\" + -0.133*\"base\" + -0.123*\"complex\" + 0.117*\"resourc\" + -0.116*\"scienc\"')]\n"
          ],
          "name": "stdout"
        }
      ]
    },
    {
      "cell_type": "markdown",
      "metadata": {
        "id": "EZIZDD2k_kA0"
      },
      "source": [
        "## (3) (4 points) Compare the results generated by the two topic modeling algorithms, which one is better? You should explain the reasons in details."
      ]
    },
    {
      "cell_type": "code",
      "metadata": {
        "id": "fBiQMVR1_kA0"
      },
      "source": [
        "# Write your answer here (no code needed for this question)"
      ],
      "execution_count": null,
      "outputs": []
    },
    {
      "cell_type": "markdown",
      "metadata": {
        "id": "kPWY-0rfDEHq"
      },
      "source": [
        "LDA has 19 topic models while LSA has 5 topic models, though bag of words in both the models are same there are less dimensions in LSA while compared to LDA. \n",
        "As LSA has only 5 topic models it is faster than LDA. Though the output of both the models are similar both have the preprocessing steps to lemmatize the sentences and LDA is implemented with LDA following diricilet method and LSA is probabilistic manner.\n",
        "\n",
        "\n"
      ]
    },
    {
      "cell_type": "code",
      "metadata": {
        "id": "lGm-12zgDFHH"
      },
      "source": [
        ""
      ],
      "execution_count": null,
      "outputs": []
    }
  ]
}