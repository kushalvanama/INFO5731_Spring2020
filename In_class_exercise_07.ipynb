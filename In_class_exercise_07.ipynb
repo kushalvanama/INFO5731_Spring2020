{
  "nbformat": 4,
  "nbformat_minor": 0,
  "metadata": {
    "kernelspec": {
      "display_name": "Python 3",
      "language": "python",
      "name": "python3"
    },
    "language_info": {
      "codemirror_mode": {
        "name": "ipython",
        "version": 3
      },
      "file_extension": ".py",
      "mimetype": "text/x-python",
      "name": "python",
      "nbconvert_exporter": "python",
      "pygments_lexer": "ipython3",
      "version": "3.8.5"
    },
    "colab": {
      "name": "In_class_exercise_07.ipynb",
      "provenance": [],
      "collapsed_sections": [],
      "include_colab_link": true
    }
  },
  "cells": [
    {
      "cell_type": "markdown",
      "metadata": {
        "id": "view-in-github",
        "colab_type": "text"
      },
      "source": [
        "<a href=\"https://colab.research.google.com/github/kushalvanama/INFO5731_Spring2020/blob/main/In_class_exercise_07.ipynb\" target=\"_parent\"><img src=\"https://colab.research.google.com/assets/colab-badge.svg\" alt=\"Open In Colab\"/></a>"
      ]
    },
    {
      "cell_type": "markdown",
      "metadata": {
        "id": "HkHXoIgp_kAt"
      },
      "source": [
        "# **The seventh in-class-exercise (20 points in total, 3/16/2021)**"
      ]
    },
    {
      "cell_type": "markdown",
      "metadata": {
        "id": "a8jqQx5x_kAw"
      },
      "source": [
        "Question description: In the last in-class-exercise (exercise-06), you collected the titles of 100 articles about data science, natural language processing, and machine learning. The 100 article titles will be used as the text corpus of this exercise. Perform the following tasks:"
      ]
    },
    {
      "cell_type": "markdown",
      "metadata": {
        "id": "SSgL9Cvz_kAx"
      },
      "source": [
        "## (1) (8 points) Generate K topics by using LDA, the number of topics K should be decided by the coherence score, then summarize what are the topics. You may refer the code here: \n",
        "\n",
        "https://www.machinelearningplus.com/nlp/topic-modeling-gensim-python/"
      ]
    },
    {
      "cell_type": "code",
      "metadata": {
        "colab": {
          "base_uri": "https://localhost:8080/"
        },
        "id": "Rq2xTimdB0ez",
        "outputId": "b03ff3cd-9900-4e45-93a4-4ff0cd54bd52"
      },
      "source": [
        " !pip install pyLDAvis"
      ],
      "execution_count": null,
      "outputs": [
        {
          "output_type": "stream",
          "text": [
            "Collecting pyLDAvis\n",
            "\u001b[?25l  Downloading https://files.pythonhosted.org/packages/24/38/6d81eff34c84c9158d3b7c846bff978ac88b0c2665548941946d3d591158/pyLDAvis-3.2.2.tar.gz (1.7MB)\n",
            "\r\u001b[K     |▏                               | 10kB 15.7MB/s eta 0:00:01\r\u001b[K     |▍                               | 20kB 21.4MB/s eta 0:00:01\r\u001b[K     |▋                               | 30kB 26.2MB/s eta 0:00:01\r\u001b[K     |▉                               | 40kB 16.5MB/s eta 0:00:01\r\u001b[K     |█                               | 51kB 15.8MB/s eta 0:00:01\r\u001b[K     |█▏                              | 61kB 16.2MB/s eta 0:00:01\r\u001b[K     |█▍                              | 71kB 10.2MB/s eta 0:00:01\r\u001b[K     |█▋                              | 81kB 11.2MB/s eta 0:00:01\r\u001b[K     |█▉                              | 92kB 11.6MB/s eta 0:00:01\r\u001b[K     |██                              | 102kB 11.3MB/s eta 0:00:01\r\u001b[K     |██▏                             | 112kB 11.3MB/s eta 0:00:01\r\u001b[K     |██▍                             | 122kB 11.3MB/s eta 0:00:01\r\u001b[K     |██▋                             | 133kB 11.3MB/s eta 0:00:01\r\u001b[K     |██▉                             | 143kB 11.3MB/s eta 0:00:01\r\u001b[K     |███                             | 153kB 11.3MB/s eta 0:00:01\r\u001b[K     |███▏                            | 163kB 11.3MB/s eta 0:00:01\r\u001b[K     |███▍                            | 174kB 11.3MB/s eta 0:00:01\r\u001b[K     |███▋                            | 184kB 11.3MB/s eta 0:00:01\r\u001b[K     |███▊                            | 194kB 11.3MB/s eta 0:00:01\r\u001b[K     |████                            | 204kB 11.3MB/s eta 0:00:01\r\u001b[K     |████▏                           | 215kB 11.3MB/s eta 0:00:01\r\u001b[K     |████▍                           | 225kB 11.3MB/s eta 0:00:01\r\u001b[K     |████▋                           | 235kB 11.3MB/s eta 0:00:01\r\u001b[K     |████▊                           | 245kB 11.3MB/s eta 0:00:01\r\u001b[K     |█████                           | 256kB 11.3MB/s eta 0:00:01\r\u001b[K     |█████▏                          | 266kB 11.3MB/s eta 0:00:01\r\u001b[K     |█████▍                          | 276kB 11.3MB/s eta 0:00:01\r\u001b[K     |█████▋                          | 286kB 11.3MB/s eta 0:00:01\r\u001b[K     |█████▊                          | 296kB 11.3MB/s eta 0:00:01\r\u001b[K     |██████                          | 307kB 11.3MB/s eta 0:00:01\r\u001b[K     |██████▏                         | 317kB 11.3MB/s eta 0:00:01\r\u001b[K     |██████▍                         | 327kB 11.3MB/s eta 0:00:01\r\u001b[K     |██████▌                         | 337kB 11.3MB/s eta 0:00:01\r\u001b[K     |██████▊                         | 348kB 11.3MB/s eta 0:00:01\r\u001b[K     |███████                         | 358kB 11.3MB/s eta 0:00:01\r\u001b[K     |███████▏                        | 368kB 11.3MB/s eta 0:00:01\r\u001b[K     |███████▍                        | 378kB 11.3MB/s eta 0:00:01\r\u001b[K     |███████▌                        | 389kB 11.3MB/s eta 0:00:01\r\u001b[K     |███████▊                        | 399kB 11.3MB/s eta 0:00:01\r\u001b[K     |████████                        | 409kB 11.3MB/s eta 0:00:01\r\u001b[K     |████████▏                       | 419kB 11.3MB/s eta 0:00:01\r\u001b[K     |████████▍                       | 430kB 11.3MB/s eta 0:00:01\r\u001b[K     |████████▌                       | 440kB 11.3MB/s eta 0:00:01\r\u001b[K     |████████▊                       | 450kB 11.3MB/s eta 0:00:01\r\u001b[K     |█████████                       | 460kB 11.3MB/s eta 0:00:01\r\u001b[K     |█████████▏                      | 471kB 11.3MB/s eta 0:00:01\r\u001b[K     |█████████▎                      | 481kB 11.3MB/s eta 0:00:01\r\u001b[K     |█████████▌                      | 491kB 11.3MB/s eta 0:00:01\r\u001b[K     |█████████▊                      | 501kB 11.3MB/s eta 0:00:01\r\u001b[K     |██████████                      | 512kB 11.3MB/s eta 0:00:01\r\u001b[K     |██████████▏                     | 522kB 11.3MB/s eta 0:00:01\r\u001b[K     |██████████▎                     | 532kB 11.3MB/s eta 0:00:01\r\u001b[K     |██████████▌                     | 542kB 11.3MB/s eta 0:00:01\r\u001b[K     |██████████▊                     | 552kB 11.3MB/s eta 0:00:01\r\u001b[K     |███████████                     | 563kB 11.3MB/s eta 0:00:01\r\u001b[K     |███████████▏                    | 573kB 11.3MB/s eta 0:00:01\r\u001b[K     |███████████▎                    | 583kB 11.3MB/s eta 0:00:01\r\u001b[K     |███████████▌                    | 593kB 11.3MB/s eta 0:00:01\r\u001b[K     |███████████▊                    | 604kB 11.3MB/s eta 0:00:01\r\u001b[K     |████████████                    | 614kB 11.3MB/s eta 0:00:01\r\u001b[K     |████████████                    | 624kB 11.3MB/s eta 0:00:01\r\u001b[K     |████████████▎                   | 634kB 11.3MB/s eta 0:00:01\r\u001b[K     |████████████▌                   | 645kB 11.3MB/s eta 0:00:01\r\u001b[K     |████████████▊                   | 655kB 11.3MB/s eta 0:00:01\r\u001b[K     |█████████████                   | 665kB 11.3MB/s eta 0:00:01\r\u001b[K     |█████████████                   | 675kB 11.3MB/s eta 0:00:01\r\u001b[K     |█████████████▎                  | 686kB 11.3MB/s eta 0:00:01\r\u001b[K     |█████████████▌                  | 696kB 11.3MB/s eta 0:00:01\r\u001b[K     |█████████████▊                  | 706kB 11.3MB/s eta 0:00:01\r\u001b[K     |██████████████                  | 716kB 11.3MB/s eta 0:00:01\r\u001b[K     |██████████████                  | 727kB 11.3MB/s eta 0:00:01\r\u001b[K     |██████████████▎                 | 737kB 11.3MB/s eta 0:00:01\r\u001b[K     |██████████████▌                 | 747kB 11.3MB/s eta 0:00:01\r\u001b[K     |██████████████▊                 | 757kB 11.3MB/s eta 0:00:01\r\u001b[K     |██████████████▉                 | 768kB 11.3MB/s eta 0:00:01\r\u001b[K     |███████████████                 | 778kB 11.3MB/s eta 0:00:01\r\u001b[K     |███████████████▎                | 788kB 11.3MB/s eta 0:00:01\r\u001b[K     |███████████████▌                | 798kB 11.3MB/s eta 0:00:01\r\u001b[K     |███████████████▊                | 808kB 11.3MB/s eta 0:00:01\r\u001b[K     |███████████████▉                | 819kB 11.3MB/s eta 0:00:01\r\u001b[K     |████████████████                | 829kB 11.3MB/s eta 0:00:01\r\u001b[K     |████████████████▎               | 839kB 11.3MB/s eta 0:00:01\r\u001b[K     |████████████████▌               | 849kB 11.3MB/s eta 0:00:01\r\u001b[K     |████████████████▊               | 860kB 11.3MB/s eta 0:00:01\r\u001b[K     |████████████████▉               | 870kB 11.3MB/s eta 0:00:01\r\u001b[K     |█████████████████               | 880kB 11.3MB/s eta 0:00:01\r\u001b[K     |█████████████████▎              | 890kB 11.3MB/s eta 0:00:01\r\u001b[K     |█████████████████▌              | 901kB 11.3MB/s eta 0:00:01\r\u001b[K     |█████████████████▋              | 911kB 11.3MB/s eta 0:00:01\r\u001b[K     |█████████████████▉              | 921kB 11.3MB/s eta 0:00:01\r\u001b[K     |██████████████████              | 931kB 11.3MB/s eta 0:00:01\r\u001b[K     |██████████████████▎             | 942kB 11.3MB/s eta 0:00:01\r\u001b[K     |██████████████████▌             | 952kB 11.3MB/s eta 0:00:01\r\u001b[K     |██████████████████▋             | 962kB 11.3MB/s eta 0:00:01\r\u001b[K     |██████████████████▉             | 972kB 11.3MB/s eta 0:00:01\r\u001b[K     |███████████████████             | 983kB 11.3MB/s eta 0:00:01\r\u001b[K     |███████████████████▎            | 993kB 11.3MB/s eta 0:00:01\r\u001b[K     |███████████████████▌            | 1.0MB 11.3MB/s eta 0:00:01\r\u001b[K     |███████████████████▋            | 1.0MB 11.3MB/s eta 0:00:01\r\u001b[K     |███████████████████▉            | 1.0MB 11.3MB/s eta 0:00:01\r\u001b[K     |████████████████████            | 1.0MB 11.3MB/s eta 0:00:01\r\u001b[K     |████████████████████▎           | 1.0MB 11.3MB/s eta 0:00:01\r\u001b[K     |████████████████████▍           | 1.1MB 11.3MB/s eta 0:00:01\r\u001b[K     |████████████████████▋           | 1.1MB 11.3MB/s eta 0:00:01\r\u001b[K     |████████████████████▉           | 1.1MB 11.3MB/s eta 0:00:01\r\u001b[K     |█████████████████████           | 1.1MB 11.3MB/s eta 0:00:01\r\u001b[K     |█████████████████████▎          | 1.1MB 11.3MB/s eta 0:00:01\r\u001b[K     |█████████████████████▍          | 1.1MB 11.3MB/s eta 0:00:01\r\u001b[K     |█████████████████████▋          | 1.1MB 11.3MB/s eta 0:00:01\r\u001b[K     |█████████████████████▉          | 1.1MB 11.3MB/s eta 0:00:01\r\u001b[K     |██████████████████████          | 1.1MB 11.3MB/s eta 0:00:01\r\u001b[K     |██████████████████████▎         | 1.1MB 11.3MB/s eta 0:00:01\r\u001b[K     |██████████████████████▍         | 1.2MB 11.3MB/s eta 0:00:01\r\u001b[K     |██████████████████████▋         | 1.2MB 11.3MB/s eta 0:00:01\r\u001b[K     |██████████████████████▉         | 1.2MB 11.3MB/s eta 0:00:01\r\u001b[K     |███████████████████████         | 1.2MB 11.3MB/s eta 0:00:01\r\u001b[K     |███████████████████████▏        | 1.2MB 11.3MB/s eta 0:00:01\r\u001b[K     |███████████████████████▍        | 1.2MB 11.3MB/s eta 0:00:01\r\u001b[K     |███████████████████████▋        | 1.2MB 11.3MB/s eta 0:00:01\r\u001b[K     |███████████████████████▉        | 1.2MB 11.3MB/s eta 0:00:01\r\u001b[K     |████████████████████████        | 1.2MB 11.3MB/s eta 0:00:01\r\u001b[K     |████████████████████████▏       | 1.2MB 11.3MB/s eta 0:00:01\r\u001b[K     |████████████████████████▍       | 1.3MB 11.3MB/s eta 0:00:01\r\u001b[K     |████████████████████████▋       | 1.3MB 11.3MB/s eta 0:00:01\r\u001b[K     |████████████████████████▉       | 1.3MB 11.3MB/s eta 0:00:01\r\u001b[K     |█████████████████████████       | 1.3MB 11.3MB/s eta 0:00:01\r\u001b[K     |█████████████████████████▏      | 1.3MB 11.3MB/s eta 0:00:01\r\u001b[K     |█████████████████████████▍      | 1.3MB 11.3MB/s eta 0:00:01\r\u001b[K     |█████████████████████████▋      | 1.3MB 11.3MB/s eta 0:00:01\r\u001b[K     |█████████████████████████▉      | 1.3MB 11.3MB/s eta 0:00:01\r\u001b[K     |██████████████████████████      | 1.3MB 11.3MB/s eta 0:00:01\r\u001b[K     |██████████████████████████▏     | 1.4MB 11.3MB/s eta 0:00:01\r\u001b[K     |██████████████████████████▍     | 1.4MB 11.3MB/s eta 0:00:01\r\u001b[K     |██████████████████████████▋     | 1.4MB 11.3MB/s eta 0:00:01\r\u001b[K     |██████████████████████████▉     | 1.4MB 11.3MB/s eta 0:00:01\r\u001b[K     |███████████████████████████     | 1.4MB 11.3MB/s eta 0:00:01\r\u001b[K     |███████████████████████████▏    | 1.4MB 11.3MB/s eta 0:00:01\r\u001b[K     |███████████████████████████▍    | 1.4MB 11.3MB/s eta 0:00:01\r\u001b[K     |███████████████████████████▋    | 1.4MB 11.3MB/s eta 0:00:01\r\u001b[K     |███████████████████████████▉    | 1.4MB 11.3MB/s eta 0:00:01\r\u001b[K     |████████████████████████████    | 1.4MB 11.3MB/s eta 0:00:01\r\u001b[K     |████████████████████████████▏   | 1.5MB 11.3MB/s eta 0:00:01\r\u001b[K     |████████████████████████████▍   | 1.5MB 11.3MB/s eta 0:00:01\r\u001b[K     |████████████████████████████▋   | 1.5MB 11.3MB/s eta 0:00:01\r\u001b[K     |████████████████████████████▊   | 1.5MB 11.3MB/s eta 0:00:01\r\u001b[K     |█████████████████████████████   | 1.5MB 11.3MB/s eta 0:00:01\r\u001b[K     |█████████████████████████████▏  | 1.5MB 11.3MB/s eta 0:00:01\r\u001b[K     |█████████████████████████████▍  | 1.5MB 11.3MB/s eta 0:00:01\r\u001b[K     |█████████████████████████████▋  | 1.5MB 11.3MB/s eta 0:00:01\r\u001b[K     |█████████████████████████████▊  | 1.5MB 11.3MB/s eta 0:00:01\r\u001b[K     |██████████████████████████████  | 1.5MB 11.3MB/s eta 0:00:01\r\u001b[K     |██████████████████████████████▏ | 1.6MB 11.3MB/s eta 0:00:01\r\u001b[K     |██████████████████████████████▍ | 1.6MB 11.3MB/s eta 0:00:01\r\u001b[K     |██████████████████████████████▋ | 1.6MB 11.3MB/s eta 0:00:01\r\u001b[K     |██████████████████████████████▊ | 1.6MB 11.3MB/s eta 0:00:01\r\u001b[K     |███████████████████████████████ | 1.6MB 11.3MB/s eta 0:00:01\r\u001b[K     |███████████████████████████████▏| 1.6MB 11.3MB/s eta 0:00:01\r\u001b[K     |███████████████████████████████▍| 1.6MB 11.3MB/s eta 0:00:01\r\u001b[K     |███████████████████████████████▌| 1.6MB 11.3MB/s eta 0:00:01\r\u001b[K     |███████████████████████████████▊| 1.6MB 11.3MB/s eta 0:00:01\r\u001b[K     |████████████████████████████████| 1.6MB 11.3MB/s eta 0:00:01\r\u001b[K     |████████████████████████████████| 1.7MB 11.3MB/s \n",
            "\u001b[?25hRequirement already satisfied: wheel>=0.23.0 in /usr/local/lib/python3.7/dist-packages (from pyLDAvis) (0.36.2)\n",
            "Requirement already satisfied: numpy>=1.9.2 in /usr/local/lib/python3.7/dist-packages (from pyLDAvis) (1.19.5)\n",
            "Requirement already satisfied: scipy>=0.18.0 in /usr/local/lib/python3.7/dist-packages (from pyLDAvis) (1.4.1)\n",
            "Requirement already satisfied: joblib>=0.8.4 in /usr/local/lib/python3.7/dist-packages (from pyLDAvis) (1.0.1)\n",
            "Requirement already satisfied: jinja2>=2.7.2 in /usr/local/lib/python3.7/dist-packages (from pyLDAvis) (2.11.3)\n",
            "Requirement already satisfied: numexpr in /usr/local/lib/python3.7/dist-packages (from pyLDAvis) (2.7.3)\n",
            "Requirement already satisfied: future in /usr/local/lib/python3.7/dist-packages (from pyLDAvis) (0.16.0)\n",
            "Collecting funcy\n",
            "  Downloading https://files.pythonhosted.org/packages/66/89/479de0afbbfb98d1c4b887936808764627300208bb771fcd823403645a36/funcy-1.15-py2.py3-none-any.whl\n",
            "Requirement already satisfied: pandas>=0.17.0 in /usr/local/lib/python3.7/dist-packages (from pyLDAvis) (1.1.5)\n",
            "Requirement already satisfied: MarkupSafe>=0.23 in /usr/local/lib/python3.7/dist-packages (from jinja2>=2.7.2->pyLDAvis) (1.1.1)\n",
            "Requirement already satisfied: pytz>=2017.2 in /usr/local/lib/python3.7/dist-packages (from pandas>=0.17.0->pyLDAvis) (2018.9)\n",
            "Requirement already satisfied: python-dateutil>=2.7.3 in /usr/local/lib/python3.7/dist-packages (from pandas>=0.17.0->pyLDAvis) (2.8.1)\n",
            "Requirement already satisfied: six>=1.5 in /usr/local/lib/python3.7/dist-packages (from python-dateutil>=2.7.3->pandas>=0.17.0->pyLDAvis) (1.15.0)\n",
            "Building wheels for collected packages: pyLDAvis\n",
            "  Building wheel for pyLDAvis (setup.py) ... \u001b[?25l\u001b[?25hdone\n",
            "  Created wheel for pyLDAvis: filename=pyLDAvis-3.2.2-py2.py3-none-any.whl size=135593 sha256=8e128c08942b9aa9703260f84f622c8bc8e844848b94f764928e94ba95b4b4fd\n",
            "  Stored in directory: /root/.cache/pip/wheels/74/df/b6/97234c8446a43be05c9a8687ee0db1f1b5ade5f27729187eae\n",
            "Successfully built pyLDAvis\n",
            "Installing collected packages: funcy, pyLDAvis\n",
            "Successfully installed funcy-1.15 pyLDAvis-3.2.2\n"
          ],
          "name": "stdout"
        }
      ]
    },
    {
      "cell_type": "code",
      "metadata": {
        "colab": {
          "base_uri": "https://localhost:8080/"
        },
        "id": "VV9KOLivB_O_",
        "outputId": "648d88c4-c7d1-4599-8478-a63b8bc7a5a5"
      },
      "source": [
        "# Run in python console\n",
        "import nltk; nltk.download('stopwords')\n"
      ],
      "execution_count": null,
      "outputs": [
        {
          "output_type": "stream",
          "text": [
            "[nltk_data] Downloading package stopwords to /root/nltk_data...\n",
            "[nltk_data]   Unzipping corpora/stopwords.zip.\n"
          ],
          "name": "stdout"
        },
        {
          "output_type": "execute_result",
          "data": {
            "text/plain": [
              "True"
            ]
          },
          "metadata": {
            "tags": []
          },
          "execution_count": 5
        }
      ]
    },
    {
      "cell_type": "code",
      "metadata": {
        "colab": {
          "base_uri": "https://localhost:8080/"
        },
        "id": "c_cqDDTv_kAy",
        "outputId": "64490846-187d-44ba-9851-ca10c852f1d6"
      },
      "source": [
        "# Write your code here\n",
        "import re\n",
        "import numpy as np\n",
        "import pandas as pd\n",
        "from pprint import pprint\n",
        "\n",
        "# Gensim\n",
        "import gensim\n",
        "import gensim.corpora as corpora\n",
        "from gensim.utils import simple_preprocess\n",
        "from gensim.models import CoherenceModel\n",
        "\n",
        "# spacy for lemmatization\n",
        "import spacy\n",
        "\n",
        "# Plotting tools\n",
        "import pyLDAvis\n",
        "import pyLDAvis.gensim  # don't skip this\n",
        "import matplotlib.pyplot as plt\n",
        "%matplotlib inline\n",
        "\n",
        "# Enable logging for gensim - optional\n",
        "import logging\n",
        "logging.basicConfig(format='%(asctime)s : %(levelname)s : %(message)s', level=logging.ERROR)\n",
        "\n",
        "import warnings\n",
        "warnings.filterwarnings(\"ignore\",category=DeprecationWarning)\n",
        "\n"
      ],
      "execution_count": null,
      "outputs": [
        {
          "output_type": "stream",
          "text": [
            "/usr/local/lib/python3.7/dist-packages/past/types/oldstr.py:5: DeprecationWarning: Using or importing the ABCs from 'collections' instead of from 'collections.abc' is deprecated since Python 3.3,and in 3.9 it will stop working\n",
            "  from collections import Iterable\n"
          ],
          "name": "stderr"
        }
      ]
    },
    {
      "cell_type": "code",
      "metadata": {
        "colab": {
          "base_uri": "https://localhost:8080/",
          "height": 353
        },
        "id": "jvI9VxoaCL12",
        "outputId": "9bbc10d8-c430-4a37-8595-885a7a90a3a6"
      },
      "source": [
        "\n",
        "# Write your code here\n",
        "\n",
        "# Write your code here\n",
        "\n",
        "from IPython.core.display import display, HTML\n",
        "display(HTML('<style>.container { width:80% !important; }</style>'))\n",
        "from bs4 import BeautifulSoup\n",
        "import requests\n",
        "import pandas as pd\n",
        "import numpy as np\n",
        "\n",
        "\n",
        "headers = [{'User-Agent' : 'Mozilla/5.0 (Windows NT 10.0; Win64; x64; rv:81.0) Gecko/20100101 Firefox/81.0'},\n",
        "           {'User-Agent' : 'Mozilla/5.0 (Windows NT 10.0; Win64; x64) AppleWebKit/537.36 (KHTML, like Gecko) Chrome/86.0.4240.75 Safari/537.36 Vivaldi/3.3'},\n",
        "           {'User-Agent' : 'Mozilla/5.0 (Windows NT 10.0) AppleWebKit/537.36 (KHTML, like Gecko) Chrome/86.0.4240.75 Safari/537.36'},\n",
        "           {'User-Agent' : 'Mozilla/5.0 (Windows NT 10.0; Win64; x64) AppleWebKit/537.36 (KHTML, like Gecko) Chrome/86.0.4240.75 Safari/537.36 Edg/86.0.622.38'}]\n",
        "\n",
        "pages = np.arange(1, 11) * 10 \n",
        "\n",
        "responses = []\n",
        "for page in pages:\n",
        "    url = 'https://scholar.google.com/scholar?start=' + str(page) + '&q=natural+language+processing&hl=en&as_sdt=0,44'\n",
        "    print(f'{page} titles being extracted')\n",
        "    random_index = np.random.randint(0, 4)\n",
        "    header = headers[random_index]\n",
        "    response = requests.get(url, headers=header)\n",
        "    if response.status_code == 200:\n",
        "        print('Everything is fine. Continue to scrap ...')\n",
        "    else:\n",
        "        print('Something went wrong!')\n",
        "    soup=BeautifulSoup(response.content,'lxml')\n",
        "    responses.append(soup)\n"
      ],
      "execution_count": null,
      "outputs": [
        {
          "output_type": "display_data",
          "data": {
            "text/html": [
              "<style>.container { width:80% !important; }</style>"
            ],
            "text/plain": [
              "<IPython.core.display.HTML object>"
            ]
          },
          "metadata": {
            "tags": []
          }
        },
        {
          "output_type": "stream",
          "text": [
            "10 titles being extracted\n",
            "Everything is fine. Continue to scrap ...\n",
            "20 titles being extracted\n",
            "Everything is fine. Continue to scrap ...\n",
            "30 titles being extracted\n",
            "Everything is fine. Continue to scrap ...\n",
            "40 titles being extracted\n",
            "Everything is fine. Continue to scrap ...\n",
            "50 titles being extracted\n",
            "Everything is fine. Continue to scrap ...\n",
            "60 titles being extracted\n",
            "Everything is fine. Continue to scrap ...\n",
            "70 titles being extracted\n",
            "Everything is fine. Continue to scrap ...\n",
            "80 titles being extracted\n",
            "Everything is fine. Continue to scrap ...\n",
            "90 titles being extracted\n",
            "Everything is fine. Continue to scrap ...\n",
            "100 titles being extracted\n",
            "Everything is fine. Continue to scrap ...\n"
          ],
          "name": "stdout"
        }
      ]
    },
    {
      "cell_type": "code",
      "metadata": {
        "id": "rGm3sQkNb0Th"
      },
      "source": [
        "titles = []\n",
        "count = 1\n",
        "for response in responses:\n",
        "    for item in response.select('[data-lid]'):\n",
        "        try:\n",
        "            titles.append(item.select('h3')[0].get_text())\n",
        "        except Exception as error:\n",
        "            print('Something went wrong!')\n",
        "        count += 1"
      ],
      "execution_count": null,
      "outputs": []
    },
    {
      "cell_type": "code",
      "metadata": {
        "colab": {
          "base_uri": "https://localhost:8080/",
          "height": 195
        },
        "id": "N45YP4LRb23w",
        "outputId": "974dfc85-1151-41c9-9616-a56abf304345"
      },
      "source": [
        "df = pd.DataFrame({'titles' : titles})\n",
        "df.head()"
      ],
      "execution_count": null,
      "outputs": [
        {
          "output_type": "execute_result",
          "data": {
            "text/html": [
              "<div>\n",
              "<style scoped>\n",
              "    .dataframe tbody tr th:only-of-type {\n",
              "        vertical-align: middle;\n",
              "    }\n",
              "\n",
              "    .dataframe tbody tr th {\n",
              "        vertical-align: top;\n",
              "    }\n",
              "\n",
              "    .dataframe thead th {\n",
              "        text-align: right;\n",
              "    }\n",
              "</style>\n",
              "<table border=\"1\" class=\"dataframe\">\n",
              "  <thead>\n",
              "    <tr style=\"text-align: right;\">\n",
              "      <th></th>\n",
              "      <th>titles</th>\n",
              "    </tr>\n",
              "  </thead>\n",
              "  <tbody>\n",
              "    <tr>\n",
              "      <th>0</th>\n",
              "      <td>Natural language processing</td>\n",
              "    </tr>\n",
              "    <tr>\n",
              "      <th>1</th>\n",
              "      <td>[BOOK][B] Natural language processing</td>\n",
              "    </tr>\n",
              "    <tr>\n",
              "      <th>2</th>\n",
              "      <td>[PDF][PDF] Natural language processing</td>\n",
              "    </tr>\n",
              "    <tr>\n",
              "      <th>3</th>\n",
              "      <td>[BOOK][B] Strategies for natural language proc...</td>\n",
              "    </tr>\n",
              "    <tr>\n",
              "      <th>4</th>\n",
              "      <td>[PDF][PDF] Human engineering fcr applied natur...</td>\n",
              "    </tr>\n",
              "  </tbody>\n",
              "</table>\n",
              "</div>"
            ],
            "text/plain": [
              "                                              titles\n",
              "0                        Natural language processing\n",
              "1              [BOOK][B] Natural language processing\n",
              "2             [PDF][PDF] Natural language processing\n",
              "3  [BOOK][B] Strategies for natural language proc...\n",
              "4  [PDF][PDF] Human engineering fcr applied natur..."
            ]
          },
          "metadata": {
            "tags": []
          },
          "execution_count": 23
        }
      ]
    },
    {
      "cell_type": "code",
      "metadata": {
        "colab": {
          "base_uri": "https://localhost:8080/"
        },
        "id": "58Ri0dEOCfg-",
        "outputId": "a6b0e13d-dd13-45b1-9a69-68a280fc20cc"
      },
      "source": [
        "from nltk.corpus import stopwords\n",
        "stop_words = stopwords.words('english')\n",
        "stop_words.extend(['from', 'subject', 're', 'edu', 'use'])\n",
        "def sent_to_words(sentences):\n",
        "    for sentence in sentences:\n",
        "        yield(gensim.utils.simple_preprocess(str(sentence), deacc=True))  # deacc=True removes punctuations\n",
        "\n",
        "data_words = list(sent_to_words(titles))\n",
        "bigram = gensim.models.Phrases(data_words, min_count=5, threshold=100) # higher threshold fewer phrases.\n",
        "bigram_mod = gensim.models.phrases.Phraser(bigram)\n",
        "\n",
        "print(data_words[:1])\n",
        "def remove_stopwords(texts):\n",
        "    return [[word for word in simple_preprocess(str(doc)) if word not in stop_words] for doc in texts]\n",
        "def lemmatization(texts, allowed_postags=['NOUN', 'ADJ', 'VERB', 'ADV']):\n",
        "    \"\"\"https://spacy.io/api/annotation\"\"\"\n",
        "    texts_out = []\n",
        "    for sent in texts:\n",
        "        doc = nlp(\" \".join(sent)) \n",
        "        texts_out.append([token.lemma_ for token in doc if token.pos_ in allowed_postags])\n",
        "    return texts_out\n",
        "def make_bigrams(texts):\n",
        "    return [bigram_mod[doc] for doc in texts]\n",
        "data_words_nostops = remove_stopwords(data_words)\n",
        "data_words_bigrams = make_bigrams(data_words_nostops)\n",
        "\n",
        "# Initialize spacy 'en' model, keeping only tagger component (for efficiency)\n",
        "# python3 -m spacy download en\n",
        "nlp = spacy.load('en', disable=['parser', 'ner'])\n",
        "data_lemmatized = lemmatization(data_words_bigrams, allowed_postags=['NOUN', 'ADJ', 'VERB', 'ADV'])\n",
        "\n",
        "print(data_lemmatized[:1])\n",
        "id2word = corpora.Dictionary(data_lemmatized)\n",
        "\n",
        "# Create Corpus\n",
        "texts = data_lemmatized\n",
        "\n",
        "# Term Document Frequency\n",
        "corpus = [id2word.doc2bow(text) for text in texts]\n",
        "\n",
        "# View\n",
        "print(corpus[:1])\n",
        "lda_model = gensim.models.ldamodel.LdaModel(corpus=corpus,\n",
        "                                           id2word=id2word,\n",
        "                                           num_topics=20, \n",
        "                                           random_state=100,\n",
        "                                           update_every=1,\n",
        "                                           chunksize=100,\n",
        "                                           passes=10,\n",
        "                                           alpha='auto',\n",
        "                                           per_word_topics=True)\n",
        "pprint(lda_model.print_topics())\n",
        "doc_lda = lda_model[corpus]"
      ],
      "execution_count": null,
      "outputs": [
        {
          "output_type": "stream",
          "text": [
            "[['natural', 'language', 'processing']]\n",
            "[['natural', 'language', 'processing']]\n",
            "[[(0, 1), (1, 1), (2, 1)]]\n",
            "[(0,\n",
            "  '0.006*\"analyze\" + 0.006*\"tool\" + 0.006*\"statistical\" + 0.006*\"medical\" + '\n",
            "  '0.006*\"semantical\" + 0.006*\"lyric\" + 0.006*\"medium\" + 0.006*\"social\" + '\n",
            "  '0.006*\"systematic\" + 0.006*\"discourse\"'),\n",
            " (1,\n",
            "  '0.166*\"natural\" + 0.166*\"language\" + 0.125*\"processing\" + 0.031*\"system\" + '\n",
            "  '0.031*\"neural\" + 0.031*\"base\" + 0.031*\"process\" + 0.021*\"clinical\" + '\n",
            "  '0.021*\"network\" + 0.021*\"model\"'),\n",
            " (2,\n",
            "  '0.089*\"processing\" + 0.088*\"language\" + 0.088*\"mining\" + 0.088*\"text\" + '\n",
            "  '0.005*\"natural\" + 0.005*\"literature\" + 0.005*\"review\" + 0.004*\"medium\" + '\n",
            "  '0.004*\"analyze\" + 0.004*\"lyric\"'),\n",
            " (3,\n",
            "  '0.089*\"processing\" + 0.088*\"language\" + 0.088*\"medicine\" + 0.088*\"overview\" '\n",
            "  '+ 0.005*\"review\" + 0.005*\"literature\" + 0.005*\"natural\" + 0.004*\"lyric\" + '\n",
            "  '0.004*\"medium\" + 0.004*\"medical\"'),\n",
            " (4,\n",
            "  '0.134*\"processing\" + 0.134*\"language\" + 0.132*\"natural\" + 0.059*\"learn\" + '\n",
            "  '0.037*\"transfer\" + 0.037*\"linguistic\" + 0.021*\"approach\" + 0.019*\"ontology\" '\n",
            "  '+ 0.019*\"study\" + 0.019*\"space\"'),\n",
            " (5,\n",
            "  '0.006*\"analyze\" + 0.006*\"tool\" + 0.006*\"statistical\" + 0.006*\"medical\" + '\n",
            "  '0.006*\"semantical\" + 0.006*\"lyric\" + 0.006*\"medium\" + 0.006*\"social\" + '\n",
            "  '0.006*\"systematic\" + 0.006*\"discourse\"'),\n",
            " (6,\n",
            "  '0.074*\"simple\" + 0.074*\"discourse\" + 0.074*\"tool\" + 0.074*\"analyze\" + '\n",
            "  '0.070*\"processing\" + 0.056*\"use\" + 0.023*\"natural\" + 0.023*\"language\" + '\n",
            "  '0.004*\"medium\" + 0.004*\"medical\"'),\n",
            " (7,\n",
            "  '0.113*\"literature\" + 0.061*\"processing\" + 0.061*\"natural\" + '\n",
            "  '0.061*\"language\" + 0.058*\"machine\" + 0.058*\"active\" + 0.058*\"context\" + '\n",
            "  '0.058*\"learning\" + 0.058*\"survey\" + 0.003*\"social\"'),\n",
            " (8,\n",
            "  '0.115*\"language\" + 0.115*\"processing\" + 0.059*\"upper\" + 0.059*\"base\" + '\n",
            "  '0.059*\"similarity\" + 0.059*\"approach\" + 0.059*\"model\" + 0.059*\"natural\" + '\n",
            "  '0.003*\"social\" + 0.003*\"medium\"'),\n",
            " (9,\n",
            "  '0.007*\"language\" + 0.007*\"processing\" + 0.006*\"analyze\" + '\n",
            "  '0.006*\"structured\" + 0.006*\"statistical\" + 0.006*\"medical\" + '\n",
            "  '0.006*\"semantical\" + 0.006*\"lyric\" + 0.006*\"medium\" + 0.006*\"social\"'),\n",
            " (10,\n",
            "  '0.185*\"language\" + 0.164*\"natural\" + 0.161*\"processing\" + 0.107*\"review\" + '\n",
            "  '0.087*\"book\" + 0.023*\"learning\" + 0.023*\"historical\" + 0.023*\"toolkit\" + '\n",
            "  '0.023*\"evaluate\" + 0.023*\"analysis\"'),\n",
            " (11,\n",
            "  '0.096*\"natural\" + 0.095*\"language\" + 0.095*\"processing\" + 0.057*\"state\" + '\n",
            "  '0.029*\"molecular\" + 0.029*\"maximum\" + 0.029*\"entropy\" + 0.029*\"pathway\" + '\n",
            "  '0.029*\"introduction\" + 0.029*\"trend\"'),\n",
            " (12,\n",
            "  '0.141*\"processing\" + 0.140*\"language\" + 0.114*\"natural\" + 0.074*\"clinical\" '\n",
            "  '+ 0.050*\"challenge\" + 0.050*\"datum\" + 0.026*\"unlocking\" + 0.026*\"future\" + '\n",
            "  '0.026*\"arabic\" + 0.026*\"support\"'),\n",
            " (13,\n",
            "  '0.177*\"processing\" + 0.177*\"language\" + 0.130*\"natural\" + 0.039*\"retrieval\" '\n",
            "  '+ 0.028*\"approach\" + 0.020*\"social\" + 0.020*\"education\" + 0.010*\"book\" + '\n",
            "  '0.010*\"mitigate\" + 0.010*\"well\"'),\n",
            " (14,\n",
            "  '0.140*\"processing\" + 0.140*\"language\" + 0.140*\"natural\" + 0.036*\"teaching\" '\n",
            "  '+ 0.036*\"scratch\" + 0.036*\"statistical\" + 0.036*\"chengqe\" + 0.036*\"almost\" '\n",
            "  '+ 0.036*\"enhance\" + 0.036*\"learning\"'),\n",
            " (15,\n",
            "  '0.221*\"processing\" + 0.218*\"language\" + 0.205*\"natural\" + 0.031*\"use\" + '\n",
            "  '0.026*\"learn\" + 0.021*\"deep\" + 0.016*\"sentiment\" + 0.014*\"representation\" + '\n",
            "  '0.014*\"detection\" + 0.007*\"model\"'),\n",
            " (16,\n",
            "  '0.006*\"analyze\" + 0.006*\"tool\" + 0.006*\"statistical\" + 0.006*\"medical\" + '\n",
            "  '0.006*\"semantical\" + 0.006*\"lyric\" + 0.006*\"medium\" + 0.006*\"social\" + '\n",
            "  '0.006*\"systematic\" + 0.006*\"discourse\"'),\n",
            " (17,\n",
            "  '0.006*\"analyze\" + 0.006*\"tool\" + 0.006*\"statistical\" + 0.006*\"medical\" + '\n",
            "  '0.006*\"semantical\" + 0.006*\"lyric\" + 0.006*\"medium\" + 0.006*\"social\" + '\n",
            "  '0.006*\"systematic\" + 0.006*\"discourse\"'),\n",
            " (18,\n",
            "  '0.007*\"transfer\" + 0.007*\"learn\" + 0.007*\"processing\" + 0.007*\"natural\" + '\n",
            "  '0.007*\"language\" + 0.006*\"social\" + 0.006*\"analyze\" + 0.006*\"medium\" + '\n",
            "  '0.006*\"structured\" + 0.006*\"lyric\"'),\n",
            " (19,\n",
            "  '0.098*\"natural\" + 0.098*\"processing\" + 0.098*\"language\" + 0.050*\"arabic\" + '\n",
            "  '0.050*\"introduction\" + 0.050*\"learning\" + 0.050*\"recent\" + 0.050*\"trend\" + '\n",
            "  '0.050*\"base\" + 0.050*\"deep\"')]\n"
          ],
          "name": "stdout"
        }
      ]
    },
    {
      "cell_type": "markdown",
      "metadata": {
        "id": "66TZ0GYi_kAz"
      },
      "source": [
        "## (2) (8 points) Generate K topics by using LSA, the number of topics K should be decided by the coherence score, then summarize what are the topics. You may refer the code here:\n",
        "\n",
        "https://www.datacamp.com/community/tutorials/discovering-hidden-topics-python"
      ]
    },
    {
      "cell_type": "code",
      "metadata": {
        "id": "_F0Mh-Hv_kAz"
      },
      "source": [
        "# Write your code here\n",
        "import os.path\n",
        "from gensim import corpora\n",
        "from gensim.models import LsiModel\n",
        "from nltk.tokenize import RegexpTokenizer\n",
        "from nltk.corpus import stopwords\n",
        "from nltk.stem.porter import PorterStemmer\n",
        "from gensim.models.coherencemodel import CoherenceModel\n",
        "import matplotlib.pyplot as plt"
      ],
      "execution_count": null,
      "outputs": []
    },
    {
      "cell_type": "code",
      "metadata": {
        "id": "fV3ocjoTCziZ"
      },
      "source": [
        "def preprocess_data(doc_set):\n",
        "    \"\"\"\n",
        "    Input  : docuemnt list\n",
        "    Purpose: preprocess text (tokenize, removing stopwords, and stemming)\n",
        "    Output : preprocessed text\n",
        "    \"\"\"\n",
        "    # initialize regex tokenizer\n",
        "    tokenizer = RegexpTokenizer(r'\\w+')\n",
        "    # create English stop words list\n",
        "    en_stop = set(stopwords.words('english'))\n",
        "    # Create p_stemmer of class PorterStemmer\n",
        "    p_stemmer = PorterStemmer()\n",
        "    # list for tokenized documents in loop\n",
        "    texts = []\n",
        "    # loop through document list\n",
        "    for i in doc_set:\n",
        "        # clean and tokenize document string\n",
        "        raw = i.lower()\n",
        "        tokens = tokenizer.tokenize(raw)\n",
        "        # remove stop words from tokens\n",
        "        stopped_tokens = [i for i in tokens if not i in en_stop]\n",
        "        # stem tokens\n",
        "        stemmed_tokens = [p_stemmer.stem(i) for i in stopped_tokens]\n",
        "        # add tokens to list\n",
        "        texts.append(stemmed_tokens)\n",
        "    return texts\n",
        "def prepare_corpus(doc_clean):\n",
        "    \"\"\"\n",
        "    Input  : clean document\n",
        "    Purpose: create term dictionary of our courpus and Converting list of documents (corpus) into Document Term Matrix\n",
        "    Output : term dictionary and Document Term Matrix\n",
        "    \"\"\"\n",
        "    # Creating the term dictionary of our courpus, where every unique term is assigned an index. dictionary = corpora.Dictionary(doc_clean)\n",
        "    dictionary = corpora.Dictionary(doc_clean)\n",
        "    # Converting list of documents (corpus) into Document Term Matrix using dictionary prepared above.\n",
        "    doc_term_matrix = [dictionary.doc2bow(doc) for doc in doc_clean]\n",
        "    # generate LDA model\n",
        "    return dictionary,doc_term_matrix\n",
        "def create_gensim_lsa_model(doc_clean,number_of_topics,words):\n",
        "    \"\"\"\n",
        "    Input  : clean document, number of topics and number of words associated with each topic\n",
        "    Purpose: create LSA model using gensim\n",
        "    Output : return LSA model\n",
        "    \"\"\"\n",
        "    dictionary,doc_term_matrix=prepare_corpus(doc_clean)\n",
        "    # generate LSA model\n",
        "    lsamodel = LsiModel(doc_term_matrix, num_topics=number_of_topics, id2word = dictionary)  # train model\n",
        "    print(lsamodel.print_topics(num_topics=number_of_topics, num_words=words))\n",
        "    return lsamodel\n",
        "def compute_coherence_values(dictionary, doc_term_matrix, doc_clean, stop, start=2, step=3):\n",
        "    \"\"\"\n",
        "    Input   : dictionary : Gensim dictionary\n",
        "              corpus : Gensim corpus\n",
        "              texts : List of input texts\n",
        "              stop : Max num of topics\n",
        "    purpose : Compute c_v coherence for various number of topics\n",
        "    Output  : model_list : List of LSA topic models\n",
        "              coherence_values : Coherence values corresponding to the LDA model with respective number of topics\n",
        "    \"\"\"\n",
        "    coherence_values = []\n",
        "    model_list = []\n",
        "    for num_topics in range(start, stop, step):\n",
        "      model = LsiModel(doc_term_matrix, num_topics, id2word = dictionary)  # train model\n",
        "      model_list.append(model)\n",
        "      coherencemodel = CoherenceModel(model=model, texts=doc_clean, dictionary=dictionary, coherence='c_v')\n",
        "      coherence_values.append(coherencemodel.get_coherence())\n",
        "    return model_list, coherence_values\n",
        "def plot_graph(doc_clean,start, stop, step):\n",
        "    dictionary,doc_term_matrix=prepare_corpus(doc_clean)\n",
        "    model_list, coherence_values = compute_coherence_values(dictionary, doc_term_matrix,doc_clean,stop, start, step)\n",
        "    # Show graph\n",
        "    x = range(start, stop, step)\n",
        "    plt.plot(x, coherence_values)\n",
        "    plt.xlabel(\"Number of Topics\")\n",
        "    plt.ylabel(\"Coherence score\")\n",
        "    plt.legend((\"coherence_values\"), loc='best')\n",
        "    plt.show()"
      ],
      "execution_count": null,
      "outputs": []
    },
    {
      "cell_type": "code",
      "metadata": {
        "colab": {
          "base_uri": "https://localhost:8080/",
          "height": 279
        },
        "id": "ffHSdvSuC4cI",
        "outputId": "728802d5-c085-4426-ce81-6043456c236a"
      },
      "source": [
        "start,stop,step=2,12,1\n",
        "clean_text=preprocess_data(titles)\n",
        "plot_graph(clean_text,start,stop,step)\n"
      ],
      "execution_count": null,
      "outputs": [
        {
          "output_type": "display_data",
          "data": {
            "image/png": "[encoded data removed]",
            "text/plain": [
              "<Figure size 432x288 with 1 Axes>"
            ]
          },
          "metadata": {
            "tags": [],
            "needs_background": "light"
          }
        }
      ]
    },
    {
      "cell_type": "code",
      "metadata": {
        "colab": {
          "base_uri": "https://localhost:8080/"
        },
        "id": "dONKXPmHC7qW",
        "outputId": "b344b017-ea3f-4b5d-c33c-ef36ba67b605"
      },
      "source": [
        "number_of_topics=3\n",
        "words=10\n",
        "clean_text=preprocess_data(titles)\n",
        "model=create_gensim_lsa_model(clean_text,number_of_topics,words)"
      ],
      "execution_count": null,
      "outputs": [
        {
          "output_type": "stream",
          "text": [
            "[(0, '0.562*\"languag\" + 0.549*\"natur\" + 0.539*\"process\" + 0.230*\"pdf\" + 0.077*\"b\" + 0.077*\"book\" + 0.069*\"learn\" + 0.046*\"use\" + 0.037*\"deep\" + 0.035*\"review\"'), (1, '0.931*\"pdf\" + -0.154*\"book\" + -0.154*\"b\" + -0.125*\"languag\" + -0.110*\"natur\" + -0.097*\"process\" + 0.049*\"medicin\" + 0.042*\"retriev\" + -0.041*\"html\" + -0.038*\"base\"'), (2, '0.648*\"book\" + 0.648*\"b\" + 0.169*\"pdf\" + -0.106*\"html\" + -0.095*\"use\" + -0.092*\"languag\" + -0.084*\"base\" + -0.078*\"clinic\" + -0.069*\"natur\" + -0.050*\"network\"')]\n"
          ],
          "name": "stdout"
        }
      ]
    },
    {
      "cell_type": "markdown",
      "metadata": {
        "id": "EZIZDD2k_kA0"
      },
      "source": [
        "## (3) (4 points) Compare the results generated by the two topic modeling algorithms, which one is better? You should explain the reasons in details."
      ]
    },
    {
      "cell_type": "code",
      "metadata": {
        "id": "fBiQMVR1_kA0"
      },
      "source": [
        "# Write your answer here (no code needed for this question)"
      ],
      "execution_count": null,
      "outputs": []
    },
    {
      "cell_type": "markdown",
      "metadata": {
        "id": "kPWY-0rfDEHq"
      },
      "source": [
        "LDA has 19 topic models while LSA has 3 topic models, though bag of words in both the models are same there are less dimensions in LSA while compared to LDA. \n",
        "As LSA has only 3 topic models it is faster than LDA. Though the output of both the models are similar both have the preprocessing steps to lemmatize the sentences and LDA is implemented with LDA following diricilet method and LSA is probabilistic manner.\n",
        "\n",
        "\n"
      ]
    },
    {
      "cell_type": "code",
      "metadata": {
        "id": "lGm-12zgDFHH"
      },
      "source": [
        ""
      ],
      "execution_count": null,
      "outputs": []
    }
  ]
}