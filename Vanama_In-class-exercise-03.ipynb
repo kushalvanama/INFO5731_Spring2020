{
  "nbformat": 4,
  "nbformat_minor": 0,
  "metadata": {
    "kernelspec": {
      "display_name": "Python 3",
      "language": "python",
      "name": "python3"
    },
    "language_info": {
      "codemirror_mode": {
        "name": "ipython",
        "version": 3
      },
      "file_extension": ".py",
      "mimetype": "text/x-python",
      "name": "python",
      "nbconvert_exporter": "python",
      "pygments_lexer": "ipython3",
      "version": "3.7.4"
    },
    "colab": {
      "name": "Vanama_In-class-exercise-03.ipynb",
      "provenance": []
    }
  },
  "cells": [
    {
      "cell_type": "markdown",
      "metadata": {
        "id": "Bt6orSUW4yyz"
      },
      "source": [
        "## The third In-class-exercise (9/16/2020, 20 points in total)"
      ]
    },
    {
      "cell_type": "markdown",
      "metadata": {
        "id": "sPnRcAq54yzA"
      },
      "source": [
        "The purpose of this exercise is to under users' information needs, then collect the data for analysis."
      ]
    },
    {
      "cell_type": "markdown",
      "metadata": {
        "id": "7ANXhYXk4yzB"
      },
      "source": [
        "Question 1 (8 points): Describe an interesting research question (or practical question) you have in mind, what kind of data should be collected to answer the question(s)? How many data needed for the analysis? The detail steps for collecting and save the data. "
      ]
    },
    {
      "cell_type": "code",
      "metadata": {
        "id": "jeEVG4AV4yzC"
      },
      "source": [
        "# Your answer here (no code for this question, write down your answer as detail as possible for the above questions):\n",
        "\n",
        "'''\n",
        "Please write you answer here:\n",
        "Research Question: There are lot of news articles websites. My question is how many articles posted in them are informative or opinion-based or emotional content? The expected content from news articles must be mostly informative rather than opinions.\n",
        "I have chosen Inshorts website for my news articles as they present the news in just 60 words which would be precise in analysing. \n",
        "Data required for this analysis is the content of all the articles posted on this website. Also extract titles of the articles for visualization purposes.\n",
        "\n",
        "Summary of Data Collection:\n",
        "I have used the BeautifulSoup library to extract the information from the website.\n",
        "I also have the class names from which data has to be taken. \n",
        "As the website has jquery based listing of articles. I had to raise continuous requests with updated post-ids to get the next post data.\n",
        "I used json and re for json formatting and regex to identify post-id\n",
        "\n",
        "\n",
        "\n",
        "\n",
        "\n",
        "'''"
      ],
      "execution_count": null,
      "outputs": []
    },
    {
      "cell_type": "markdown",
      "metadata": {
        "id": "keIlKc2s4yzD"
      },
      "source": [
        "Question 2 (12 points): Write python code to collect 500 items of the data you plan to collect above."
      ]
    },
    {
      "cell_type": "code",
      "metadata": {
        "id": "7XC43ha14yzE",
        "outputId": "d094879e-4df3-411b-c87a-80c6677186eb",
        "colab": {
          "base_uri": "https://localhost:8080/",
          "height": 490
        }
      },
      "source": [
        "# You code here (Please add comments in the code):\n",
        "\n",
        "import requests\n",
        "from bs4 import BeautifulSoup\n",
        "import pandas as pd\n",
        "import re\n",
        "import json\n",
        "\n",
        "def extractData(data): # Extracts title and contents of article from html data\n",
        "  soup = BeautifulSoup(data, 'html.parser')\n",
        "  headline_list = []\n",
        "  body_list = []\n",
        "  all_news = soup.findAll(\"div\",{\"class\":\"news-card z-depth-1\"})\n",
        "  count = len(all_news)\n",
        "  for each_news in all_news:\n",
        "    article_body = each_news.find(\"div\", {\"itemprop\" : \"articleBody\"}).get_text()\n",
        "    headline = each_news.find(\"span\", {\"itemprop\" : \"headline\"}).get_text()\n",
        "    headline_list.append(headline)\n",
        "    body_list.append(article_body)\n",
        "  \n",
        "  return headline_list, body_list\n",
        "\n",
        "def get_headers(): # The headers for the http request\n",
        "    return {\n",
        "        \"accept\": \"*/*\",\n",
        "        \"accept-encoding\": \"gzip, deflate, br\",\n",
        "        \"accept-language\": \"en-IN,en-US;q=0.9,en;q=0.8\",\n",
        "        \"content-type\": \"application/x-www-form-urlencoded; charset=UTF-8\",\n",
        "        \"cookie\": \"_ga=GA1.2.474379061.1548476083; _gid=GA1.2.251903072.1548476083; __gads=ID=17fd29a6d34048fc:T=1548476085:S=ALNI_MaRiLYBFlMfKNMAtiW0J3b_o0XGxw\",\n",
        "        \"origin\": \"https://inshorts.com\",\n",
        "        \"referer\": \"https://inshorts.com/en/read/\",\n",
        "        \"user-agent\": \"Mozilla/5.0 (X11; Linux x86_64) AppleWebKit/537.36 (KHTML, like Gecko) Chrome/71.0.3578.98 Safari/537.36\",\n",
        "        \"x-requested-with\": \"XMLHttpRequest\"\n",
        "    }\n",
        "\n",
        "title_text = [] # List to store News Titles\n",
        "content_text =[] #List to store News Content\n",
        "\n",
        "temp_title = []\n",
        "temp_content = []\n",
        "\n",
        "url = \"https://www.inshorts.com/en/read\"\n",
        "request = requests.get(url)\n",
        "title_text, content_text = extractData(request.text)  # Extract articles in First page - 25 articles\n",
        "\n",
        "regex_min_news_id = re.compile('var min_news_id = \"(.*?)\";')\n",
        "min_news_id = regex_min_news_id.search(request.text).group(1)\n",
        "\n",
        "for number in range(475): # Extract 475 more articles\n",
        "  ajax_url = 'https://inshorts.com/en/ajax/more_news'\n",
        "  response = requests.post(ajax_url, data={\"category\": \"\", \"news_offset\": min_news_id}, headers=get_headers())\n",
        "  response_json = json.loads(response.text)\n",
        "  temp_title, temp_content = extractData(response_json[\"html\"])\n",
        "  title_text.append(temp_title)\n",
        "  content_text.append(temp_content)\n",
        "  temp_title = []\n",
        "  temp_content = []\n",
        "  min_news_id = response_json[\"min_news_id\"]\n",
        "\n",
        "df = pd.DataFrame(list(zip(title_text, content_text)), columns =['Article Title', 'Article Content'])  # Creating Dataframe\n",
        "print(\"Length of data frame is {0}\".format(len(df)))\n",
        "df"
      ],
      "execution_count": 1,
      "outputs": [
        {
          "output_type": "stream",
          "text": [
            "tgrlymrw-1\n",
            "[\"Entry, exit gates of 8 Delhi Metro stations closed ahead of farmers' 'chakka jam'\", 'Christopher Plummer, oldest actor to win an Oscar, passes away aged 91', 'He had a rape room in his house: Singer Phoebe on Marilyn Manson', 'Understanding COVID-19 origins will take years: Member of WHO team in China', 'India reports 11,713 new COVID-19 cases, 95 deaths in 24 hours', \"Punjab's contract farming law has provision to jail farmers: Tomar\", \"Who is Mo Dhaliwal, the man behind toolkit on farmers' protest shared by Greta?\", \"'Erratic' Trump should not receive intelligence briefings: Biden\", 'Ratan Tata requests people to stop social media campaign for Bharat Ratna to him', \"Shoot of Bobby Deol's film comes to halt due to farmers' protest: Reports\", 'All the brands have cancelled my contracts: Kangana Ranaut', 'All 184 COVID-19 vaccine centres in Delhi open for front-line workers', \"Delhi govt declares 6 of its hospitals as completely 'non-COVID'\", 'Military to help with COVID-19 vaccination drive in US', \"Myanmar's military blocks Twitter, Instagram after Facebook\", 'AAP received over ₹37.52 crore in donations in 2019-20', '10 days after release, molester rapes and kills 5-yr-old girl in MP', 'Jaish-e-Mohammed over-ground worker arrested at Delhi airport', 'Stop functions and events at parks: NGT tells Delhi authorities', \"Anarchy can't be allowed: Delhi HC on plea on sanitation workers' strike\", \"Elderly couple found dead after house party in UP's Greater Noida\", 'Gave no false declaration on educational qualifications: AAP MLA to HC', \"2 killed, 28 injured in twin bomb blast in Pak's Balochistan\", \"We don't want instability: Nepal PM defends move to dissolve Parliament\", 'International oil prices hit highest level in a year ']\n",
            "Length of data frame is 500\n"
          ],
          "name": "stdout"
        },
        {
          "output_type": "execute_result",
          "data": {
            "text/html": [
              "<div>\n",
              "<style scoped>\n",
              "    .dataframe tbody tr th:only-of-type {\n",
              "        vertical-align: middle;\n",
              "    }\n",
              "\n",
              "    .dataframe tbody tr th {\n",
              "        vertical-align: top;\n",
              "    }\n",
              "\n",
              "    .dataframe thead th {\n",
              "        text-align: right;\n",
              "    }\n",
              "</style>\n",
              "<table border=\"1\" class=\"dataframe\">\n",
              "  <thead>\n",
              "    <tr style=\"text-align: right;\">\n",
              "      <th></th>\n",
              "      <th>Article Title</th>\n",
              "      <th>Article Content</th>\n",
              "    </tr>\n",
              "  </thead>\n",
              "  <tbody>\n",
              "    <tr>\n",
              "      <th>0</th>\n",
              "      <td>Entry, exit gates of 8 Delhi Metro stations cl...</td>\n",
              "      <td>Entry and exit gates of Delhi Metro stations i...</td>\n",
              "    </tr>\n",
              "    <tr>\n",
              "      <th>1</th>\n",
              "      <td>Christopher Plummer, oldest actor to win an Os...</td>\n",
              "      <td>Christopher Plummer, who became the oldest act...</td>\n",
              "    </tr>\n",
              "    <tr>\n",
              "      <th>2</th>\n",
              "      <td>He had a rape room in his house: Singer Phoebe...</td>\n",
              "      <td>Singer Phoebe Bridgers has said musician Maril...</td>\n",
              "    </tr>\n",
              "    <tr>\n",
              "      <th>3</th>\n",
              "      <td>Understanding COVID-19 origins will take years...</td>\n",
              "      <td>A member of the World Health Organization team...</td>\n",
              "    </tr>\n",
              "    <tr>\n",
              "      <th>4</th>\n",
              "      <td>India reports 11,713 new COVID-19 cases, 95 de...</td>\n",
              "      <td>India has reported 11,713 new COVID-19 cases a...</td>\n",
              "    </tr>\n",
              "    <tr>\n",
              "      <th>...</th>\n",
              "      <td>...</td>\n",
              "      <td>...</td>\n",
              "    </tr>\n",
              "    <tr>\n",
              "      <th>495</th>\n",
              "      <td>[Ghazipur border on NH 24 closed for Ghaziabad...</td>\n",
              "      <td>[Ghazipur border on NH 24 is closed for traffi...</td>\n",
              "    </tr>\n",
              "    <tr>\n",
              "      <th>496</th>\n",
              "      <td>[BCCI to discuss adding 2 new teams to IPL in ...</td>\n",
              "      <td>[The BCCI will discuss adding two teams to IPL...</td>\n",
              "    </tr>\n",
              "    <tr>\n",
              "      <th>497</th>\n",
              "      <td>[Who are India's richest women &amp; what are thei...</td>\n",
              "      <td>[HCL Tech's Chairperson Roshni Nadar Malhotra ...</td>\n",
              "    </tr>\n",
              "    <tr>\n",
              "      <th>498</th>\n",
              "      <td>[SA lottery probed after 5,6,7,8, 9 &amp; 10 drawn...</td>\n",
              "      <td>[South Africa's national lottery is being prob...</td>\n",
              "    </tr>\n",
              "    <tr>\n",
              "      <th>499</th>\n",
              "      <td>[No night curfew in Delhi as of now, AAP govt ...</td>\n",
              "      <td>[The AAP government on Thursday told the Delhi...</td>\n",
              "    </tr>\n",
              "  </tbody>\n",
              "</table>\n",
              "<p>500 rows × 2 columns</p>\n",
              "</div>"
            ],
            "text/plain": [
              "                                         Article Title                                    Article Content\n",
              "0    Entry, exit gates of 8 Delhi Metro stations cl...  Entry and exit gates of Delhi Metro stations i...\n",
              "1    Christopher Plummer, oldest actor to win an Os...  Christopher Plummer, who became the oldest act...\n",
              "2    He had a rape room in his house: Singer Phoebe...  Singer Phoebe Bridgers has said musician Maril...\n",
              "3    Understanding COVID-19 origins will take years...  A member of the World Health Organization team...\n",
              "4    India reports 11,713 new COVID-19 cases, 95 de...  India has reported 11,713 new COVID-19 cases a...\n",
              "..                                                 ...                                                ...\n",
              "495  [Ghazipur border on NH 24 closed for Ghaziabad...  [Ghazipur border on NH 24 is closed for traffi...\n",
              "496  [BCCI to discuss adding 2 new teams to IPL in ...  [The BCCI will discuss adding two teams to IPL...\n",
              "497  [Who are India's richest women & what are thei...  [HCL Tech's Chairperson Roshni Nadar Malhotra ...\n",
              "498  [SA lottery probed after 5,6,7,8, 9 & 10 drawn...  [South Africa's national lottery is being prob...\n",
              "499  [No night curfew in Delhi as of now, AAP govt ...  [The AAP government on Thursday told the Delhi...\n",
              "\n",
              "[500 rows x 2 columns]"
            ]
          },
          "metadata": {
            "tags": []
          },
          "execution_count": 1
        }
      ]
    }
  ]
}