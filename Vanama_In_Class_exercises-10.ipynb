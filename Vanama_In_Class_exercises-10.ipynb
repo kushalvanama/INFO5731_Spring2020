{
  "nbformat": 4,
  "nbformat_minor": 0,
  "metadata": {
    "kernelspec": {
      "display_name": "Python 3",
      "language": "python",
      "name": "python3"
    },
    "language_info": {
      "codemirror_mode": {
        "name": "ipython",
        "version": 3
      },
      "file_extension": ".py",
      "mimetype": "text/x-python",
      "name": "python",
      "nbconvert_exporter": "python",
      "pygments_lexer": "ipython3",
      "version": "3.8.5"
    },
    "colab": {
      "name": "In_Class_exercises-10.ipynb",
      "provenance": [],
      "collapsed_sections": []
    }
  },
  "cells": [
    {
      "cell_type": "markdown",
      "metadata": {
        "id": "apQOGNnVmu7e"
      },
      "source": [
        "# In class exercise 10 (20 points in total, 4/16/2021)"
      ]
    },
    {
      "cell_type": "markdown",
      "metadata": {
        "id": "iMBG09kAmu7m"
      },
      "source": [
        "The purpose of the exercise is to practice different machine learning algorithms for text clustering\n",
        "Please downlad the dataset by using the following link.  https://www.kaggle.com/PromptCloudHQ/amazon-reviews-unlocked-mobile-phones\n",
        "(You can also use different text data which you want)\n",
        "\n",
        "Apply the listed clustering methods to the dataset:\n",
        "\n",
        "K means, \n",
        "DBSCAN,\n",
        "Hierarchical clustering. \n",
        "\n",
        "You can refer to of the codes from  the follwing link below. \n",
        "https://www.kaggle.com/karthik3890/text-clustering \n",
        "    "
      ]
    },
    {
      "cell_type": "code",
      "metadata": {
        "colab": {
          "base_uri": "https://localhost:8080/"
        },
        "id": "tTsndy88mu7n",
        "outputId": "b04162cb-2833-45e6-e550-116fc8db31c1"
      },
      "source": [
        "#Write your code here.\n",
        "\n",
        "import pandas as pd\n",
        "import gensim\n",
        "import nltk\n",
        "import warnings\n",
        "('ignore warnings')\n",
        "nltk.download('punkt')\n",
        "from nltk.corpus import stopwords\n",
        "nltk.download('stopwords')\n",
        "from textblob import Word\n",
        "nltk.download('wordnet')\n",
        "from nltk.stem import PorterStemmer\n",
        "st = PorterStemmer()\n"
      ],
      "execution_count": 21,
      "outputs": [
        {
          "output_type": "stream",
          "text": [
            "[nltk_data] Downloading package punkt to /root/nltk_data...\n",
            "[nltk_data]   Package punkt is already up-to-date!\n",
            "[nltk_data] Downloading package stopwords to /root/nltk_data...\n",
            "[nltk_data]   Package stopwords is already up-to-date!\n",
            "[nltk_data] Downloading package wordnet to /root/nltk_data...\n",
            "[nltk_data]   Package wordnet is already up-to-date!\n"
          ],
          "name": "stdout"
        }
      ]
    },
    {
      "cell_type": "code",
      "metadata": {
        "id": "Sb4VEGGxsCbm"
      },
      "source": [
        "df=pd.read_csv(\"/content/Amazon_Unlocked_Mobile.csv\")\n",
        "df = df[df['Reviews'].notnull()]\n",
        "stop = stopwords.words('english')\n",
        "df['after_punct_less'] = df['Reviews'].str.replace('[^\\w\\s].#','')\n",
        "df['after_rm_stopwords'] =df['after_punct_less'].apply(lambda x: \" \".join(x for x in x.split() if x not in stop))\n",
        "df['after_numerics']=df['after_rm_stopwords'].str.replace('[0-9]','')\n",
        "df['after_lowercasing'] =df['after_numerics'].apply(lambda x: \" \".join(x.lower() for x in x.split()))\n",
        "\n",
        "df['after_stemming']=df['after_lowercasing'].apply(lambda x: \" \".join([st.stem(word) for word in x.split()]))\n",
        "df['cleaned_text'] = df['after_stemming'].apply(lambda x: \" \".join([Word(word).lemmatize() for word in x.split()]))"
      ],
      "execution_count": 4,
      "outputs": []
    },
    {
      "cell_type": "code",
      "metadata": {
        "colab": {
          "base_uri": "https://localhost:8080/"
        },
        "id": "X_jGXseFsQlz",
        "outputId": "3afb8d86-83a1-4c7d-8586-b58dac8802f1"
      },
      "source": [
        "df['cleaned_text']"
      ],
      "execution_count": 6,
      "outputs": [
        {
          "output_type": "execute_result",
          "data": {
            "text/plain": [
              "0         i feel lucki found use (phone u & use hard all...\n",
              "1         nice phone, nice grade pantach revue. veri cle...\n",
              "2                                                 veri plea\n",
              "3           it work good goe slow sometim good phone i love\n",
              "4         great phone replac lost phone. the thing volum...\n",
              "                                ...                        \n",
              "413835                         anoth great deal great price\n",
              "413836                                                   ok\n",
              "413837             pas everi drop test onto porcelain tile!\n",
              "413838          i return meet need seem good select others.\n",
              "413839    onli downsid appar verizon longer use v-cast m...\n",
              "Name: cleaned_text, Length: 413778, dtype: object"
            ]
          },
          "metadata": {
            "tags": []
          },
          "execution_count": 6
        }
      ]
    },
    {
      "cell_type": "code",
      "metadata": {
        "id": "MoNIlxwOsxeS"
      },
      "source": [
        "df_1=(df.sample(n=4000)).reset_index()"
      ],
      "execution_count": 7,
      "outputs": []
    },
    {
      "cell_type": "code",
      "metadata": {
        "colab": {
          "base_uri": "https://localhost:8080/"
        },
        "id": "XcuC8YKSszi_",
        "outputId": "2496f422-ff35-49ab-eb16-6aed40fa1e85"
      },
      "source": [
        "from sklearn.feature_extraction.text import TfidfVectorizer\n",
        "tfidf_vect = TfidfVectorizer()\n",
        "tfidf = tfidf_vect.fit_transform(df_1['cleaned_text'].values)\n",
        "tfidf.shape"
      ],
      "execution_count": 8,
      "outputs": [
        {
          "output_type": "execute_result",
          "data": {
            "text/plain": [
              "(4000, 7026)"
            ]
          },
          "metadata": {
            "tags": []
          },
          "execution_count": 8
        }
      ]
    },
    {
      "cell_type": "markdown",
      "metadata": {
        "id": "7csHuYsztF80"
      },
      "source": [
        "## K means"
      ]
    },
    {
      "cell_type": "code",
      "metadata": {
        "colab": {
          "base_uri": "https://localhost:8080/"
        },
        "id": "8kkJT3KctFpo",
        "outputId": "a935b8e7-5312-48e5-fd2e-a5019951a532"
      },
      "source": [
        "from sklearn.cluster import KMeans\n",
        "model_tf = KMeans(n_clusters = 5, n_jobs = -1,random_state=99)\n",
        "model_tf.fit(tfidf)"
      ],
      "execution_count": 9,
      "outputs": [
        {
          "output_type": "execute_result",
          "data": {
            "text/plain": [
              "KMeans(algorithm='auto', copy_x=True, init='k-means++', max_iter=300,\n",
              "       n_clusters=5, n_init=10, n_jobs=-1, precompute_distances='auto',\n",
              "       random_state=99, tol=0.0001, verbose=0)"
            ]
          },
          "metadata": {
            "tags": []
          },
          "execution_count": 9
        }
      ]
    },
    {
      "cell_type": "code",
      "metadata": {
        "id": "utZPf_SYtOFB"
      },
      "source": [
        "labels_tf = model_tf.labels_\n",
        "cluster_center_tf=model_tf.cluster_centers_"
      ],
      "execution_count": 10,
      "outputs": []
    },
    {
      "cell_type": "code",
      "metadata": {
        "colab": {
          "base_uri": "https://localhost:8080/",
          "height": 498
        },
        "id": "klz2ik6OtQzv",
        "outputId": "0c3538ef-797b-401f-c8bd-bd97542262b9"
      },
      "source": [
        "terms1 = tfidf_vect.get_feature_names()\n",
        "terms1[1:5]\n",
        "df1 = df_1\n",
        "df1['Tfidf Clus Label'] = model_tf.labels_\n",
        "df1.head(5)"
      ],
      "execution_count": 11,
      "outputs": [
        {
          "output_type": "execute_result",
          "data": {
            "text/html": [
              "<div>\n",
              "<style scoped>\n",
              "    .dataframe tbody tr th:only-of-type {\n",
              "        vertical-align: middle;\n",
              "    }\n",
              "\n",
              "    .dataframe tbody tr th {\n",
              "        vertical-align: top;\n",
              "    }\n",
              "\n",
              "    .dataframe thead th {\n",
              "        text-align: right;\n",
              "    }\n",
              "</style>\n",
              "<table border=\"1\" class=\"dataframe\">\n",
              "  <thead>\n",
              "    <tr style=\"text-align: right;\">\n",
              "      <th></th>\n",
              "      <th>index</th>\n",
              "      <th>Product Name</th>\n",
              "      <th>Brand Name</th>\n",
              "      <th>Price</th>\n",
              "      <th>Rating</th>\n",
              "      <th>Reviews</th>\n",
              "      <th>Review Votes</th>\n",
              "      <th>after_punct_less</th>\n",
              "      <th>after_rm_stopwords</th>\n",
              "      <th>after_numerics</th>\n",
              "      <th>after_lowercasing</th>\n",
              "      <th>after_stemming</th>\n",
              "      <th>cleaned_text</th>\n",
              "      <th>Tfidf Clus Label</th>\n",
              "    </tr>\n",
              "  </thead>\n",
              "  <tbody>\n",
              "    <tr>\n",
              "      <th>0</th>\n",
              "      <td>297256</td>\n",
              "      <td>POSH MOBILE MICRO X, The Smallest Smartphone i...</td>\n",
              "      <td>Posh Mobile</td>\n",
              "      <td>49.99</td>\n",
              "      <td>5</td>\n",
              "      <td>Excellent for the price</td>\n",
              "      <td>0.0</td>\n",
              "      <td>Excellent for the price</td>\n",
              "      <td>Excellent price</td>\n",
              "      <td>Excellent price</td>\n",
              "      <td>excellent price</td>\n",
              "      <td>excel price</td>\n",
              "      <td>excel price</td>\n",
              "      <td>3</td>\n",
              "    </tr>\n",
              "    <tr>\n",
              "      <th>1</th>\n",
              "      <td>287045</td>\n",
              "      <td>OtterBox RealTree Defender Case Apple iPhone 5...</td>\n",
              "      <td>OtterBox</td>\n",
              "      <td>16.99</td>\n",
              "      <td>5</td>\n",
              "      <td>great product</td>\n",
              "      <td>0.0</td>\n",
              "      <td>great product</td>\n",
              "      <td>great product</td>\n",
              "      <td>great product</td>\n",
              "      <td>great product</td>\n",
              "      <td>great product</td>\n",
              "      <td>great product</td>\n",
              "      <td>2</td>\n",
              "    </tr>\n",
              "    <tr>\n",
              "      <th>2</th>\n",
              "      <td>158385</td>\n",
              "      <td>BLU Tank II T193 Unlocked GSM Dual-SIM Cell Ph...</td>\n",
              "      <td>BLU</td>\n",
              "      <td>20.99</td>\n",
              "      <td>5</td>\n",
              "      <td>😃</td>\n",
              "      <td>0.0</td>\n",
              "      <td>😃</td>\n",
              "      <td>😃</td>\n",
              "      <td>😃</td>\n",
              "      <td>😃</td>\n",
              "      <td>😃</td>\n",
              "      <td>😃</td>\n",
              "      <td>1</td>\n",
              "    </tr>\n",
              "    <tr>\n",
              "      <th>3</th>\n",
              "      <td>318855</td>\n",
              "      <td>Samsung Galaxy J7 J700M 16GB Dual Sim LTE Unlo...</td>\n",
              "      <td>Samsung</td>\n",
              "      <td>227.14</td>\n",
              "      <td>5</td>\n",
              "      <td>Awesome phone. Midrange phone? - Not to me. lo...</td>\n",
              "      <td>0.0</td>\n",
              "      <td>Awesome phone. Midrange phone? - Not to me. lo...</td>\n",
              "      <td>Awesome phone. Midrange phone? - Not me. lol p...</td>\n",
              "      <td>Awesome phone. Midrange phone? - Not me. lol p...</td>\n",
              "      <td>awesome phone. midrange phone? - not me. lol p...</td>\n",
              "      <td>awesom phone. midrang phone? - not me. lol pri...</td>\n",
              "      <td>awesom phone. midrang phone? - not me. lol pri...</td>\n",
              "      <td>1</td>\n",
              "    </tr>\n",
              "    <tr>\n",
              "      <th>4</th>\n",
              "      <td>120796</td>\n",
              "      <td>BLU Energy X Plus Smartphone - With 4000 mAh S...</td>\n",
              "      <td>BLU</td>\n",
              "      <td>139.00</td>\n",
              "      <td>4</td>\n",
              "      <td>the phone works well. size is great st 5.5 inc...</td>\n",
              "      <td>0.0</td>\n",
              "      <td>the phone works well. size is great st 5.5 inc...</td>\n",
              "      <td>phone works well. size great st 5.5 inches..th...</td>\n",
              "      <td>phone works well. size great st . inches..the ...</td>\n",
              "      <td>phone works well. size great st . inches..the ...</td>\n",
              "      <td>phone work well. size great st . inches..th so...</td>\n",
              "      <td>phone work well. size great st . inches..th so...</td>\n",
              "      <td>1</td>\n",
              "    </tr>\n",
              "  </tbody>\n",
              "</table>\n",
              "</div>"
            ],
            "text/plain": [
              "    index  ... Tfidf Clus Label\n",
              "0  297256  ...                3\n",
              "1  287045  ...                2\n",
              "2  158385  ...                1\n",
              "3  318855  ...                1\n",
              "4  120796  ...                1\n",
              "\n",
              "[5 rows x 14 columns]"
            ]
          },
          "metadata": {
            "tags": []
          },
          "execution_count": 11
        }
      ]
    },
    {
      "cell_type": "code",
      "metadata": {
        "colab": {
          "base_uri": "https://localhost:8080/"
        },
        "id": "iC4atSODtTl2",
        "outputId": "a6dde247-a711-4647-efc0-b4bcd943a996"
      },
      "source": [
        "df1.groupby(['Tfidf Clus Label'])['cleaned_text'].count()"
      ],
      "execution_count": 12,
      "outputs": [
        {
          "output_type": "execute_result",
          "data": {
            "text/plain": [
              "Tfidf Clus Label\n",
              "0     258\n",
              "1    3178\n",
              "2     211\n",
              "3     136\n",
              "4     217\n",
              "Name: cleaned_text, dtype: int64"
            ]
          },
          "metadata": {
            "tags": []
          },
          "execution_count": 12
        }
      ]
    },
    {
      "cell_type": "code",
      "metadata": {
        "colab": {
          "base_uri": "https://localhost:8080/"
        },
        "id": "y3RA69lftWeu",
        "outputId": "0b630d87-bfc3-491d-c838-51d3349694f7"
      },
      "source": [
        "print(\"Top terms per cluster:\")\n",
        "order_centroids = model_tf.cluster_centers_.argsort()[:, ::-1]\n",
        "for i in range(1,5):\n",
        "    print(\"Cluster %d:\" % i, end='')\n",
        "    for ind in order_centroids[i, :6]:\n",
        "        print(' %s' % terms1[ind], end='')\n",
        "        print()"
      ],
      "execution_count": 18,
      "outputs": [
        {
          "output_type": "stream",
          "text": [
            "Top terms per cluster:\n",
            "Cluster 1: phone\n",
            " it\n",
            " work\n",
            " the\n",
            " like\n",
            " use\n",
            "Cluster 2: great\n",
            " phone\n",
            " work\n",
            " product\n",
            " price\n",
            " deal\n",
            "Cluster 3: excel\n",
            " product\n",
            " phone\n",
            " fast\n",
            " price\n",
            " good\n",
            "Cluster 4: love\n",
            " it\n",
            " phone\n",
            " great\n",
            " my\n",
            " bought\n"
          ],
          "name": "stdout"
        }
      ]
    },
    {
      "cell_type": "markdown",
      "metadata": {
        "id": "KS35ScxrtY2T"
      },
      "source": [
        "## DBSCAN"
      ]
    },
    {
      "cell_type": "code",
      "metadata": {
        "id": "QVlRJOm2tara"
      },
      "source": [
        "from sklearn.cluster import DBSCAN\n",
        "import numpy as np\n",
        "import matplotlib.pyplot as plt\n",
        "import gensim"
      ],
      "execution_count": 14,
      "outputs": []
    },
    {
      "cell_type": "code",
      "metadata": {
        "id": "KOwoxq_Dtgb3"
      },
      "source": [
        "i=0\n",
        "list_of_sent=[]\n",
        "for sent in df_1['cleaned_text'].values:\n",
        "    list_of_sent.append(sent.split())"
      ],
      "execution_count": 19,
      "outputs": []
    },
    {
      "cell_type": "code",
      "metadata": {
        "colab": {
          "base_uri": "https://localhost:8080/"
        },
        "id": "9e25xnlBt0ly",
        "outputId": "27edd529-f9fe-48f5-ec2f-881ad6c87ab9"
      },
      "source": [
        "w2v_model=gensim.models.Word2Vec(list_of_sent,size=100, workers=4)\n",
        "import numpy as np\n",
        "sent_vectors = []; # the avg-w2v for each sentence/review is stored in this train\n",
        "for sent in list_of_sent: # for each review/sentence\n",
        "    sent_vec = np.zeros(100) # as word vectors are of zero length\n",
        "    cnt_words =0; # num of words with a valid vector in the sentence/review\n",
        "    for word in sent: # for each word in a review/sentence\n",
        "        try:\n",
        "            vec = w2v_model.wv[word]\n",
        "            sent_vec += vec\n",
        "            cnt_words += 1\n",
        "        except:\n",
        "            pass\n",
        "    sent_vec /= cnt_words\n",
        "    sent_vectors.append(sent_vec)\n",
        "sent_vectors = np.array(sent_vectors)\n",
        "sent_vectors = np.nan_to_num(sent_vectors)\n",
        "sent_vectors.shape"
      ],
      "execution_count": 22,
      "outputs": [
        {
          "output_type": "stream",
          "text": [
            "/usr/local/lib/python3.7/dist-packages/ipykernel_launcher.py:14: RuntimeWarning: invalid value encountered in true_divide\n",
            "  \n"
          ],
          "name": "stderr"
        },
        {
          "output_type": "execute_result",
          "data": {
            "text/plain": [
              "(4000, 100)"
            ]
          },
          "metadata": {
            "tags": []
          },
          "execution_count": 22
        }
      ]
    },
    {
      "cell_type": "code",
      "metadata": {
        "id": "ee3Eot2ruAdh"
      },
      "source": [
        "minPts = 2 * 100\n",
        "# Lower bound function copied from -> https://gist.github.com/m00nlight/0f9306b4d4e61ba0195f\n",
        "def lower_bound(nums, target): # This function return the number in the array just greater than or equal to itself.\n",
        "    l, r = 0, len(nums) - 1\n",
        "    while l <= r: # Binary searching.\n",
        "        mid = int(l + (r - l) / 2)\n",
        "        if nums[mid] >= target:\n",
        "            r = mid - 1\n",
        "        else:\n",
        "            l = mid + 1\n",
        "    return l\n",
        "\n",
        "def compute200thnearestneighbour(x, data): # Returns the distance of 200th nearest neighbour.\n",
        "    dists = []\n",
        "    for val in data:\n",
        "        dist = np.sum((x - val) **2 ) # computing distances.\n",
        "        if(len(dists) == 200 and dists[199] > dist): # If distance is larger than current largest distance found.\n",
        "            l = int(lower_bound(dists, dist)) # Using the lower bound function to get the right position.\n",
        "            if l < 200 and l >= 0 and dists[l] > dist:\n",
        "                dists[l] = dist\n",
        "        else:\n",
        "            dists.append(dist)\n",
        "            dists.sort()\n",
        "    \n",
        "    return dists[199] "
      ],
      "execution_count": 23,
      "outputs": []
    },
    {
      "cell_type": "code",
      "metadata": {
        "id": "BjZH305WuJdV"
      },
      "source": [
        "twohundrethneigh = []\n",
        "for val in sent_vectors[:1500]:\n",
        "    twohundrethneigh.append( compute200thnearestneighbour(val, sent_vectors[:1500]) )\n",
        "twohundrethneigh.sort()"
      ],
      "execution_count": 24,
      "outputs": []
    },
    {
      "cell_type": "code",
      "metadata": {
        "colab": {
          "base_uri": "https://localhost:8080/",
          "height": 295
        },
        "id": "ZdiNzFKfuvbX",
        "outputId": "54638432-75cc-4a6d-feea-411f2d70fbed"
      },
      "source": [
        "plt.figure(figsize=(14,4))\n",
        "plt.title(\"Elbow Method for Finding the right Eps hyperparameter\")\n",
        "plt.plot([x for x in range(len(twohundrethneigh))], twohundrethneigh)\n",
        "plt.xlabel(\"Number of points\")\n",
        "plt.ylabel(\"Distance of 200th Nearest Neighbour\")\n",
        "plt.show()"
      ],
      "execution_count": 26,
      "outputs": [
        {
          "output_type": "display_data",
          "data": {
            "image/png": "[encoded data removed]",
            "text/plain": [
              "<Figure size 1008x288 with 1 Axes>"
            ]
          },
          "metadata": {
            "tags": [],
            "needs_background": "light"
          }
        }
      ]
    },
    {
      "cell_type": "code",
      "metadata": {
        "colab": {
          "base_uri": "https://localhost:8080/",
          "height": 1000
        },
        "id": "4XvU9rk9u1fv",
        "outputId": "c39ea0ed-f112-48c3-f293-8ae5c0c4a213"
      },
      "source": [
        "# Training DBSCAN :\n",
        "model = DBSCAN(eps = 5, min_samples = minPts, n_jobs=-1)\n",
        "model.fit(sent_vectors)\n",
        "df_1['AVG-W2V Clus Label'] = model.labels_\n",
        "df_1"
      ],
      "execution_count": 29,
      "outputs": [
        {
          "output_type": "execute_result",
          "data": {
            "text/html": [
              "<div>\n",
              "<style scoped>\n",
              "    .dataframe tbody tr th:only-of-type {\n",
              "        vertical-align: middle;\n",
              "    }\n",
              "\n",
              "    .dataframe tbody tr th {\n",
              "        vertical-align: top;\n",
              "    }\n",
              "\n",
              "    .dataframe thead th {\n",
              "        text-align: right;\n",
              "    }\n",
              "</style>\n",
              "<table border=\"1\" class=\"dataframe\">\n",
              "  <thead>\n",
              "    <tr style=\"text-align: right;\">\n",
              "      <th></th>\n",
              "      <th>index</th>\n",
              "      <th>Product Name</th>\n",
              "      <th>Brand Name</th>\n",
              "      <th>Price</th>\n",
              "      <th>Rating</th>\n",
              "      <th>Reviews</th>\n",
              "      <th>Review Votes</th>\n",
              "      <th>after_punct_less</th>\n",
              "      <th>after_rm_stopwords</th>\n",
              "      <th>after_numerics</th>\n",
              "      <th>after_lowercasing</th>\n",
              "      <th>after_stemming</th>\n",
              "      <th>cleaned_text</th>\n",
              "      <th>Tfidf Clus Label</th>\n",
              "      <th>AVG-W2V Clus Label</th>\n",
              "    </tr>\n",
              "  </thead>\n",
              "  <tbody>\n",
              "    <tr>\n",
              "      <th>0</th>\n",
              "      <td>297256</td>\n",
              "      <td>POSH MOBILE MICRO X, The Smallest Smartphone i...</td>\n",
              "      <td>Posh Mobile</td>\n",
              "      <td>49.99</td>\n",
              "      <td>5</td>\n",
              "      <td>Excellent for the price</td>\n",
              "      <td>0.0</td>\n",
              "      <td>Excellent for the price</td>\n",
              "      <td>Excellent price</td>\n",
              "      <td>Excellent price</td>\n",
              "      <td>excellent price</td>\n",
              "      <td>excel price</td>\n",
              "      <td>excel price</td>\n",
              "      <td>3</td>\n",
              "      <td>0</td>\n",
              "    </tr>\n",
              "    <tr>\n",
              "      <th>1</th>\n",
              "      <td>287045</td>\n",
              "      <td>OtterBox RealTree Defender Case Apple iPhone 5...</td>\n",
              "      <td>OtterBox</td>\n",
              "      <td>16.99</td>\n",
              "      <td>5</td>\n",
              "      <td>great product</td>\n",
              "      <td>0.0</td>\n",
              "      <td>great product</td>\n",
              "      <td>great product</td>\n",
              "      <td>great product</td>\n",
              "      <td>great product</td>\n",
              "      <td>great product</td>\n",
              "      <td>great product</td>\n",
              "      <td>2</td>\n",
              "      <td>0</td>\n",
              "    </tr>\n",
              "    <tr>\n",
              "      <th>2</th>\n",
              "      <td>158385</td>\n",
              "      <td>BLU Tank II T193 Unlocked GSM Dual-SIM Cell Ph...</td>\n",
              "      <td>BLU</td>\n",
              "      <td>20.99</td>\n",
              "      <td>5</td>\n",
              "      <td>😃</td>\n",
              "      <td>0.0</td>\n",
              "      <td>😃</td>\n",
              "      <td>😃</td>\n",
              "      <td>😃</td>\n",
              "      <td>😃</td>\n",
              "      <td>😃</td>\n",
              "      <td>😃</td>\n",
              "      <td>1</td>\n",
              "      <td>0</td>\n",
              "    </tr>\n",
              "    <tr>\n",
              "      <th>3</th>\n",
              "      <td>318855</td>\n",
              "      <td>Samsung Galaxy J7 J700M 16GB Dual Sim LTE Unlo...</td>\n",
              "      <td>Samsung</td>\n",
              "      <td>227.14</td>\n",
              "      <td>5</td>\n",
              "      <td>Awesome phone. Midrange phone? - Not to me. lo...</td>\n",
              "      <td>0.0</td>\n",
              "      <td>Awesome phone. Midrange phone? - Not to me. lo...</td>\n",
              "      <td>Awesome phone. Midrange phone? - Not me. lol p...</td>\n",
              "      <td>Awesome phone. Midrange phone? - Not me. lol p...</td>\n",
              "      <td>awesome phone. midrange phone? - not me. lol p...</td>\n",
              "      <td>awesom phone. midrang phone? - not me. lol pri...</td>\n",
              "      <td>awesom phone. midrang phone? - not me. lol pri...</td>\n",
              "      <td>1</td>\n",
              "      <td>0</td>\n",
              "    </tr>\n",
              "    <tr>\n",
              "      <th>4</th>\n",
              "      <td>120796</td>\n",
              "      <td>BLU Energy X Plus Smartphone - With 4000 mAh S...</td>\n",
              "      <td>BLU</td>\n",
              "      <td>139.00</td>\n",
              "      <td>4</td>\n",
              "      <td>the phone works well. size is great st 5.5 inc...</td>\n",
              "      <td>0.0</td>\n",
              "      <td>the phone works well. size is great st 5.5 inc...</td>\n",
              "      <td>phone works well. size great st 5.5 inches..th...</td>\n",
              "      <td>phone works well. size great st . inches..the ...</td>\n",
              "      <td>phone works well. size great st . inches..the ...</td>\n",
              "      <td>phone work well. size great st . inches..th so...</td>\n",
              "      <td>phone work well. size great st . inches..th so...</td>\n",
              "      <td>1</td>\n",
              "      <td>0</td>\n",
              "    </tr>\n",
              "    <tr>\n",
              "      <th>...</th>\n",
              "      <td>...</td>\n",
              "      <td>...</td>\n",
              "      <td>...</td>\n",
              "      <td>...</td>\n",
              "      <td>...</td>\n",
              "      <td>...</td>\n",
              "      <td>...</td>\n",
              "      <td>...</td>\n",
              "      <td>...</td>\n",
              "      <td>...</td>\n",
              "      <td>...</td>\n",
              "      <td>...</td>\n",
              "      <td>...</td>\n",
              "      <td>...</td>\n",
              "      <td>...</td>\n",
              "    </tr>\n",
              "    <tr>\n",
              "      <th>3995</th>\n",
              "      <td>89485</td>\n",
              "      <td>BlackBerry Bold 9900 GSM Factory Unlocked Phon...</td>\n",
              "      <td>BlackBerry</td>\n",
              "      <td>85.00</td>\n",
              "      <td>1</td>\n",
              "      <td>I was under the impression that this item was ...</td>\n",
              "      <td>0.0</td>\n",
              "      <td>I was under the impression that this item was ...</td>\n",
              "      <td>I impression item Blackberry Bold 9900 I order...</td>\n",
              "      <td>I impression item Blackberry Bold  I ordered i...</td>\n",
              "      <td>i impression item blackberry bold i ordered it...</td>\n",
              "      <td>i impress item blackberri bold i order it. the...</td>\n",
              "      <td>i impress item blackberri bold i order it. the...</td>\n",
              "      <td>1</td>\n",
              "      <td>0</td>\n",
              "    </tr>\n",
              "    <tr>\n",
              "      <th>3996</th>\n",
              "      <td>254796</td>\n",
              "      <td>Motorola MOTO X 2nd Gen XT1096 16GB (Verizon a...</td>\n",
              "      <td>Motorola</td>\n",
              "      <td>239.99</td>\n",
              "      <td>2</td>\n",
              "      <td>Disappointed it was NOT the unlocked version a...</td>\n",
              "      <td>0.0</td>\n",
              "      <td>Disappointed it was NOT the unlocked version a...</td>\n",
              "      <td>Disappointed NOT unlocked version advertised. ...</td>\n",
              "      <td>Disappointed NOT unlocked version advertised. ...</td>\n",
              "      <td>disappointed not unlocked version advertised. ...</td>\n",
              "      <td>disappoint not unlock version advertised. it v...</td>\n",
              "      <td>disappoint not unlock version advertised. it v...</td>\n",
              "      <td>1</td>\n",
              "      <td>0</td>\n",
              "    </tr>\n",
              "    <tr>\n",
              "      <th>3997</th>\n",
              "      <td>366544</td>\n",
              "      <td>Samsung Galaxy S6 G920F Gold Smartphone (5.1 Z...</td>\n",
              "      <td>Samsung</td>\n",
              "      <td>565.00</td>\n",
              "      <td>5</td>\n",
              "      <td>Bought this for someone they love the phone</td>\n",
              "      <td>0.0</td>\n",
              "      <td>Bought this for someone they love the phone</td>\n",
              "      <td>Bought someone love phone</td>\n",
              "      <td>Bought someone love phone</td>\n",
              "      <td>bought someone love phone</td>\n",
              "      <td>bought someon love phone</td>\n",
              "      <td>bought someon love phone</td>\n",
              "      <td>4</td>\n",
              "      <td>0</td>\n",
              "    </tr>\n",
              "    <tr>\n",
              "      <th>3998</th>\n",
              "      <td>285183</td>\n",
              "      <td>OtterBox Iphone 5/5S/SE Defender Case w/ Drop ...</td>\n",
              "      <td>OtterBox</td>\n",
              "      <td>6.99</td>\n",
              "      <td>4</td>\n",
              "      <td>Nice cheap phone case for holding credit cards...</td>\n",
              "      <td>0.0</td>\n",
              "      <td>Nice cheap phone case for holding credit cards...</td>\n",
              "      <td>Nice cheap phone case holding credit cards. Ca...</td>\n",
              "      <td>Nice cheap phone case holding credit cards. Ca...</td>\n",
              "      <td>nice cheap phone case holding credit cards. ca...</td>\n",
              "      <td>nice cheap phone case hold credit cards. can f...</td>\n",
              "      <td>nice cheap phone case hold credit cards. can f...</td>\n",
              "      <td>1</td>\n",
              "      <td>0</td>\n",
              "    </tr>\n",
              "    <tr>\n",
              "      <th>3999</th>\n",
              "      <td>228991</td>\n",
              "      <td>LG Nexus 5 D820 16GB Unlocked GSM 4G LTE Quad-...</td>\n",
              "      <td>NaN</td>\n",
              "      <td>160.00</td>\n",
              "      <td>1</td>\n",
              "      <td>PROS- Nice screen- Cool OS after you get used ...</td>\n",
              "      <td>3.0</td>\n",
              "      <td>PROS- Nice screen- Cool OS after you get used ...</td>\n",
              "      <td>PROS- Nice screen- Cool OS get used (not intui...</td>\n",
              "      <td>PROS- Nice screen- Cool OS get used (not intui...</td>\n",
              "      <td>pros- nice screen- cool os get used (not intui...</td>\n",
              "      <td>pros- nice screen- cool os get use (not intuit...</td>\n",
              "      <td>pros- nice screen- cool o get use (not intuit ...</td>\n",
              "      <td>1</td>\n",
              "      <td>0</td>\n",
              "    </tr>\n",
              "  </tbody>\n",
              "</table>\n",
              "<p>4000 rows × 15 columns</p>\n",
              "</div>"
            ],
            "text/plain": [
              "       index  ... AVG-W2V Clus Label\n",
              "0     297256  ...                  0\n",
              "1     287045  ...                  0\n",
              "2     158385  ...                  0\n",
              "3     318855  ...                  0\n",
              "4     120796  ...                  0\n",
              "...      ...  ...                ...\n",
              "3995   89485  ...                  0\n",
              "3996  254796  ...                  0\n",
              "3997  366544  ...                  0\n",
              "3998  285183  ...                  0\n",
              "3999  228991  ...                  0\n",
              "\n",
              "[4000 rows x 15 columns]"
            ]
          },
          "metadata": {
            "tags": []
          },
          "execution_count": 29
        }
      ]
    },
    {
      "cell_type": "markdown",
      "metadata": {
        "id": "8Q3WUZxju-s7"
      },
      "source": [
        "## Hieratchical Clustering"
      ]
    },
    {
      "cell_type": "code",
      "metadata": {
        "colab": {
          "base_uri": "https://localhost:8080/",
          "height": 285
        },
        "id": "bi2uJhJxvE7p",
        "outputId": "a913e838-b625-4c33-96af-c5e0c26e7750"
      },
      "source": [
        "import scipy\n",
        "from scipy.cluster import hierarchy\n",
        "dendro=hierarchy.dendrogram(hierarchy.linkage(sent_vectors,method='ward'))\n",
        "plt.axhline(y=35)# cut at 30 to get 5 clusters"
      ],
      "execution_count": 30,
      "outputs": [
        {
          "output_type": "execute_result",
          "data": {
            "text/plain": [
              "<matplotlib.lines.Line2D at 0x7f1889700310>"
            ]
          },
          "metadata": {
            "tags": []
          },
          "execution_count": 30
        },
        {
          "output_type": "display_data",
          "data": {
            "image/png": "[encoded data removed]",
            "text/plain": [
              "<Figure size 432x288 with 1 Axes>"
            ]
          },
          "metadata": {
            "tags": [],
            "needs_background": "light"
          }
        }
      ]
    },
    {
      "cell_type": "code",
      "metadata": {
        "id": "JOD-VnWpvH06"
      },
      "source": [
        "from sklearn.cluster import AgglomerativeClustering\n",
        "\n",
        "cluster = AgglomerativeClustering(n_clusters=5, affinity='euclidean', linkage='ward')  #took n=5 from dendrogram curve \n",
        "Agg=cluster.fit_predict(sent_vectors)"
      ],
      "execution_count": 31,
      "outputs": []
    },
    {
      "cell_type": "code",
      "metadata": {
        "colab": {
          "base_uri": "https://localhost:8080/"
        },
        "id": "N7M5jjeovJvi",
        "outputId": "0ceb51ad-0660-4b1e-e98b-2b27bc6751ed"
      },
      "source": [
        "df_1['AVG-W2V Clus Label'] = cluster.labels_\n",
        "df_1.head(2)\n",
        "df_1.groupby(['AVG-W2V Clus Label'])['cleaned_text'].count()"
      ],
      "execution_count": 32,
      "outputs": [
        {
          "output_type": "execute_result",
          "data": {
            "text/plain": [
              "AVG-W2V Clus Label\n",
              "0    1012\n",
              "1    1727\n",
              "2     981\n",
              "3     151\n",
              "4     129\n",
              "Name: cleaned_text, dtype: int64"
            ]
          },
          "metadata": {
            "tags": []
          },
          "execution_count": 32
        }
      ]
    },
    {
      "cell_type": "code",
      "metadata": {
        "colab": {
          "base_uri": "https://localhost:8080/"
        },
        "id": "Tf7int_ovPFN",
        "outputId": "6e289b79-6ffb-4ee4-b763-df0fd482b740"
      },
      "source": [
        "for i in range(5):\n",
        "    print(\"2 reviews of assigned to cluster \", i)\n",
        "    print(\"-\" * 70)\n",
        "    print(df_1.iloc[df_1.groupby(['AVG-W2V Clus Label']).groups[i][0]]['cleaned_text'])\n",
        "    print('\\n')\n",
        "    print(df_1.iloc[df_1.groupby(['AVG-W2V Clus Label']).groups[i][1]]['cleaned_text'])\n",
        "    print('\\n')\n",
        "    print(\"_\" * 70)"
      ],
      "execution_count": 33,
      "outputs": [
        {
          "output_type": "stream",
          "text": [
            "2 reviews of assigned to cluster  0\n",
            "----------------------------------------------------------------------\n",
            "awesom phone. midrang phone? - not me. lol price wise, worth\n",
            "\n",
            "\n",
            "my dad love phone...\n",
            "\n",
            "\n",
            "______________________________________________________________________\n",
            "2 reviews of assigned to cluster  1\n",
            "----------------------------------------------------------------------\n",
            "phone work well. size great st . inches..th sound awful..u bare hear full power. return\n",
            "\n",
            "\n",
            "i'm enjoy devi much. simpl unlock devise. i place at&t sim card start upload contact whatev el tie at&t locker. no glitch all.when origin purchas devise, i issue. it would delet incom text messag sever outgoing. it would also duplic incoming. it heat often send back button work. i wait cool abl close run apps. mess data usage. it' littl smaller i expected, i'm girl, work me. i could slip pocket problem. contact amazon good. ship anoth devi gave month return old one. work well. gave enough time transfer app imag time manner, rush panic hope i transfer everyth over. new devi seem work better. it' littl slow hard drive small. pictur beuti vibrant. wish camera would zoom littl megapixl i'm get i paid for. batteri life isnt best. i charg often. if im go make sure i'm % make sure last - hours. if i text lot take pics, hour max life battery. will definit buy anoth galaxi i'm readi upgrad newer version camera batteri upgrade. i get lot compliment vibranc pics.\n",
            "\n",
            "\n",
            "______________________________________________________________________\n",
            "2 reviews of assigned to cluster  2\n",
            "----------------------------------------------------------------------\n",
            "excel price\n",
            "\n",
            "\n",
            "great product\n",
            "\n",
            "\n",
            "______________________________________________________________________\n",
            "2 reviews of assigned to cluster  3\n",
            "----------------------------------------------------------------------\n",
            "😃\n",
            "\n",
            "\n",
            "perfect!\n",
            "\n",
            "\n",
            "______________________________________________________________________\n",
            "2 reviews of assigned to cluster  4\n",
            "----------------------------------------------------------------------\n",
            "excelent\n",
            "\n",
            "\n",
            "excelent producto\n",
            "\n",
            "\n",
            "______________________________________________________________________\n"
          ],
          "name": "stdout"
        }
      ]
    },
    {
      "cell_type": "markdown",
      "metadata": {
        "id": "5BeIxXtGmu7p"
      },
      "source": [
        "## In one paragraph, please compare K means, DBSCAN and Hierarchical clustering. "
      ]
    },
    {
      "cell_type": "markdown",
      "metadata": {
        "id": "4o99N_FYwwQt"
      },
      "source": [
        "K-means clustering is a popular clustering method that works well for large amounts of data. However, that is a generalized model that works well if performed for a larger number of iterations, and K-means is simple to understand with only a cluster of cluster of elements. K-means clustering will not work well when there is MISSING data or if there are some outliers in the dataset, while DBSCAN works well. Hierarchical clustering might not be as effective as k-means, but it works for any form of data and is used for a specific reason in which we need to find hierarchies in clusters. As seen in the example above of hierarchical clustering, clustering is done with the full text, and each cluster represents sentences with either a positive or negative meaning, but not both."
      ]
    }
  ]
}