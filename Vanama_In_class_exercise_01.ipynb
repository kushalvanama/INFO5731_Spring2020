{
  "nbformat": 4,
  "nbformat_minor": 0,
  "metadata": {
    "colab": {
      "name": "Vanama_In_class_exercise_01.ipynb",
      "provenance": [],
      "collapsed_sections": []
    },
    "kernelspec": {
      "display_name": "Python 3",
      "language": "python",
      "name": "python3"
    },
    "language_info": {
      "codemirror_mode": {
        "name": "ipython",
        "version": 3
      },
      "file_extension": ".py",
      "mimetype": "text/x-python",
      "name": "python",
      "nbconvert_exporter": "python",
      "pygments_lexer": "ipython3",
      "version": "3.7.4"
    }
  },
  "cells": [
    {
      "cell_type": "markdown",
      "metadata": {
        "id": "view-in-github"
      },
      "source": [
        "<a href=\"https://colab.research.google.com/github/unt-iialab/INFO5731_Spring2020/blob/master/In_class_exercise/In_class_exercise_01.ipynb\" target=\"_parent\"><img src=\"https://colab.research.google.com/assets/colab-badge.svg\" alt=\"Open In Colab\"/></a>"
      ]
    },
    {
      "cell_type": "markdown",
      "metadata": {
        "id": "DymRJbxDBCnf"
      },
      "source": [
        "# **The first In-class-exercise (1/19/2021, 20 points in total)**"
      ]
    },
    {
      "cell_type": "markdown",
      "metadata": {
        "id": "03jb4GZsBkBS"
      },
      "source": [
        "(1) Write a Python program to calculate the length of a string. (2 points)"
      ]
    },
    {
      "cell_type": "code",
      "metadata": {
        "id": "YaGLbSHHB8Ej",
        "colab": {
          "base_uri": "https://localhost:8080/"
        },
        "outputId": "0fefc2c0-3234-4fb3-c3fc-69d27d6a13d8"
      },
      "source": [
        "# write your answer here\n",
        "str = input(\"Enter a string: \")\n",
        "len = 0\n",
        "for s in str:\n",
        "      len = len+1\n",
        "print(\"Length of the input string is:\", len)\n"
      ],
      "execution_count": 2,
      "outputs": [
        {
          "output_type": "stream",
          "text": [
            "Enter a string: Kushal Vanama\n",
            "Length of the input string is: 13\n"
          ],
          "name": "stdout"
        }
      ]
    },
    {
      "cell_type": "markdown",
      "metadata": {
        "id": "jJDe71iLB616"
      },
      "source": [
        "(2) Write a Python program to count the number of characters in a string. (2 points)\n",
        "\n",
        "Sample String : 'google.com‘, \n",
        "\n",
        "Expected Result : {'o': 3, 'g': 2, '.': 1, 'e': 1, 'l': 1, 'm': 1, 'c': 1}"
      ]
    },
    {
      "cell_type": "code",
      "metadata": {
        "id": "MtKskTzbCLaU",
        "colab": {
          "base_uri": "https://localhost:8080/"
        },
        "outputId": "1020d3d9-eb49-4225-f4dc-b883eff43e74"
      },
      "source": [
        "# write your answer here\n",
        "str = input(\"Enter a string: \")\n",
        "freq = {}\n",
        "for x in str:\n",
        "  if x in freq:\n",
        "    freq[x] += 1\n",
        "  else:\n",
        "    freq[x] = 1\n",
        "print(freq)"
      ],
      "execution_count": 3,
      "outputs": [
        {
          "output_type": "stream",
          "text": [
            "Enter a string: google.com\n",
            "{'g': 2, 'o': 3, 'l': 1, 'e': 1, '.': 1, 'c': 1, 'm': 1}\n"
          ],
          "name": "stdout"
        }
      ]
    },
    {
      "cell_type": "markdown",
      "metadata": {
        "id": "55W9AMdXCSpV"
      },
      "source": [
        "(3) Write a Python program to sum all the items in a list. (2 points)"
      ]
    },
    {
      "cell_type": "code",
      "metadata": {
        "id": "I57NXsauCec2",
        "colab": {
          "base_uri": "https://localhost:8080/"
        },
        "outputId": "002a53f1-208e-498a-f829-0ad9ff49934d"
      },
      "source": [
        "# write your answer here\n",
        "num = []\n",
        "len = int(input(\"Please enter the Total Number of List Elements : \"))\n",
        "for i in range(1, len + 1):\n",
        "    value = int(input(\"Please enter the Value of %d Element : \" %i))\n",
        "    num.append(value)\n",
        "total = sum(num)\n",
        "print(\"\\n The Sum of All Element in this List is : \", total)"
      ],
      "execution_count": 4,
      "outputs": [
        {
          "output_type": "stream",
          "text": [
            "Please enter the Total Number of List Elements : 5\n",
            "Please enter the Value of 1 Element : 7\n",
            "Please enter the Value of 2 Element : 6\n",
            "Please enter the Value of 3 Element : 4\n",
            "Please enter the Value of 4 Element : 8\n",
            "Please enter the Value of 5 Element : 3\n",
            "\n",
            " The Sum of All Element in this List is :  28\n"
          ],
          "name": "stdout"
        }
      ]
    },
    {
      "cell_type": "markdown",
      "metadata": {
        "id": "4ulBZ6yhCi9F"
      },
      "source": [
        "(4) Write a Python program to get a string from a given string where all occurrences of its first char have been changed to '\\$', except the first char itself. (2 points)\n",
        "\n",
        "Sample String : 'restart‘, \n",
        "\n",
        "Expected Result : 'resta\\$t'"
      ]
    },
    {
      "cell_type": "code",
      "metadata": {
        "id": "Fj0XhwbBCw2o",
        "colab": {
          "base_uri": "https://localhost:8080/"
        },
        "outputId": "52c1f3b2-ba5a-474d-b75c-7ba464890377"
      },
      "source": [
        "# write your answer here\n",
        "str = input(\"Enter a string: \")\n",
        "char = str[0]\n",
        "str = str.replace(char, '$')\n",
        "str = char + str[1:]\n",
        "print(str)\n"
      ],
      "execution_count": 6,
      "outputs": [
        {
          "output_type": "stream",
          "text": [
            "Enter a string: restart\n",
            "resta$t\n"
          ],
          "name": "stdout"
        }
      ]
    },
    {
      "cell_type": "markdown",
      "metadata": {
        "id": "_bIP7s1MCzue"
      },
      "source": [
        "(5) Write a program with python which could accept two parameter a and b to calculate and output the result of S, where \n",
        "\n",
        "$\\ S=3.14*(1+a/b)^3$ (3 points)\n",
        "\n"
      ]
    },
    {
      "cell_type": "code",
      "metadata": {
        "id": "w79QilHXD3Mg",
        "colab": {
          "base_uri": "https://localhost:8080/"
        },
        "outputId": "fbefa029-b79a-48e8-96d5-056a9d612056"
      },
      "source": [
        "# write your answer here\n",
        "a=int(input(\"Enter a value:\"))\n",
        "b=int(input(\"Enter b value:\"))\n",
        "s = 3.14 * (1+(a/b))**3\n",
        "print(s)\n"
      ],
      "execution_count": 7,
      "outputs": [
        {
          "output_type": "stream",
          "text": [
            "Enter a value:4\n",
            "Enter b value:5\n",
            "18.312480000000004\n"
          ],
          "name": "stdout"
        }
      ]
    },
    {
      "cell_type": "markdown",
      "metadata": {
        "id": "xCa2bK9aD4Q3"
      },
      "source": [
        "(6) Write a Python program to concatenate following dictionaries to create a new one. (3 points)\n",
        "\n",
        "Sample Dictionary : dic1={1:10, 2:20}, dic2={3:30, 4:40}, dic3={5:50,6:60}, \n",
        "\n",
        "Expected Result : {1: 10, 2: 20, 3: 30, 4: 40, 5: 50, 6: 60}\n"
      ]
    },
    {
      "cell_type": "code",
      "metadata": {
        "id": "_z4aLqAbEET1",
        "colab": {
          "base_uri": "https://localhost:8080/"
        },
        "outputId": "342ba5d7-0ffb-4d25-da37-5dbd495d5b3e"
      },
      "source": [
        "# write your answer here\n",
        "dic1={1:10, 2:20}\n",
        "dic2={3:30, 4:40}\n",
        "dic3={5:50,6:60}\n",
        "dic4 = {}\n",
        "for d in (dic1, dic2, dic3): dic4.update(d)\n",
        "print(dic4)\n"
      ],
      "execution_count": 8,
      "outputs": [
        {
          "output_type": "stream",
          "text": [
            "{1: 10, 2: 20, 3: 30, 4: 40, 5: 50, 6: 60}\n"
          ],
          "name": "stdout"
        }
      ]
    },
    {
      "cell_type": "markdown",
      "metadata": {
        "id": "0v48Vqa7FrQh"
      },
      "source": [
        "(7) Write a Python program to check whether an element exists within a tuple. (3 points)"
      ]
    },
    {
      "cell_type": "code",
      "metadata": {
        "id": "7WEmgq-DF2P1",
        "colab": {
          "base_uri": "https://localhost:8080/"
        },
        "outputId": "8facb945-c100-4408-d51c-c073ae4e3160"
      },
      "source": [
        "# write your answer here\n",
        "t = (54,6,8,44,53,622)\n",
        "element = 9\n",
        "if element in t:\n",
        "    print(element,\"exists in tuple\")\n",
        "else:\n",
        "    print(element,\"does not exist in tuple\")"
      ],
      "execution_count": 9,
      "outputs": [
        {
          "output_type": "stream",
          "text": [
            "9 does not exist in tuple\n"
          ],
          "name": "stdout"
        }
      ]
    },
    {
      "cell_type": "markdown",
      "metadata": {
        "id": "vD5PYLMuGga_"
      },
      "source": [
        "(8) Write a Python program to find maximum and the minimum value in a set. (3 points)"
      ]
    },
    {
      "cell_type": "code",
      "metadata": {
        "id": "t0D5kdJUGjjw",
        "colab": {
          "base_uri": "https://localhost:8080/"
        },
        "outputId": "2081a5b7-9610-46d9-a1ab-cd77135bbeff"
      },
      "source": [
        "# write your answer here\n",
        "test_set = set([6,33,5,7,88,53,65])\n",
        "print(\"Maximum value is: \", max(test_set))\n",
        "print(\"Minimum value is: \", min(test_set))\n"
      ],
      "execution_count": 10,
      "outputs": [
        {
          "output_type": "stream",
          "text": [
            "Maximum value is:  88\n",
            "Minimum value is:  5\n"
          ],
          "name": "stdout"
        }
      ]
    },
    {
      "cell_type": "markdown",
      "metadata": {
        "id": "uHkd-y5VhVWC"
      },
      "source": [
        "(9) Write a Python program to randomly divide the students in this class into five groups for term projects, each group should have at least 3 students but no more than 5 students (including 5). Here is the students list: (3 points for extra)\n",
        "\n",
        "studnet_list = ['vmb0067','pc0353','snd0097','yye0005','sg0940','bk0301','rak0120','rrk0058','spk0057','vl0135','nm0547','pn0159',\n",
        "                'msp0174','dd0420','ds0761','rs0850','ss1995','at0739','at0768','mv0299','tv0119','dy0091']"
      ]
    },
    {
      "cell_type": "code",
      "metadata": {
        "id": "3iGbmcOBhTwy",
        "colab": {
          "base_uri": "https://localhost:8080/"
        },
        "outputId": "f25bff14-028e-4d35-ccae-b464b26a327e"
      },
      "source": [
        "# write your answer here\n",
        "from itertools import islice\n",
        "from random import randint\n",
        "student_list = ['vmb0067','pc0353','snd0097','yye0005','sg0940','bk0301','rak0120','rrk0058','spk0057','vl0135','nm0547','pn0159', 'msp0174','dd0420','ds0761','rs0850','ss1995','at0739','at0768','mv0299','tv0119','dy0091']\n",
        "\n",
        "def dividing(student_list, minlength=3, maxlength=5):\n",
        "    iterator = iter(student_list)\n",
        "    while 1:\n",
        "        next = list(islice(iterator,randint(minlength,maxlength)))\n",
        "        if next:\n",
        "            yield next\n",
        "        else:\n",
        "            break\n",
        "\n",
        "list(dividing(student_list))"
      ],
      "execution_count": 15,
      "outputs": [
        {
          "output_type": "execute_result",
          "data": {
            "text/plain": [
              "[['vmb0067', 'pc0353', 'snd0097', 'yye0005', 'sg0940'],\n",
              " ['bk0301', 'rak0120', 'rrk0058'],\n",
              " ['spk0057', 'vl0135', 'nm0547'],\n",
              " ['pn0159', 'msp0174', 'dd0420', 'ds0761', 'rs0850'],\n",
              " ['ss1995', 'at0739', 'at0768', 'mv0299', 'tv0119'],\n",
              " ['dy0091']]"
            ]
          },
          "metadata": {
            "tags": []
          },
          "execution_count": 15
        }
      ]
    }
  ]
}