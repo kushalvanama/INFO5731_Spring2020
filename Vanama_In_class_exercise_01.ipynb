{
  "nbformat": 4,
  "nbformat_minor": 0,
  "metadata": {
    "colab": {
      "name": "Vanama_In_class_exercise_01.ipynb",
      "provenance": [],
      "collapsed_sections": []
    },
    "kernelspec": {
      "display_name": "Python 3",
      "language": "python",
      "name": "python3"
    },
    "language_info": {
      "codemirror_mode": {
        "name": "ipython",
        "version": 3
      },
      "file_extension": ".py",
      "mimetype": "text/x-python",
      "name": "python",
      "nbconvert_exporter": "python",
      "pygments_lexer": "ipython3",
      "version": "3.7.4"
    }
  },
  "cells": [
    {
      "cell_type": "markdown",
      "metadata": {
        "id": "view-in-github"
      },
      "source": [
        "<a href=\"https://colab.research.google.com/github/unt-iialab/INFO5731_Spring2020/blob/master/In_class_exercise/In_class_exercise_01.ipynb\" target=\"_parent\"><img src=\"https://colab.research.google.com/assets/colab-badge.svg\" alt=\"Open In Colab\"/></a>"
      ]
    },
    {
      "cell_type": "markdown",
      "metadata": {
        "id": "DymRJbxDBCnf"
      },
      "source": [
        "# **The first In-class-exercise (1/19/2021, 20 points in total)**"
      ]
    },
    {
      "cell_type": "markdown",
      "metadata": {
        "id": "03jb4GZsBkBS"
      },
      "source": [
        "(1) Write a Python program to calculate the length of a string. (2 points)"
      ]
    },
    {
      "cell_type": "code",
      "metadata": {
        "id": "YaGLbSHHB8Ej",
        "colab": {
          "base_uri": "https://localhost:8080/"
        },
        "outputId": "6ea3917b-049b-4d16-af86-34b6b63789e4"
      },
      "source": [
        "# write your answer here\n",
        "str = input(\"Enter a string: \")\n",
        "len = 0\n",
        "for s in str:\n",
        "      len = len+1\n",
        "print(\"Length of the input string is:\", len)\n"
      ],
      "execution_count": 1,
      "outputs": [
        {
          "output_type": "stream",
          "text": [
            "Enter a string: hello\n",
            "Length of the input string is: 5\n"
          ],
          "name": "stdout"
        }
      ]
    },
    {
      "cell_type": "markdown",
      "metadata": {
        "id": "jJDe71iLB616"
      },
      "source": [
        "(2) Write a Python program to count the number of characters in a string. (2 points)\n",
        "\n",
        "Sample String : 'google.com‘, \n",
        "\n",
        "Expected Result : {'o': 3, 'g': 2, '.': 1, 'e': 1, 'l': 1, 'm': 1, 'c': 1}"
      ]
    },
    {
      "cell_type": "code",
      "metadata": {
        "id": "MtKskTzbCLaU",
        "colab": {
          "base_uri": "https://localhost:8080/"
        },
        "outputId": "60400ef3-8200-48b1-aa75-6432232a073a"
      },
      "source": [
        "# write your answer here\n",
        "str = input(\"Enter a string: \")\n",
        "freq = {}\n",
        "for x in str:\n",
        "  if x in freq:\n",
        "    freq[x] += 1\n",
        "  else:\n",
        "    freq[x] = 1\n",
        "print(freq)"
      ],
      "execution_count": 6,
      "outputs": [
        {
          "output_type": "stream",
          "text": [
            "Enter a string: google.com\n",
            "{'g': 2, 'o': 3, 'l': 1, 'e': 1, '.': 1, 'c': 1, 'm': 1}\n"
          ],
          "name": "stdout"
        }
      ]
    },
    {
      "cell_type": "markdown",
      "metadata": {
        "id": "55W9AMdXCSpV"
      },
      "source": [
        "(3) Write a Python program to sum all the items in a list. (2 points)"
      ]
    },
    {
      "cell_type": "code",
      "metadata": {
        "id": "I57NXsauCec2",
        "colab": {
          "base_uri": "https://localhost:8080/"
        },
        "outputId": "dbe0d55b-6fa4-444f-f8f5-af79ec0015ab"
      },
      "source": [
        "# write your answer here\n",
        "num = []\n",
        "len = int(input(\"Please enter the Total Number of List Elements : \"))\n",
        "for i in range(1, len + 1):\n",
        "    value = int(input(\"Please enter the Value of %d Element : \" %i))\n",
        "    num.append(value)\n",
        "total = sum(num)\n",
        "print(\"\\n The Sum of All Element in this List is : \", total)"
      ],
      "execution_count": 8,
      "outputs": [
        {
          "output_type": "stream",
          "text": [
            "Please enter the Total Number of List Elements : 6\n",
            "Please enter the Value of 1 Element : 4\n",
            "Please enter the Value of 2 Element : 5\n",
            "Please enter the Value of 3 Element : 3\n",
            "Please enter the Value of 4 Element : 2\n",
            "Please enter the Value of 5 Element : 4\n",
            "Please enter the Value of 6 Element : 5\n",
            "\n",
            " The Sum of All Element in this List is :  23\n"
          ],
          "name": "stdout"
        }
      ]
    },
    {
      "cell_type": "markdown",
      "metadata": {
        "id": "4ulBZ6yhCi9F"
      },
      "source": [
        "(4) Write a Python program to get a string from a given string where all occurrences of its first char have been changed to '\\$', except the first char itself. (2 points)\n",
        "\n",
        "Sample String : 'restart‘, \n",
        "\n",
        "Expected Result : 'resta\\$t'"
      ]
    },
    {
      "cell_type": "code",
      "metadata": {
        "id": "Fj0XhwbBCw2o",
        "colab": {
          "base_uri": "https://localhost:8080/"
        },
        "outputId": "17da2383-bc03-45b7-e828-0c1694d3beef"
      },
      "source": [
        "# write your answer here\n",
        "str = input(\"Enter a string: \")\n",
        "char = str[0]\n",
        "str = str.replace(char, '$')\n",
        "str = char + str[1:]\n",
        "print(str)\n"
      ],
      "execution_count": 12,
      "outputs": [
        {
          "output_type": "stream",
          "text": [
            "Enter a string: chicken\n",
            "chi$ken\n"
          ],
          "name": "stdout"
        }
      ]
    },
    {
      "cell_type": "markdown",
      "metadata": {
        "id": "_bIP7s1MCzue"
      },
      "source": [
        "(5) Write a program with python which could accept two parameter a and b to calculate and output the result of S, where \n",
        "\n",
        "$\\ S=3.14*(1+a/b)^3$ (3 points)\n",
        "\n"
      ]
    },
    {
      "cell_type": "code",
      "metadata": {
        "id": "w79QilHXD3Mg",
        "colab": {
          "base_uri": "https://localhost:8080/"
        },
        "outputId": "09293e6f-f8a7-4035-9024-44a61d328e5f"
      },
      "source": [
        "# write your answer here\n",
        "a=int(input(\"Enter a value:\"))\n",
        "b=int(input(\"Enter b value:\"))\n",
        "s = 3.14 * (1+(a/b))**3\n",
        "print(s)\n"
      ],
      "execution_count": 9,
      "outputs": [
        {
          "output_type": "stream",
          "text": [
            "Enter a value:3\n",
            "Enter b value:4\n",
            "16.8284375\n"
          ],
          "name": "stdout"
        }
      ]
    },
    {
      "cell_type": "markdown",
      "metadata": {
        "id": "xCa2bK9aD4Q3"
      },
      "source": [
        "(6) Write a Python program to concatenate following dictionaries to create a new one. (3 points)\n",
        "\n",
        "Sample Dictionary : dic1={1:10, 2:20}, dic2={3:30, 4:40}, dic3={5:50,6:60}, \n",
        "\n",
        "Expected Result : {1: 10, 2: 20, 3: 30, 4: 40, 5: 50, 6: 60}\n"
      ]
    },
    {
      "cell_type": "code",
      "metadata": {
        "id": "_z4aLqAbEET1",
        "colab": {
          "base_uri": "https://localhost:8080/"
        },
        "outputId": "6b9a4f0d-bc1a-4290-e4e1-27d51e80a4e2"
      },
      "source": [
        "# write your answer here\n",
        "dic1={1:10, 2:20}\n",
        "dic2={3:30, 4:40}\n",
        "dic3={5:50,6:60}\n",
        "dic4 = {}\n",
        "for d in (dic1, dic2, dic3): dic4.update(d)\n",
        "print(dic4)\n"
      ],
      "execution_count": 13,
      "outputs": [
        {
          "output_type": "stream",
          "text": [
            "{1: 10, 2: 20, 3: 30, 4: 40, 5: 50, 6: 60}\n"
          ],
          "name": "stdout"
        }
      ]
    },
    {
      "cell_type": "markdown",
      "metadata": {
        "id": "0v48Vqa7FrQh"
      },
      "source": [
        "(7) Write a Python program to check whether an element exists within a tuple. (3 points)"
      ]
    },
    {
      "cell_type": "code",
      "metadata": {
        "id": "7WEmgq-DF2P1",
        "colab": {
          "base_uri": "https://localhost:8080/"
        },
        "outputId": "1e4586d8-a585-4d65-9686-d960078c086a"
      },
      "source": [
        "# write your answer here\n",
        "t = (54,6,8,44,53,622)\n",
        "element = 9\n",
        "if element in t:\n",
        "    print(element,\"exists in tuple\")\n",
        "else:\n",
        "    print(element,\"does not exist in tuple\")"
      ],
      "execution_count": 17,
      "outputs": [
        {
          "output_type": "stream",
          "text": [
            "9 does not exist in tuple\n"
          ],
          "name": "stdout"
        }
      ]
    },
    {
      "cell_type": "markdown",
      "metadata": {
        "id": "vD5PYLMuGga_"
      },
      "source": [
        "(8) Write a Python program to find maximum and the minimum value in a set. (3 points)"
      ]
    },
    {
      "cell_type": "code",
      "metadata": {
        "id": "t0D5kdJUGjjw",
        "colab": {
          "base_uri": "https://localhost:8080/"
        },
        "outputId": "33f7b429-7a0d-41e9-f1ab-d4fbcca9803e"
      },
      "source": [
        "# write your answer here\n",
        "test_set = set([6,33,5,7,88,53,65])\n",
        "print(\"Maximum value is: \", max(test_set))\n",
        "print(\"Minimum value is: \", min(test_set))\n"
      ],
      "execution_count": 23,
      "outputs": [
        {
          "output_type": "stream",
          "text": [
            "Maximum value is:  88\n",
            "Minimum value is:  5\n"
          ],
          "name": "stdout"
        }
      ]
    },
    {
      "cell_type": "markdown",
      "metadata": {
        "id": "uHkd-y5VhVWC"
      },
      "source": [
        "(9) Write a Python program to randomly divide the students in this class into five groups for term projects, each group should have at least 3 students but no more than 5 students (including 5). Here is the students list: (3 points for extra)\n",
        "\n",
        "studnet_list = ['vmb0067','pc0353','snd0097','yye0005','sg0940','bk0301','rak0120','rrk0058','spk0057','vl0135','nm0547','pn0159',\n",
        "                'msp0174','dd0420','ds0761','rs0850','ss1995','at0739','at0768','mv0299','tv0119','dy0091']"
      ]
    },
    {
      "cell_type": "code",
      "metadata": {
        "id": "3iGbmcOBhTwy",
        "colab": {
          "base_uri": "https://localhost:8080/"
        },
        "outputId": "c97c9c06-fb16-450e-efc2-aa416c0864b1"
      },
      "source": [
        "# write your answer here\n",
        "from itertools import islice\n",
        "from random import randint\n",
        "student_list = ['vmb0067','pc0353','snd0097','yye0005','sg0940','bk0301','rak0120','rrk0058','spk0057','vl0135','nm0547','pn0159', 'msp0174','dd0420','ds0761','rs0850','ss1995','at0739','at0768','mv0299','tv0119','dy0091']\n",
        "def dividing(student_list, mingroup=3, maxgroup=5):\n",
        "    iterate = iter(student_list)\n",
        "    while True:\n",
        "        next = list(islice(iterate,randint(mingroup,maxgroup)))\n",
        "        if next:\n",
        "            yield next\n",
        "        else:\n",
        "            break\n",
        "list(dividing(student_list))"
      ],
      "execution_count": 25,
      "outputs": [
        {
          "output_type": "execute_result",
          "data": {
            "text/plain": [
              "[['vmb0067', 'pc0353', 'snd0097', 'yye0005'],\n",
              " ['sg0940', 'bk0301', 'rak0120'],\n",
              " ['rrk0058', 'spk0057', 'vl0135'],\n",
              " ['nm0547', 'pn0159', 'msp0174'],\n",
              " ['dd0420', 'ds0761', 'rs0850', 'ss1995'],\n",
              " ['at0739', 'at0768', 'mv0299', 'tv0119'],\n",
              " ['dy0091']]"
            ]
          },
          "metadata": {
            "tags": []
          },
          "execution_count": 25
        }
      ]
    }
  ]
}