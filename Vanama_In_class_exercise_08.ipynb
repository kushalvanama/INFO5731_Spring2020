{
  "nbformat": 4,
  "nbformat_minor": 0,
  "metadata": {
    "kernelspec": {
      "display_name": "Python 3",
      "language": "python",
      "name": "python3"
    },
    "language_info": {
      "codemirror_mode": {
        "name": "ipython",
        "version": 3
      },
      "file_extension": ".py",
      "mimetype": "text/x-python",
      "name": "python",
      "nbconvert_exporter": "python",
      "pygments_lexer": "ipython3",
      "version": "3.8.5"
    },
    "colab": {
      "name": "In_class_exercise_08.ipynb",
      "provenance": [],
      "collapsed_sections": []
    }
  },
  "cells": [
    {
      "cell_type": "markdown",
      "metadata": {
        "id": "1X7TqyJGzbON"
      },
      "source": [
        "# **The eighth in-class-exercise (20 points in total, 3/30/2021)**"
      ]
    },
    {
      "cell_type": "markdown",
      "metadata": {
        "id": "im1dnIwbzbOQ"
      },
      "source": [
        "The data for this exercise is from the dataset you created from assignment three. Please perform answer the following questions based on your data:"
      ]
    },
    {
      "cell_type": "markdown",
      "metadata": {
        "id": "uVrZxJj7zbOR"
      },
      "source": [
        "## (1) (10 points) Write a python program to extract the sentiment related terms from the corpus. You may use python package such as polyglot or external lexicon resources in the question. Rank the sentiment related terms by frequency."
      ]
    },
    {
      "cell_type": "code",
      "metadata": {
        "colab": {
          "base_uri": "https://localhost:8080/"
        },
        "id": "cmA1JpS70E_z",
        "outputId": "aa619fd1-89e6-4740-ede9-5062aaf6e8b1"
      },
      "source": [
        "!pip install vaderSentiment"
      ],
      "execution_count": 1,
      "outputs": [
        {
          "output_type": "stream",
          "text": [
            "Requirement already satisfied: vaderSentiment in /usr/local/lib/python3.7/dist-packages (3.3.2)\n",
            "Requirement already satisfied: requests in /usr/local/lib/python3.7/dist-packages (from vaderSentiment) (2.23.0)\n",
            "Requirement already satisfied: certifi>=2017.4.17 in /usr/local/lib/python3.7/dist-packages (from requests->vaderSentiment) (2020.12.5)\n",
            "Requirement already satisfied: urllib3!=1.25.0,!=1.25.1,<1.26,>=1.21.1 in /usr/local/lib/python3.7/dist-packages (from requests->vaderSentiment) (1.24.3)\n",
            "Requirement already satisfied: idna<3,>=2.5 in /usr/local/lib/python3.7/dist-packages (from requests->vaderSentiment) (2.10)\n",
            "Requirement already satisfied: chardet<4,>=3.0.2 in /usr/local/lib/python3.7/dist-packages (from requests->vaderSentiment) (3.0.4)\n"
          ],
          "name": "stdout"
        }
      ]
    },
    {
      "cell_type": "code",
      "metadata": {
        "colab": {
          "base_uri": "https://localhost:8080/"
        },
        "id": "EBxGqeMFzbOR",
        "outputId": "61ddbac9-b570-4792-cfbc-86400091835f"
      },
      "source": [
        "# Write your code here\n",
        "from nltk.util import ngrams \n",
        "import nltk, re, string, collections\n",
        "from nltk.corpus import stopwords\n",
        "import pandas as pd\n",
        "import glob\n",
        "import json\n",
        "import csv\n",
        "import pandas as pd\n",
        "import numpy as np\n",
        "from vaderSentiment.vaderSentiment import SentimentIntensityAnalyzer\n",
        "from wordcloud import WordCloud\n",
        "import nltk\n",
        "nltk.download('vader_lexicon')\n",
        "from nltk.corpus import stopwords\n",
        "from nltk.tokenize import sent_tokenize, word_tokenize\n",
        "from textblob import TextBlob\n",
        "from textblob.sentiments import NaiveBayesAnalyzer\n",
        "import string\n",
        "import matplotlib.pyplot as plt\n",
        "from nltk.stem import PorterStemmer\n",
        "import warnings\n",
        "warnings.filterwarnings(\"ignore\")\n"
      ],
      "execution_count": 2,
      "outputs": [
        {
          "output_type": "stream",
          "text": [
            "[nltk_data] Downloading package vader_lexicon to /root/nltk_data...\n",
            "[nltk_data]   Package vader_lexicon is already up-to-date!\n"
          ],
          "name": "stdout"
        }
      ]
    },
    {
      "cell_type": "code",
      "metadata": {
        "colab": {
          "base_uri": "https://localhost:8080/",
          "height": 402
        },
        "id": "sEj2BwJY0o1K",
        "outputId": "a95ef857-e517-4716-8149-d50b73b4f562"
      },
      "source": [
        "df = pd.read_csv('/content/clean_reviews.csv')\n",
        "df"
      ],
      "execution_count": 3,
      "outputs": [
        {
          "output_type": "execute_result",
          "data": {
            "text/html": [
              "<div>\n",
              "<style scoped>\n",
              "    .dataframe tbody tr th:only-of-type {\n",
              "        vertical-align: middle;\n",
              "    }\n",
              "\n",
              "    .dataframe tbody tr th {\n",
              "        vertical-align: top;\n",
              "    }\n",
              "\n",
              "    .dataframe thead th {\n",
              "        text-align: right;\n",
              "    }\n",
              "</style>\n",
              "<table border=\"1\" class=\"dataframe\">\n",
              "  <thead>\n",
              "    <tr style=\"text-align: right;\">\n",
              "      <th></th>\n",
              "      <th>Review</th>\n",
              "    </tr>\n",
              "  </thead>\n",
              "  <tbody>\n",
              "    <tr>\n",
              "      <th>0</th>\n",
              "      <td>Every movie comes, truly makes impact. Joaquin...</td>\n",
              "    </tr>\n",
              "    <tr>\n",
              "      <th>1</th>\n",
              "      <td>This movie felt alone isolated truly relate it...</td>\n",
              "    </tr>\n",
              "    <tr>\n",
              "      <th>2</th>\n",
              "      <td>Truly masterpiece, The Best Hollywood film 201...</td>\n",
              "    </tr>\n",
              "    <tr>\n",
              "      <th>3</th>\n",
              "      <td>Joaquin Phoenix gives tour de force performanc...</td>\n",
              "    </tr>\n",
              "    <tr>\n",
              "      <th>4</th>\n",
              "      <td>Most time movies anticipated like end falling ...</td>\n",
              "    </tr>\n",
              "    <tr>\n",
              "      <th>...</th>\n",
              "      <td>...</td>\n",
              "    </tr>\n",
              "    <tr>\n",
              "      <th>95</th>\n",
              "      <td>Heath great dark Knight, even liked Jared Leto...</td>\n",
              "    </tr>\n",
              "    <tr>\n",
              "      <th>96</th>\n",
              "      <td>I excited movie came theaters raving reviews I...</td>\n",
              "    </tr>\n",
              "    <tr>\n",
              "      <th>97</th>\n",
              "      <td>There homage borrowing wholesale material. Thi...</td>\n",
              "    </tr>\n",
              "    <tr>\n",
              "      <th>98</th>\n",
              "      <td>Disturbing. Just got movie. My humor much bett...</td>\n",
              "    </tr>\n",
              "    <tr>\n",
              "      <th>99</th>\n",
              "      <td>What legendary character legendary performance...</td>\n",
              "    </tr>\n",
              "  </tbody>\n",
              "</table>\n",
              "<p>100 rows × 1 columns</p>\n",
              "</div>"
            ],
            "text/plain": [
              "                                               Review\n",
              "0   Every movie comes, truly makes impact. Joaquin...\n",
              "1   This movie felt alone isolated truly relate it...\n",
              "2   Truly masterpiece, The Best Hollywood film 201...\n",
              "3   Joaquin Phoenix gives tour de force performanc...\n",
              "4   Most time movies anticipated like end falling ...\n",
              "..                                                ...\n",
              "95  Heath great dark Knight, even liked Jared Leto...\n",
              "96  I excited movie came theaters raving reviews I...\n",
              "97  There homage borrowing wholesale material. Thi...\n",
              "98  Disturbing. Just got movie. My humor much bett...\n",
              "99  What legendary character legendary performance...\n",
              "\n",
              "[100 rows x 1 columns]"
            ]
          },
          "metadata": {
            "tags": []
          },
          "execution_count": 3
        }
      ]
    },
    {
      "cell_type": "code",
      "metadata": {
        "id": "HUIK8Nxa30dw"
      },
      "source": [
        "import re\n",
        "import nltk\n",
        "import random\n",
        "\n",
        "import pandas as pd\n",
        "import numpy as np\n",
        "\n",
        "from bs4 import BeautifulSoup\n",
        "from nltk.corpus import stopwords\n",
        "from nltk.stem.porter import PorterStemmer\n",
        "english_stemmer=nltk.stem.SnowballStemmer('english')\n",
        "from sklearn.feature_extraction.text import TfidfVectorizer\n",
        "from sklearn.cluster import KMeans\n",
        "from sklearn.metrics import adjusted_rand_score\n",
        "from sklearn.cluster import DBSCAN\n",
        "from sklearn.metrics.pairwise import cosine_similarity\n"
      ],
      "execution_count": 4,
      "outputs": []
    },
    {
      "cell_type": "code",
      "metadata": {
        "id": "KEgg-xw94eiX"
      },
      "source": [
        "def sentimental_Score(sentence):\n",
        "    analyzer = SentimentIntensityAnalyzer()\n",
        "    vs = analyzer.polarity_scores(sentence)\n",
        "    score=vs['compound']\n",
        "    if score >= 0.5:\n",
        "        return 'Positive'\n",
        "    elif score <= -0.5:\n",
        "        return 'Negative'\n",
        "    else:\n",
        "        return 'Neutral'"
      ],
      "execution_count": 5,
      "outputs": []
    },
    {
      "cell_type": "code",
      "metadata": {
        "id": "ASghyFwc4juL"
      },
      "source": [
        "# sentiment calculation by our data as input\n",
        "Selected_Rows=df.head(df.shape[0])\n",
        "Selected_Rows['Sentiment_Score']=Selected_Rows['Review'].apply(lambda x: sentimental_Score(x))\n",
        "pos = Selected_Rows.loc[Selected_Rows['Sentiment_Score'] == 'Positive']\n",
        "neg = Selected_Rows.loc[Selected_Rows['Sentiment_Score'] == 'Negative']\n",
        "neu = Selected_Rows.loc[Selected_Rows['Sentiment_Score'] == 'Neutral']"
      ],
      "execution_count": 6,
      "outputs": []
    },
    {
      "cell_type": "code",
      "metadata": {
        "colab": {
          "base_uri": "https://localhost:8080/",
          "height": 418
        },
        "id": "x_WNwyIF6-89",
        "outputId": "1e947c55-8863-41fd-f047-d5154ef35125"
      },
      "source": [
        "print(\"The Number of Columns which have positive sentiment are :\", pos['Review'].size)\n",
        "pos"
      ],
      "execution_count": 7,
      "outputs": [
        {
          "output_type": "stream",
          "text": [
            "The Number of Columns which have positive sentiment are : 61\n"
          ],
          "name": "stdout"
        },
        {
          "output_type": "execute_result",
          "data": {
            "text/html": [
              "<div>\n",
              "<style scoped>\n",
              "    .dataframe tbody tr th:only-of-type {\n",
              "        vertical-align: middle;\n",
              "    }\n",
              "\n",
              "    .dataframe tbody tr th {\n",
              "        vertical-align: top;\n",
              "    }\n",
              "\n",
              "    .dataframe thead th {\n",
              "        text-align: right;\n",
              "    }\n",
              "</style>\n",
              "<table border=\"1\" class=\"dataframe\">\n",
              "  <thead>\n",
              "    <tr style=\"text-align: right;\">\n",
              "      <th></th>\n",
              "      <th>Review</th>\n",
              "      <th>Sentiment_Score</th>\n",
              "    </tr>\n",
              "  </thead>\n",
              "  <tbody>\n",
              "    <tr>\n",
              "      <th>0</th>\n",
              "      <td>Every movie comes, truly makes impact. Joaquin...</td>\n",
              "      <td>Positive</td>\n",
              "    </tr>\n",
              "    <tr>\n",
              "      <th>1</th>\n",
              "      <td>This movie felt alone isolated truly relate it...</td>\n",
              "      <td>Positive</td>\n",
              "    </tr>\n",
              "    <tr>\n",
              "      <th>2</th>\n",
              "      <td>Truly masterpiece, The Best Hollywood film 201...</td>\n",
              "      <td>Positive</td>\n",
              "    </tr>\n",
              "    <tr>\n",
              "      <th>3</th>\n",
              "      <td>Joaquin Phoenix gives tour de force performanc...</td>\n",
              "      <td>Positive</td>\n",
              "    </tr>\n",
              "    <tr>\n",
              "      <th>5</th>\n",
              "      <td>Let start saying Joaquin Phoneix get Oscar mov...</td>\n",
              "      <td>Positive</td>\n",
              "    </tr>\n",
              "    <tr>\n",
              "      <th>...</th>\n",
              "      <td>...</td>\n",
              "      <td>...</td>\n",
              "    </tr>\n",
              "    <tr>\n",
              "      <th>91</th>\n",
              "      <td>Is anyone 30 see kind ripped \"the King Comedy ...</td>\n",
              "      <td>Positive</td>\n",
              "    </tr>\n",
              "    <tr>\n",
              "      <th>93</th>\n",
              "      <td>Joker without doubt new favorite DC film. It's...</td>\n",
              "      <td>Positive</td>\n",
              "    </tr>\n",
              "    <tr>\n",
              "      <th>94</th>\n",
              "      <td>To say satisfying would somewhat misleading. J...</td>\n",
              "      <td>Positive</td>\n",
              "    </tr>\n",
              "    <tr>\n",
              "      <th>95</th>\n",
              "      <td>Heath great dark Knight, even liked Jared Leto...</td>\n",
              "      <td>Positive</td>\n",
              "    </tr>\n",
              "    <tr>\n",
              "      <th>99</th>\n",
              "      <td>What legendary character legendary performance...</td>\n",
              "      <td>Positive</td>\n",
              "    </tr>\n",
              "  </tbody>\n",
              "</table>\n",
              "<p>61 rows × 2 columns</p>\n",
              "</div>"
            ],
            "text/plain": [
              "                                               Review Sentiment_Score\n",
              "0   Every movie comes, truly makes impact. Joaquin...        Positive\n",
              "1   This movie felt alone isolated truly relate it...        Positive\n",
              "2   Truly masterpiece, The Best Hollywood film 201...        Positive\n",
              "3   Joaquin Phoenix gives tour de force performanc...        Positive\n",
              "5   Let start saying Joaquin Phoneix get Oscar mov...        Positive\n",
              "..                                                ...             ...\n",
              "91  Is anyone 30 see kind ripped \"the King Comedy ...        Positive\n",
              "93  Joker without doubt new favorite DC film. It's...        Positive\n",
              "94  To say satisfying would somewhat misleading. J...        Positive\n",
              "95  Heath great dark Knight, even liked Jared Leto...        Positive\n",
              "99  What legendary character legendary performance...        Positive\n",
              "\n",
              "[61 rows x 2 columns]"
            ]
          },
          "metadata": {
            "tags": []
          },
          "execution_count": 7
        }
      ]
    },
    {
      "cell_type": "code",
      "metadata": {
        "colab": {
          "base_uri": "https://localhost:8080/",
          "height": 597
        },
        "id": "R5gbRQmG46jD",
        "outputId": "6a32722d-def1-41e1-8f72-52b4a7e7877f"
      },
      "source": [
        "print(\"The Number of Columns which have neutral sentiment are :\", neu['Review'].size)\n",
        "neu"
      ],
      "execution_count": 8,
      "outputs": [
        {
          "output_type": "stream",
          "text": [
            "The Number of Columns which have neutral sentiment are : 18\n"
          ],
          "name": "stdout"
        },
        {
          "output_type": "execute_result",
          "data": {
            "text/html": [
              "<div>\n",
              "<style scoped>\n",
              "    .dataframe tbody tr th:only-of-type {\n",
              "        vertical-align: middle;\n",
              "    }\n",
              "\n",
              "    .dataframe tbody tr th {\n",
              "        vertical-align: top;\n",
              "    }\n",
              "\n",
              "    .dataframe thead th {\n",
              "        text-align: right;\n",
              "    }\n",
              "</style>\n",
              "<table border=\"1\" class=\"dataframe\">\n",
              "  <thead>\n",
              "    <tr style=\"text-align: right;\">\n",
              "      <th></th>\n",
              "      <th>Review</th>\n",
              "      <th>Sentiment_Score</th>\n",
              "    </tr>\n",
              "  </thead>\n",
              "  <tbody>\n",
              "    <tr>\n",
              "      <th>6</th>\n",
              "      <td>I get people hate . It's political message peo...</td>\n",
              "      <td>Neutral</td>\n",
              "    </tr>\n",
              "    <tr>\n",
              "      <th>13</th>\n",
              "      <td>The movie affects way makes physically painful...</td>\n",
              "      <td>Neutral</td>\n",
              "    </tr>\n",
              "    <tr>\n",
              "      <th>16</th>\n",
              "      <td>I stop watching movies Joaquin Phoenix awarded...</td>\n",
              "      <td>Neutral</td>\n",
              "    </tr>\n",
              "    <tr>\n",
              "      <th>24</th>\n",
              "      <td>I know unpopular opinion, honestly movie overr...</td>\n",
              "      <td>Neutral</td>\n",
              "    </tr>\n",
              "    <tr>\n",
              "      <th>30</th>\n",
              "      <td>They say writing. And great example that. Good...</td>\n",
              "      <td>Neutral</td>\n",
              "    </tr>\n",
              "    <tr>\n",
              "      <th>33</th>\n",
              "      <td>It really slow paced boring. It overhyped opin...</td>\n",
              "      <td>Neutral</td>\n",
              "    </tr>\n",
              "    <tr>\n",
              "      <th>37</th>\n",
              "      <td>I expecting masterpiece oscar worthy film hype...</td>\n",
              "      <td>Neutral</td>\n",
              "    </tr>\n",
              "    <tr>\n",
              "      <th>38</th>\n",
              "      <td>I thought movie complete utter garbage. I unde...</td>\n",
              "      <td>Neutral</td>\n",
              "    </tr>\n",
              "    <tr>\n",
              "      <th>45</th>\n",
              "      <td>Don't waste 2 hours life movie baddest i've se...</td>\n",
              "      <td>Neutral</td>\n",
              "    </tr>\n",
              "    <tr>\n",
              "      <th>47</th>\n",
              "      <td>I understand high ratings. I went cinema high ...</td>\n",
              "      <td>Neutral</td>\n",
              "    </tr>\n",
              "    <tr>\n",
              "      <th>56</th>\n",
              "      <td>Joaquin Phoenix produces one memorable perform...</td>\n",
              "      <td>Neutral</td>\n",
              "    </tr>\n",
              "    <tr>\n",
              "      <th>59</th>\n",
              "      <td>I never left review title, good bad piece garb...</td>\n",
              "      <td>Neutral</td>\n",
              "    </tr>\n",
              "    <tr>\n",
              "      <th>64</th>\n",
              "      <td>There reason masterpiece panned crony capitali...</td>\n",
              "      <td>Neutral</td>\n",
              "    </tr>\n",
              "    <tr>\n",
              "      <th>67</th>\n",
              "      <td>I'm making sure give movie 1 star definitely 8...</td>\n",
              "      <td>Neutral</td>\n",
              "    </tr>\n",
              "    <tr>\n",
              "      <th>68</th>\n",
              "      <td>DC STILL give us compelling movie. Wasn't quit...</td>\n",
              "      <td>Neutral</td>\n",
              "    </tr>\n",
              "    <tr>\n",
              "      <th>92</th>\n",
              "      <td>If plan watching I would suggest skipping last...</td>\n",
              "      <td>Neutral</td>\n",
              "    </tr>\n",
              "    <tr>\n",
              "      <th>97</th>\n",
              "      <td>There homage borrowing wholesale material. Thi...</td>\n",
              "      <td>Neutral</td>\n",
              "    </tr>\n",
              "    <tr>\n",
              "      <th>98</th>\n",
              "      <td>Disturbing. Just got movie. My humor much bett...</td>\n",
              "      <td>Neutral</td>\n",
              "    </tr>\n",
              "  </tbody>\n",
              "</table>\n",
              "</div>"
            ],
            "text/plain": [
              "                                               Review Sentiment_Score\n",
              "6   I get people hate . It's political message peo...         Neutral\n",
              "13  The movie affects way makes physically painful...         Neutral\n",
              "16  I stop watching movies Joaquin Phoenix awarded...         Neutral\n",
              "24  I know unpopular opinion, honestly movie overr...         Neutral\n",
              "30  They say writing. And great example that. Good...         Neutral\n",
              "33  It really slow paced boring. It overhyped opin...         Neutral\n",
              "37  I expecting masterpiece oscar worthy film hype...         Neutral\n",
              "38  I thought movie complete utter garbage. I unde...         Neutral\n",
              "45  Don't waste 2 hours life movie baddest i've se...         Neutral\n",
              "47  I understand high ratings. I went cinema high ...         Neutral\n",
              "56  Joaquin Phoenix produces one memorable perform...         Neutral\n",
              "59  I never left review title, good bad piece garb...         Neutral\n",
              "64  There reason masterpiece panned crony capitali...         Neutral\n",
              "67  I'm making sure give movie 1 star definitely 8...         Neutral\n",
              "68  DC STILL give us compelling movie. Wasn't quit...         Neutral\n",
              "92  If plan watching I would suggest skipping last...         Neutral\n",
              "97  There homage borrowing wholesale material. Thi...         Neutral\n",
              "98  Disturbing. Just got movie. My humor much bett...         Neutral"
            ]
          },
          "metadata": {
            "tags": []
          },
          "execution_count": 8
        }
      ]
    },
    {
      "cell_type": "code",
      "metadata": {
        "colab": {
          "base_uri": "https://localhost:8080/",
          "height": 686
        },
        "id": "n7215fR348E_",
        "outputId": "79b66336-0f2c-43a5-e0b8-7fb382b316b6"
      },
      "source": [
        "print(\"The Number of Columns which have negative sentiment are :\", neg['Review'].size)\n",
        "neg"
      ],
      "execution_count": 9,
      "outputs": [
        {
          "output_type": "stream",
          "text": [
            "The Number of Columns which have negative sentiment are : 21\n"
          ],
          "name": "stdout"
        },
        {
          "output_type": "execute_result",
          "data": {
            "text/html": [
              "<div>\n",
              "<style scoped>\n",
              "    .dataframe tbody tr th:only-of-type {\n",
              "        vertical-align: middle;\n",
              "    }\n",
              "\n",
              "    .dataframe tbody tr th {\n",
              "        vertical-align: top;\n",
              "    }\n",
              "\n",
              "    .dataframe thead th {\n",
              "        text-align: right;\n",
              "    }\n",
              "</style>\n",
              "<table border=\"1\" class=\"dataframe\">\n",
              "  <thead>\n",
              "    <tr style=\"text-align: right;\">\n",
              "      <th></th>\n",
              "      <th>Review</th>\n",
              "      <th>Sentiment_Score</th>\n",
              "    </tr>\n",
              "  </thead>\n",
              "  <tbody>\n",
              "    <tr>\n",
              "      <th>4</th>\n",
              "      <td>Most time movies anticipated like end falling ...</td>\n",
              "      <td>Negative</td>\n",
              "    </tr>\n",
              "    <tr>\n",
              "      <th>10</th>\n",
              "      <td>There doubt movie well thought - plot executio...</td>\n",
              "      <td>Negative</td>\n",
              "    </tr>\n",
              "    <tr>\n",
              "      <th>11</th>\n",
              "      <td>This movie causes audience consider many topic...</td>\n",
              "      <td>Negative</td>\n",
              "    </tr>\n",
              "    <tr>\n",
              "      <th>19</th>\n",
              "      <td>Do really understand tens here. Sure, good mov...</td>\n",
              "      <td>Negative</td>\n",
              "    </tr>\n",
              "    <tr>\n",
              "      <th>36</th>\n",
              "      <td>I give least one star Phoenix's performance (i...</td>\n",
              "      <td>Negative</td>\n",
              "    </tr>\n",
              "    <tr>\n",
              "      <th>39</th>\n",
              "      <td>Arthur Fleck lives invalid mother. He sufferin...</td>\n",
              "      <td>Negative</td>\n",
              "    </tr>\n",
              "    <tr>\n",
              "      <th>42</th>\n",
              "      <td>The whole point movie bring attention mental i...</td>\n",
              "      <td>Negative</td>\n",
              "    </tr>\n",
              "    <tr>\n",
              "      <th>46</th>\n",
              "      <td>If title make-up, know based comic-book charac...</td>\n",
              "      <td>Negative</td>\n",
              "    </tr>\n",
              "    <tr>\n",
              "      <th>51</th>\n",
              "      <td>Joaquín Phoenix's unconvincing laughing, looki...</td>\n",
              "      <td>Negative</td>\n",
              "    </tr>\n",
              "    <tr>\n",
              "      <th>53</th>\n",
              "      <td>What incredible ride was. I almost motionless ...</td>\n",
              "      <td>Negative</td>\n",
              "    </tr>\n",
              "    <tr>\n",
              "      <th>57</th>\n",
              "      <td>I'm keeping short, movie sucks.Yes, I know the...</td>\n",
              "      <td>Negative</td>\n",
              "    </tr>\n",
              "    <tr>\n",
              "      <th>70</th>\n",
              "      <td>It seems like making movie psychotic killer cl...</td>\n",
              "      <td>Negative</td>\n",
              "    </tr>\n",
              "    <tr>\n",
              "      <th>74</th>\n",
              "      <td>Joaquin Phoenix playing Joaquin Phoenix. Borin...</td>\n",
              "      <td>Negative</td>\n",
              "    </tr>\n",
              "    <tr>\n",
              "      <th>79</th>\n",
              "      <td>Joaquin Phoenix good. The directing pretty goo...</td>\n",
              "      <td>Negative</td>\n",
              "    </tr>\n",
              "    <tr>\n",
              "      <th>80</th>\n",
              "      <td>Story really unconvincing. Nobody really cares...</td>\n",
              "      <td>Negative</td>\n",
              "    </tr>\n",
              "    <tr>\n",
              "      <th>81</th>\n",
              "      <td>The performance Joaquin excellent story simply...</td>\n",
              "      <td>Negative</td>\n",
              "    </tr>\n",
              "    <tr>\n",
              "      <th>83</th>\n",
              "      <td>\"Joker\" \"masterpiece\" \"flawless\" board boasts....</td>\n",
              "      <td>Negative</td>\n",
              "    </tr>\n",
              "    <tr>\n",
              "      <th>84</th>\n",
              "      <td>This film tries desperately devillify stylish ...</td>\n",
              "      <td>Negative</td>\n",
              "    </tr>\n",
              "    <tr>\n",
              "      <th>86</th>\n",
              "      <td>I sat slowwwwww movie would gladly left half w...</td>\n",
              "      <td>Negative</td>\n",
              "    </tr>\n",
              "    <tr>\n",
              "      <th>88</th>\n",
              "      <td>A mentally ill person without talents (or inte...</td>\n",
              "      <td>Negative</td>\n",
              "    </tr>\n",
              "    <tr>\n",
              "      <th>96</th>\n",
              "      <td>I excited movie came theaters raving reviews I...</td>\n",
              "      <td>Negative</td>\n",
              "    </tr>\n",
              "  </tbody>\n",
              "</table>\n",
              "</div>"
            ],
            "text/plain": [
              "                                               Review Sentiment_Score\n",
              "4   Most time movies anticipated like end falling ...        Negative\n",
              "10  There doubt movie well thought - plot executio...        Negative\n",
              "11  This movie causes audience consider many topic...        Negative\n",
              "19  Do really understand tens here. Sure, good mov...        Negative\n",
              "36  I give least one star Phoenix's performance (i...        Negative\n",
              "39  Arthur Fleck lives invalid mother. He sufferin...        Negative\n",
              "42  The whole point movie bring attention mental i...        Negative\n",
              "46  If title make-up, know based comic-book charac...        Negative\n",
              "51  Joaquín Phoenix's unconvincing laughing, looki...        Negative\n",
              "53  What incredible ride was. I almost motionless ...        Negative\n",
              "57  I'm keeping short, movie sucks.Yes, I know the...        Negative\n",
              "70  It seems like making movie psychotic killer cl...        Negative\n",
              "74  Joaquin Phoenix playing Joaquin Phoenix. Borin...        Negative\n",
              "79  Joaquin Phoenix good. The directing pretty goo...        Negative\n",
              "80  Story really unconvincing. Nobody really cares...        Negative\n",
              "81  The performance Joaquin excellent story simply...        Negative\n",
              "83  \"Joker\" \"masterpiece\" \"flawless\" board boasts....        Negative\n",
              "84  This film tries desperately devillify stylish ...        Negative\n",
              "86  I sat slowwwwww movie would gladly left half w...        Negative\n",
              "88  A mentally ill person without talents (or inte...        Negative\n",
              "96  I excited movie came theaters raving reviews I...        Negative"
            ]
          },
          "metadata": {
            "tags": []
          },
          "execution_count": 9
        }
      ]
    },
    {
      "cell_type": "code",
      "metadata": {
        "colab": {
          "base_uri": "https://localhost:8080/",
          "height": 120
        },
        "id": "gl510D4486pO",
        "outputId": "ec47e789-8b44-4f9c-96b5-f43643802800"
      },
      "source": [
        "text = ' '.join(df.Review.values)\n",
        "text"
      ],
      "execution_count": 10,
      "outputs": [
        {
          "output_type": "execute_result",
          "data": {
            "application/vnd.google.colaboratory.intrinsic+json": {
              "type": "string"
            },
            "text/plain": [
              "'Every movie comes, truly makes impact. Joaquin\\'s performance scenography brilliance. Grotesque, haunting cringy. Hard watch times,... mesmerizing, blink eye watching it. Tragic, seriously funny moments. Emotional rollercoaster - sometimes, multiple emotions popping-up time.this far typical action-riddled predictable super-hero movie - proper psychological thriller/drama, single best character development I ever seen. This movie felt alone isolated truly relate it. You understand motive feel sorry character. A lot people see movie think encourages violence. But truly, movie encourage every one us become better person, treat everyone respect make feel like belong world, instead making feel isolated. Truly masterpiece, The Best Hollywood film 2019, one Best films decade... And truly Best film bring comic book chillingly realistically real ife. Remarkable Direction, Cinematography, Music Acting. Some people surprised find DISTURBING VIOLENT, necessity message. It\\'s society reflects underappreciated/unrecognized/bullied people, proving something too. The way shows class difference, corruption rich talented rule others around exaggerated that\\'s makes different. It\\'s BELIEVABLE. There could multiple JOKERs living society could shake around much bitter way film shows making people uncomforting people. Consider wake call, message, first film. A PERFECT film. Joaquin Phoenix gives tour de force performance, fearless stunning emotional depth physicality. It\\'s impossible talk without referencing Heath Ledger\\'s Oscar-winning performance The Dark Knight, widely considered definitive live-action portrayal Joker, let\\'s talk it. The fact is, everyone going stunned Phoenix accomplishes, many thought impossible - portrayal matches potentially exceeds The Dark Knight\\'s Clown Prince Crime Most time movies anticipated like end falling short, way short. Joker first time I happy hype. Please ignore complaints \"pernicious violence\" embarrassing say least. We seen comic movie real before. If ever \"deserved\" better class criminal - Phillips Phoenix delivered. This dark, Joker IS dark fall love villain should. The bad guys always romantic anyway. Let start saying Joaquin Phoneix get Oscar movie. Then Oscars cancelled. Phoneix amazing might\\'ve heard every review ever! But Todd Phillips. Is best here. The story lines takes visuals breathtaking. The score!! Omg Score! Every time score came on, I felt uncomfortable, like something horrible happen. It GREAT. The Inspirations Taxi Driver King Comedy there, add much movie. And I got honest. There scenes violent. And disturbing. But I honestly expected WAYYYY violent controversy going on. Overall movie GREAT. Come Oscar season, needs nominated Best Picture, ScreenPlay, Cinematography, Actor, Score Director I get people hate . It\\'s political message people think need get empathy Arthur\\'s madness. But come point never be. Enjoy masterpiece Joaquin Phoenix Todd Phillips overdid movie . The acting,music cinematography amazing ! Please enjoy movie without overthinking it. I seen Joker yesterday Venice early ill-fated screening. We trouble audio lead near-hour delay, definitely worth it.Joker deserved presented Venice Film Festival, event regards cinema form art, film far blockbuster mere entertainer movie, films genre are.It focuses psyche main character, slowly crumbles pressure society. And thus, Joaquin Phoenix wonderful performance, earning almost surely nomination oscars least. It\\'s take Joker differs Ledger\\'s, I\\'d say equally good. The main difference might Ledger\\'s joker rational acts insane, Phoenix\\'s insane root.Despite movie superhero villain, Joker much superior movies genre (I\\'d exclude Dark Knight Trilogy only, Joker easily good Nolan\\'s movies, least close). It small-scaled film, distinct style cinematography (that cannot appreciated) set cinephile references however feel forced overly opressive. (most notable similarities Scorsese\\'s \\'Taxi Driver\\' \\'The King Comedy\\', also Chaplin\\'s \\'Modern Times\\' somewhat referenced).I eager see non-comedic efforts Todd Phillips. This movie far probably best 2019 (at worst contested far Dolor Y Gloria Once Upon Time Hollywood), convincing. It\\'s sad Joaquin missed Oscar \\'The gladiator\\' compelling Villain. But I quite confident win \\'Joker\\'. Damn movie !!! Keeps u toes time. Unpredictable storyline really deep interesting plot. Did I forget mention acting ? Damn Do niro Joaquin teach u really 5 star acting. To enjoy movie, get wine hand, close curtains, turn ur cellphones put disturb sign ur door. Best Dark thriller suspense movie get experience. I watched Joker Venice I say Joaquin get Oscar year something wrong world. This perfomance jaw-dropping, glues screen let go till end. Story good interesting connections Batman lore(especially one can\\'t guess trailers). There scenes tense ,well-acted imaginative push movie 10. Cinematography direction great, Todd proven director. Robert also good \"small\" role. Will definitely see soon October. There doubt movie well thought - plot execution. I must praise Phoenix\\'s superb acting. He managed portray believably awkward social reject also crazy murderer became. I really think role could do. It also interesting watch deteriorated mentally little little gave trying fit society. Gotta hand script writer - plot unpredictable.But...There anything complex Arthur\\'s mental state. No deep psychological analysis, web many deep factors created one kind psychotic maniac. Could I expecting much? Very possible since I came high expectations reading reviews. What anything expectations end remind much original Joker. He felt like simply society reject went completely crazy started killing people. Not much different many serial killers mass murderers. He master mind much designated Joker made different simple murderer. Another thing long parts movie felt dull. Also I found hard buy reason behind riots city role Joker played them. Even taken account poverty anger cooking long time society, still feels somewhat absurd killing three people subway made joker notorious. In conclusion, I identify character gave lasting impression movie, movie could great movie person that\\'s rejected society turns slowly serial killer. But movie Joker I felt lacking. Lacking things made Joker actually Joker, another crazy murderer. This movie causes audience consider many topics morality, particularly poor choices made Joker. The Joker relatable movie antagonists usually are. I think gives realistic view \"bad\" people, usually 100% bad ways society often judges. It important know sympathize Joker (towards beginning movie), needs identified threat (when begins making certain bad choices). This movie suitable adults willing pick apart think critically it. It light amusement. That substance makes good.If able ponder underlying themes own, handed thoughts you, best movie you. The acting, cinematography, sound design, script phenomenal. This movie triumph. Joaquin Pheonix deserves Oscar win tbh. The movie affects way makes physically painful experience, good way. Need I say more? Everything Movie Masterful every single way! Joker awesome comic book movie, awesome movie, period. It offers easy answers unsettling questions raises cruel society decline. Joaquin Phoenix\\'s fully committed performance Todd Phillips\\' masterful albeit loose reinvention DC source material make Joker film leave comic book fans non-fans alike disturbed moved right ways. I quit relying critic reviews years ago... I noticed movie critics ratings low viewer ratings high. That said, point critic movie, oh wrong. I went saw tonite mom. I went skeptical w low expectations. I knew expect typical super hero movie. What got masterpiece. I went expecting sheer boredom I instead edge seat whole time. Not action edge seat, fear may say next edge seat. To see character evolve know #1 villain Batman beyond genius Joaquin Phoenix true master perfecting art consuming character. I may place I care. This movie, story, acting, directing, effects, everyone brought A game JP definitely deserves nod win role. And no, comparison Jack Nicholson Heath Ledger. Each actor took character different levels, different story points different points time, comparison would feasible fair actors embraced made come life genius way! I stop watching movies Joaquin Phoenix awarded Oscar tremendous acting. I thought film good I get hype personally. The acting amazing film good overall I think \\'masterpiece\\' \\'film year\\' bit overused throughout reviews. In way I dislike film, I thought really good, overhyped. I feel though lot 10/10 reviews purely based fact already amazing reviews people want carry praise joker. If film released random guy situation, I think reviews would high maybe that\\'s point. Joaquin Phoenix IS joker. Phoenix gave performance felt like mixture Heath Ledger\\'s joker, Jack Nicholson\\'s joker, Alex A Clockwork Orange:Overall, movie trip say least. Cinematography good, soundtrack set perfect mood film part. The acting plot sold though. Phoenix made forget character one I seen movies. His performance mixed overall feel plot movie made leave theater feeling like I taken descent madness.I\\'ve never big fan superhero movies I little weary going movie, absolutely nothing anything superhero related characters. I loved movie definitely see again. It I hoped would be. Do really understand tens here. Sure, good movie, good acting, nice shooting. But plot intriguing. At times really long somewhat boring. I needed double-check genre see drama what. Crime, drama, thriller said. I would put maybe 90% drama rest thriller.I miss dialogue, depth, substance. The plot really somewhat crazy person becoming bit crazier. Sure undertone society system mean character people bringing creating evil beast later wants destroy everything. Absolutely, I think intriguing story plot dialogue enough give ten.Worthy watching, yes. But amazing I went film expecting all-time classic based reviews I read & I ended watching decent film overall. Phoenix outstanding...so definitely part. But I feel like seen trailers seen movie best way I describe film feels like 2 hour version trailer. At 2 hours relatively common runtime, felt lot longer...which good. I\\'d say much rental theater movie. Kinda just....eh. When I heard everyone saying film year reviews flooding 10\\'s, I quite hyped excited movie. When I walked cinema, I felt hollow empty.Before I continue writing, let say this, This NOT film year real masterpiece. The cinematography excellent acting incredible, that\\'s it. The side-characters bland overly dramatic. The plot heavily relies plot-twists film harsh actually falls flat face.Are good points though? Phoenix phenomenal score great. The cinematography also incredible plot great all. It even plot holes scenes left empty.Film year? Nope. The recurring themes many 10 star reviews tell lot movie audience. If can\\'t get movie review without tossing one claims \"THIS movie much better smarter YOUR superhero movie\" (or even basing entire review around premise), I hate break you, kid, nowhere near intelligent grown think are. This \"my comic publisher better yours\" BS left behind grade school playground, absolutely relevance quality movie, opinion movie considered highly suspect group.I gotta say, movie also idea perfect film ever made, really need get more. Look, I get it. If live safe little box watch superhero movies mainstream blockbusters I understand exposure themes like first time would seem new exciting you, I think agree probably best DC Comics related movie last decade (though that\\'s high bar meet) course Joaquin Phoenix talented actor, stop take step back look thing.Joker indeed present theme importance society, neglect demonizing mentally ill degree sometimes creates monsters everyone around seen coming mile away busy looking away avoid feeling uncomfortable. Unfortunately, reminding us fact situation still exists movie really say. It dances around important subjects like \"HEY KIDS, CLASS INEQUALITY!\", never offers actual insight them, usually busy making forced Batman references dropping cringey little edgy moments like \"Don\\'t smile\" sign scene seem designed solely something Hot Topic print new t-shirt of. Between every single plot twist telegraphed far advance lot us seen exact twists many times before, I impressed.Perhaps actual stand-alone movie instead shackled completely unnecessary ties Batman universe could done something interesting themes. Don\\'t get wrong, I problem superhero movies, feels gratuitous here, someone came idea, pitched executive, told \"sounds great, make Batman movie somehow?\", I\\'m sorry, I\\'m movie trying tell half-hearted, yet dead-serious speech mental illness modern society simultaneously constantly reminding technically superhero movie $$$ This opinion I loved Joker, performances, cinematography, directing, style, build great story. And acting Phoenix incredible, done great take iconic character, wow commit, loosing weight role, developing laugh. I know unpopular opinion, honestly movie overrated boring. 2 hours felt like 3 half.I buy whole thing invited show. The meta \"standup\" made extremely dull boring. Then gets allowed broadcast long without interrupted, also transported shitty police-car ever that, believeable enough me.He also acted meds aswell off, part make sense either. The police must also really catching guy faster homocide.It good parts boiled maybe 5 minutes. Is movie I would watch again? Probably not. I hyped see movie, loved trailer, movie I wanted watch cinema long time.I watched bored. aesthetics amazing, music good, story execution meh. performance joker good performance people raving driving mad. either seen many movies I seen many.this movie bang average actually boring. I actually thinking leaving half way I bored mind.I regret watching overhyped I confused right now. I think good premise could much more, much more.Signs great movie repeat viewing moving you, joker move whatsoever I would watch again.I thought maybe people getting paid write good review actually met people think best movie ever.... OMGGGThis movie bang average way overhyped.phoenix performance good story execution bad, I feel never even touched higher spectrum performance could character.I experienced seen worse life, made feel, (i hate word use it) snowflake. Please get social media live life.there real world there. Joaquin Phoenix gives Heath Ledger run money, true story. This popcorn fluff comic book flick. DO NOT TAKE YOUR KIDS TO SEE THIS MOVIE. Shut ballots Oscar, Joaquin taking one home hands down. One best origin stories EVER put out. The downside movie, stand alone film sequels ties DC Universe. Todd Philips take Joker one pure brilliance Joaquin Phoenix Joker deserved. He steal Jack Heath yet got taste both. In era cinema saturated superheroes gritty remakes, Todd Phillips Phoenix somehow take character deeply intrenched pop culture create something compelling unique. This film unafraid bleak scary without offering much viewer means comfort. The way deal harsh cruelties world treating joke. Upon leaving movie, hate Joker, hate world made him.Phoenix simply cannot praised enough. He brings sympathy tragedy way moves eyes, way contorts shoulders, way laughs. A lesser actor would unable swing moods far extremes Phoenix add layers Phoenix intricately builds character. The way twists writhes body mesmerizing brings even tragedy Joker. This Phoenix\\'s movie.As technical side, movie far different super hero films recent years. The cinematographer director choose shallow focus, giving Pheonix a) undivided attention viewer b) personal feel film. There wide shots deep focus, used sparingly movie character, action explosions. The color palette movie intentionally composed dour greens, blues tepid yellows--- gives world sickly feel. The soundtrack used affectively, bringing waves optimism intentionally clash protagonist\\'s angry depression. This film likely compared The Dark Knight DCEU films, I find fair. This film far akin The Machinist The King Comedy tone visual style.I recommend film, I think anything short Oscar nomination Phoenix would disrespectful effort gives. However, I one gripe I would like voice. I found tie-ins Wayne family unnecessary. It came across pandering audience loves Easter eggs more-so story itself. In opinion, I think story would worked even better distanced Batman story. Other that, I little issue rest film.Joker movie tells us life full sadness, gives us character whose purpose spread laughter joy. I going finish review joke, but, get it. Here, broken man whose mental instability illness catalyst Arthur Fleck eventually becomes, I mean nowhere movie witness kind intellectual prowess, high intelligence, even miniscule reference wit smarts believe takes become Joker previous films.Also, merit theory whole entire movie dream playing imagination, conveying psychiatrist whole movie, connects end since starts meeting psychiatrist know making things revelations. In addition, factuality idea Thomas Wayne\\'s lovechild. Joker delusion grandiose throughout story, connecting powerful people situations, would semi-trait narcissism, well (although narcissism far predominant psychological problems). I\\'d prefer theory would explain Fleck lacked kind pragmatism intelligence we\\'ve come expect throughout movie.The Joker playing psychotherapist whole time, making feel sympathy bad (as well audience), that\\'s joke end, enables kill her, too. This Joker\\'s fantasy origin story, little validity.Go ahead downvote, there\\'s way take Joker intelligent mentally competent enough become Ledger\\'s Joker. The music. The intense. The realism. The performance. The story. Such perfect combination everything. I never felt character like joker could real I saw this. Phoenix shows us joker society shows us power obtained. Philips hand perfect choice music, camera angles, lighting every important factor. Overall, I expect story perfect. Too many shocking turns happened really represent today\\'s society. If I first screening, I would applauded 80 min 8. They say writing. And great example that. Good acting production values cannot save script steeped tiresome stereotypes failure delve character\\'s identity. We meet Joker already imbalanced so-called descent madness really couple weeks away; far descent, stroll. This character study, despite claims contrary. It\\'s showcase good actor overly contorting body laughing manically mistaken expression madness. Where past? Where influences? Where conflicts? What seminal moments create spiral? Perhaps really relationship, gone sour, would justify descent. Instead, fait accompli. This lazy writing, focused fancy long shots Joaquin Phoenix dancing crazily producing something value franchise. A beyond pathetic Taxi Driver/King Comedy rip-off borefest objectively single worst/completely non-existent version \"Joker\" character history.The troll-worthy \"masterpiece\" reviews dictionary definition proof easy fool laughably clueless sheep.Keep crying \"SOCIETY!!!!\", cringey loser incels 🤣🤣🤣 The perfect portrait decline insanity\" & Joaquin Phoenix portrays flawlessly performance lifetime. Choreographed impeccably Todd Phillips & nothing short breathtaking. The cinematography & backdrop ideology original film complex character complimented superb soundtrack & acting. A hauntingly beautiful film & A Definate 10/10. Edit: Bring part 2 plssssss!. We want it!. It really slow paced boring. It overhyped opinion. Phoenix convinces always meant joker. The movie went beyond expectations, many emotions went couple hours. I think rated R, Phoenix able unlock jokers full psychotic potential character meant be. This AMAZING story, calls more. And I mean build up, second movie, maybe one batman? My hopes high point, nevertheless, brilliant goddamn movie THE BEST joker ever played hands down. The pool need money. They need dignity respect, coz takes human. If that, money reminder \"good boy\". Like politicians, feel frustrated people lower class accept funding champions. In movie, joker\\'s life, I begin get it. I give least one star Phoenix\\'s performance (it\\'s great even it...is little heavy handed?) whole movie sadly worth ELEVEN!!!! Oscar nominations got. It may fair compare Phoenix\\'s Joker Heath Ledger\\'s now-iconic one, I think important focus movie itself.The Joker lazy film spends runtime trying make audience understand man would become classically unhinged maniacal DC villain (while taking note Nolan\\'s book creating movie world seems pretty much detached rest DC cinematic universe.)That sounds great! The premise tons potential compelling disturbing. Instead, given series scenes Arthur Fleck (Phoenix) either degraded coworkers strangers getting kindly rejected women (there reason people referred \"Incel movie\"...). We also learn troubled childhood. At point movie moment I feel genuine empathy Joker. I say \"humanizing famous JOKER\" seems overarching goal film, end Joker leads chaotic riots streets murdering Robert Di Nero live television.Ultimately, I think one least-necessary movies 2019 one focused empathizing troubled white adult man mistreated society rejected women snapped killed everyone...If think simplistic reception movie Todd Phillips\\'s Joker depiction, ask yourself.l: value movie bring? What conversation trying have? What themes contending with? When boil things down, Arthur Fleck straight white dude crappy, psychologically traumatic life. And killed person. Then several more. He may even killed nice neighbor (Zazie Beetz! Deserved better!) son, though never explicitly shown.What, then, message movie? I skeptical depiction character like Arthur Fleck interested displaying instances mistreated people rather interrogating society made him. I expecting masterpiece oscar worthy film hype. I actually enjoy watching movie. message, slow joker turned son schizophrenic went crazy slight amount bullying. I see anyone could relate character laughing lame acting way overdone. I\\'m stunned 9/10 rating right now, hell? I thought movie complete utter garbage. I understand people liked movie much. The character even stay true comics director flat said didn\\'t, made seem like part Gothams fall little boy laughing problem... Hated Arthur Fleck lives invalid mother. He suffering mental illness possibly result childhood abuse. Budget cutbacks put end weekly counselling sessions goes meds. In real life anyone else would quickly become non functioning seemingly becomes normal.Consequently goes bumbling idiot highly skilled criminal. I find realistic all. He also starts hardly believable relationship beautiful single mom neighbor.It turns imagination way portrayed made impossible tell scenes real imagined. The scenes Robert De Niro seem like fantasy apparently real.There many scenes defied belief:A random work colleague gave loaded handgun free concern safety. Same person tried throw bus first sign trouble.His neighbour left door unlocked despite dangerous neighbourhood.He suspect multiple murders yet cops made little effort detain him.When kills mom hospital ECG sound alarm nobody suspected him.Etc.Towards end movie recreated scene Dark Knight reminded Heath Ledger 100 times better.I cannot see Joker portrayed movie could possibly become Joker know. 10/10 Amazing story, Brilliant taking, magnificent cinematography. Someone step safe game played Superhero movies Joker movie (also The Boys). Movie gritty, real, insanely dark sometime quite disturbing people want accept what\\'s shown movie terrible reality face everyday refused proper care. Normally people start compare movie one greatest like The Dark Knight acting wise Heath ledger\\'s Potrayal joker. I say movie better otherwise , stand tall amongst greatest like The Godfather, Taxi Driver, Citizen Kane, The Dark Knight. Coming inevitable comparison who\\'s better Joker? Heath Joaquin. The answer Both phenomenal job Joker character fortunate played two greatest actors. Definitely top contender Oscars. I personally think would take away 1.Best Actor 2.Cinematography 3.Original score Once Upon time Hollywood loses Make-up hairstyling category would definitely The Joker. Still days seeing it, I\\'m still stunned film. I lucky enough see film night August 31 76th Venice International Film Festival high anticipations, I blown away. Joaquin Phoenix\\'s performance Joker hands best entire year. His performance reminds love watch actors play people, performance appreciated art form. His laugh, movements slow transformation Arthur Fleck, wannabe stand comedian crazy prince thieves, Joker, thing beauty watch. Anybody who\\'s watching film appreciate Phoenix committed role, see Phoenix screen, character Joker. Joaquin Phoenix might topped Heath Ledgers Joker opinion, damn close deserves every acting award possible. The film offers dark look 1970s Gotham City; dark, griddy atmosphere joy happiness world, many moments, movie gave instant \"Taxi Driver\" \"King Comedy\" vibes - two Martin Scorsese\\'s best films - without copying films, includes elements films like e.g. political tensions city definitely borrowed \"Taxi Driver\" bits stand-up comedy \"The King Comedy\". The film deep character study man psychological health issues simply wants bring laughter world performing clown e.g. child\\'s hospitals performing stand-up comedian. But mental health broken, sad, depressive society know joy, let way people around see weird/different simply want put down; streets, workplace, mother\\'s house etc. point simply finds breaking point loses mind every day goes by, leads kill people become symbol terror chaos towards end. And every moment something bad happens Arthur Fleck - yes, whole lot things happens life aka. throughout film - feel sad him, mourn since never seemed intentions harming people first audience exactly understands things throughout film. I\\'m gonna go plot details since film\\'s yet I believe - even name \"Joker\" title - everybody go watch film get deep sophisticated character study films like everyday - especially films gets mainstream attention. I enjoyed every second watching character slowly falling apart. Although I think character Zazie Beetz totally useless lead nowhere, could easily cut out. That\\'s probably negative film. But still; thought provoking masterpiece lot say - current situation society -beyond comic book movie. It offers completely different take character Joker similarities \"The Killing Joke\" lots surprising twists (one word: Wayne) even connects Batman comics leave speechless. And half greatness film thanks great performance Phoenix! I\\'m gonna say this: scene third act Joker appears live TV Murray Franklin show - shown final trailer - blew personally away, tensions, build up, Phoenix\\'s greatness even Robert De Niro\\'s acting, heartbeat moment me. Not spoiling it, amazing. I can\\'t wait rewatch comes October...Check soon comes out! #Venice76 The whole point movie bring attention mental illness (I\\'ll one better name bigger issue mental illness film barely focuses on; lack quality mental healthcare) film completely discredits message one dimensional depiction world characters inhabit it. It seems Gotham citizens (the entire universe matter) exists put Arthur considering film told Arthur\\'s perspective, blatantly stupid depiction world. The reason people liked much sad corporate slaves (especially youth currently indoctrinated) subconsciously tricked believing part bigger cause really sitting comfy chairs. Joaquin\\' portrayal sociopathic, mentally unstable man\\'s transformation iconic Joker non grippingly accurate, realistic touching rendition. A dark disturbing character piece led Oscar worthy performance Joaquin Phoenix. You really feel bad guy, makes heartbreaking inevitably becomes clown prince crime know love, although we\\'ve never seen like this. We see suffer throughout movie point we\\'re almost rooting himk become mass murdering psyco clown, least make feel better; happens wish could avoided, es messed up. We feel care him. By time he\\'s joker, wish could\\'ve helped him. There\\'s lot great nods greater Batman universe, yet movie self contained character piece. That mark great movie. All acting great, plot (while similar Taxi Driver) brilliant quality movie shows need CGI super powers great villain Superhero movie. Is joke everyone gets. This movie \"the rise Joker!\" 10/10 One best movies years 100% Oscar worthy Joaquin Phoenix delivers one best performances I\\'ve ever scene Don\\'t waste 2 hours life movie baddest i\\'ve seen long time. Crappy writing good storyline...it boring. I went pay counter ask money back 2 hours torture...they can\\'t people like this. And people 10/10 (the reason went) joke. If title make-up, know based comic-book character. First all, real Joker weak unconfident pushover. Not even genesis stage. The real Joker high tolerance pain, could fight intelligent. Which made dangerous due insanity. When Joaquin shoots guy subway, cowardice. They try make Murray shooting scene. There way Joaquin\\'s Joker ever fill shoes badass Joker comics, even different incarnations different comic authors....and forget even coming close Heath Ledger\\'s portrayal. They called movie something totally different forget trying make connection. I understand high ratings. I went cinema high expectations, discover movie slow anything almost finished first killing happened. It dreadful time wait something happen. But yes, movie finished I finally walked out, I got cosmic joke; I joker, trusting reviews leaving disappointed disbelief I actually paid watching it. Seriously, unbelievable. Dare I say better Heath Ledger? If Joaquin Phoenix win Oscar best actor \\'Joker\\' win VERY least, best screenplay, one biggest Oscar snubs time This film mental illness. Specifically, mental illness called creative diarrhoea. Seriously though, sooo much wrong movie. I even start I knew Joker sob story hope (artistic) success, I went I went see anyway. I\\'ll start pointing reviewers\\' observation even Joker. He\\'s suave, he\\'s witty, lethal gimmicks, morbid jokes, anarchism, criminal mastermind. He\\'s loser goes school shooter streak.Secondly, not, I said earlier, film mental illness. It mockery it, cashing increasing awareness mental health. There one concept psychosis mental health problems judiciously explored movie (an illness causes sufferer laugh inappropriate situations? Seriously?!). All getting downtrodden loner subjected beatings injustices designed spark indignation viewer, going murder spree.With regards much-praised acting, mystery anyone could come judgement Phoenix\\'s theatrical achievement based asinine script, I can\\'t. Not devote iota attention positive reviews, I\\'m fairly confident large-scale review rigging going on.The plot one dimensional juvenile, dialogue engaging monotone nursery rhyme character development shallow. There goofs left right centre, like revolvers zero recoil 8 bullets. Why Arthur keep dancing? Why need see Arthur fondling himself? Why emaciated? Why much smoking? I watched many close-ups cigarettes burn makes wonder film sponsored tobacco industry.The two positives movie firstly, final talk show scene, littered though imperfections like rest movie, sitting little less slouched seat. Also, interesting theories presented tying Joker Batman.With bar set high The Dark Knight, director seeking artistic acclaim go near Joker many years come, maybe ever, hand, Joker character rendered boon Hollywood opportunists, second time we\\'ve seen character butchered low effort high budget money maker. This one forgotten quick, I know long Joker recovers. I write lot reviews I felt compelled put writing thoughts head..that apparently lot different thoughts quite people\\'s heads comes perception movie.First, order understand mine anybody else\\'s critique movie, absolutely need seen following movies: Alfred Hitchcock\\'s Psycho King Comedy Fight Club Taxi Driver Dark Knight Trilogy Dog Day AfternoonSo let\\'s somewhat categorized approach beginning obvious....Acting: JP great job purely immersive method actor. He gives deserves accolades. The areas falters overacting actually fault director editor keeping scenes in, since scenes repetitive could taken out. The actors job competently. Wait, actors? Yes, ! Plenty poorly written, poorly characterised shell characters gave artists real scope perform given combined screen time 10%! DeNiro wasted completely.Casting: Just JP stellar job means ideal role. Sure, take \\'Joker\\' aspect away, fits perfectly traumatized, declining man. But JOKER origin story, THAT, Joaquin old! The timelines make sense. The young Bruce Wayne shown become Batman good 20 years (remember Bruce successful older business tycoon became Batman) So time, upper-middle aged Joker 70s? Come now. Zazie yas potential given much do. She good job. A legend like DeNiro never accepted poorly etched caricature role Murray Franklin.Character development: Whoa. All sheep talking \\'masterful\\' was. Look movies I listed see much copied bits pieces jumbled together. Do people forget start movie mentally unstable seven medications? So decline psychotic killer isnt steep. The inaccuracies plenty well. Yes, person decline morality, social adaptibility, schizophrenia etc.... however, person CANNOT suddenly become MORE intelligent. So person depicted bumbling fool continuously evolve sophisticated well-planned killer eventually become character known Joker masterful villain?The laugh: The real Joker supposed laugh cruel vicious monster laughs jokes actually quite witty also laughs death misery causing, INTENTIONALLY!! The Joker movie laughs mental disorder laughs involuntarily?? What hell.? That deviation alone make movie ineligible called Joker ..from DC comics. It\\'s simply NOT true character.Story script flaws : Some already mentioned above. No matter lack funding, patients mental disorders never ever medications taken away, matter department shuts down. This case decades. Even less wealthy countries dont that. How guy give loaded gun free protect screw like that?Music: Some older songs cleverly placed. The score excellent quality however placement music highly manipulative order create faux dark snd suspeseful aura. If I show video starving children play melancholy piano violin pieces background, cry too! Emotional manipulation clever musical score placement old, old trick shameless overuse movie akin 70\\'s shock horror flicks.Direction: All place. Todd Philips trying Hitchcock, Scorcese, Nolan combined even remotely close them. He steals heavily styles whenever someone almost always creates botched pacing repetitiveness scenes, oh yeah, plenty that.Story: There real plot story. The key turning points weak. Even IF sake argument government takes medications away person mental disorder, uh...hello, person get worse control, movie gets smarter cunning calculated? Not possible! The link Thomas Wayne dad cheap shot. And convenient find properly thought letter mom supposed crazy wrote sensible letter importance, forgot mail it! Haha I rolling eyes hard eyeballs hurt.The so-called \\'social commentary\\' : Contrived oh-so #fake anti-capitalist message. Oh, rich people behind iron gates oh bad. Boo hoo.. let\\'s protest riot life much better! What sad attempt cashing anti-Trump sentiment. And Oh, irony. Rich people bad thank Sheep, gonna cash big movie... You want see real social commentary far far ahead time? Watch The Truman Show. The sad pathetic irony causes \\'unrest\\' sickening. Oh look guy. Living American city, apartment, free medical care, A JOB..how many people world would die that! But oh look him, gets bullied, beat bit, (rightfully) fired job..(but could easily worked fast food cafe till comedian act worked)....but oh no, THIS limit! Down rich, let\\'s kill em all. Let people pay hard earned money watch this, laugh way bank truly poor people world like \\'wtf happened?\\'.Marketing hype: Wow. I mean really wow. This modern day epic example socially manipulated engineered mass-hype opinion manipulation. Word mouth sometimes beneficial, sometimes not. Remember, gossip rumors also form Word mouth. When five friends say film masterpiece, going say thought too, fear ridiculed someone savvy enough understand \\'deep\\' movies.The thing comic theme draw relatively younger audience well, many seen listed movies catch I call plagiarism (but wants call tribute, even botched one.) And folks flood social media hyperbole terminology. Epic. Genius. Masterpiece. Legendary. Achivement...yawn, I miss any? And hype train go till past Oscars award season fake oohs aaahs speeches pseudo-deep movie. JP get award mainly effort poor competition year, that\\'s far deserving-ness.Many already questioned movie literally thousands rated 10 reviews site even premiere? Hmm....I say hmm..But whatever. If that\\'s way modern game played fine. It ultimately people. As Shakespeare said, \"To Sheep, question\" Joaquín Phoenix\\'s unconvincing laughing, looking like beaten dog brutaly ennoyed 5 minutes. The world mean bad, bad hit back. Chaos, anarchy, whatever .. inspires bye clown killed 3 bullies. More stupid excess brutality name of... what? Yes. It director hangover 3. I want partir this. Brutal boring. While trailers movie may seemed like potential action packed movie, movie, clearly came theaters intended progressive character study. You go movie expecting intense action joker know past. This movie Arthur Fleck becomes Joker.I seen many bad reviews boring slow movie is, I believe utter perfection. The first part movie begin understand Arthur person. All interactions everyone life, good bad. The whole point character study evolution. And far away one greatest evolutions character I ever seen movie.Joaquin Phoenix\\'s performance far best acting I seen movie possibly last decades. We see challenged person challenged society completely breaks time. And Joaquin acting, evolving throughout movie. If anyone thinks put Oscar winning performance, they\\'re effing mind. Yes, movie slow start, be. We jump joker chaos. We need know came begin with.The whole compilation movie amazing. The complete Oscar deserving performance Joaquin, choreography, cinematography, score. Everything perfect harmony. While may lot controversy surrounding movie, team put together perfect movie I pity can\\'t appreciate tears sweat emotion went making movie.I always one sided movie preferences Marvel DC. I feel like Marvel sooo much better overall movies DC puts trash. But Joker far away favorite comic movie. Even though takes completely different spin comic movies. You appreciate evolution appreciate movie. It\\'s action movie, really rips tears emotions one movie adding wild suspenseful kick. No comic book movie done before. What incredible ride was. I almost motionless throughout, watching awe performance lifetime - transition troubled man monster, hounding score directly drove goosebumps, cinematography made feel like flying Gotham looking Arthur masterful De Niro gave nod Jerry Lewis. Ignore DC. Ignore Batman. This work art right. This movie answers question...what Joker real life character ? A great deep moving story, life journey man who\\'s suffering psychological issues neglect, bullying rudeness human push man complete madness.Although accurate comic book adaptation TV series movie it, yet fresh unique take character clown prince crime realistic approach I believe Joaquin Phoenix amazing performance Joker managed bring real life look-alike early version Joker although comic book accurate I feel decent foundation Joker 2 true heart original version lovable villain.The movie great piece filmmaking aspects. From plot interesting, believable many relate it, acting impressively splendid directing outstanding. My main take movie lack positive lead character, I know live tough world full negativity positive examples shed light one two characters movie would\\'ve nice positive thought.The Joker movie misunderstood many thinking it\\'ll inspire crime violence I believe contrary many go hard life feel sympathy Joker character, others even relate misery may justify actions. I believe movie meant wake call many! A lot people daily suffer bullying, racism, hate crimes neglect sometimes go worse, take deeper look actions know - aside money authority - equally humans, treat one another way expect treated. This disappointment! It dragging on. And I waiting things explode. I get hype. Everybody calling \\'masterpiece\\', nobody tell masterpiece. If movie society creates killer, done poorly. To me, felt like large number scenes without real story. Joaquin Phoenix produces one memorable performances ever captured feature film, earning hardware accolades received stunning disturbing portayal Joker.Joaquin puts virtuoso spotlight performance, elevates movie legendary status. Credit director Todd Philips building tension throughout film, capturing nuances Joker\\'s tortured dark-side slide deranged, violent insanity, keeping film\\'s pace flow on-track without unnecessary fill, utilizing applying various camera lenses, shot angles, lighting, colors/hues, aperture settings (e.g. bokeh), scene framing, allowing Joaquin tap dark corners utilize unique acting instincts developing character.Phoenix\\'s acting performance leaves nothing table - keeping score, Phoenix tallies perfect 10 producing truly legendary performance, transforming film God knows would another actor 9/10.A performance film one easily forget. I\\'m keeping short, movie sucks.Yes, I know there\\'s need build character crap, I think important good movie.Same goes this, I get Joker troubled man, I get frustration, I need 2 hours movie telling crap again.Give guy Oscar performance throw movie trash right after. Joker literally achievement cinematic history there\\'s doubt ! But people comparing Endgame ? Both movies ways completely different. Endgame best genre. Talking Joker ... What I say ... A beautiful presentation storyline , direction , screenplay peak greatness ... Heath ledger smiling earth :) I never left review title, good bad piece garbage I registered IMDB account vent opinion. I want 2 hours life back The reviews making film far better actually is. Don\\'t get wrong, technically, extremely well done Phoenix\\'s performance really quite extraordinary (he definitely looking Oscar nomination), despite excellent writing, acting direction........the film kinda boring.It moments, and, sure, disturbing elements but....If I watch, I would looked many times film lacks is...excitement.The final act excellent, felt like took forever get it. A { - c r - } review .ARTHUR FLECK : \" What get... \" MURRAY FRANKLIN : \" I think \" . ARTHUR FLECK : \" ..When cross... \" MURRAY : \" I think we\\'re done now, thank \" . ARTHUR : \" ..a mentally ill loner society abandons treats like trash ? \" . MURRAY : \" Call police, Gene, call police * ! \" . ARTHUR : \" I\\'ll tell get ! . . . You get YOU { EXPLETIVE } DESERVE ! ! \" . . . . . . . . . . ARTHUR { A.K.A \" JOKER \" } shoots Murray head, killing instantly .This picture utter complete A N A R C H Y 💥 💥 💥 , { around } five minute mark, end. This N O T say may N O T clinch { A T L E A S T ⭐ } ABOUT THREE OSCAR AWARDS , The Academy Awards, 2020 . I\\'m thinking it\\'ll win following awards ( again, estimate \\' LEAST \\' ... type best guess ). 1. JOAQUIN PHOENIX : \" BEST ACTOR \" { OF COURSE ⭐❗} . 2. \" Best Production Design ⭐ \". 3. EITHER \" Best Screenplay \", O R something ( like ) \" Best Original Score \". Not mention fact ROBERT DE NIRO ⭐ & Zazie Beetz give \" STANDUP performances \". And quite LITERALLY so, case De Niro { 😁❗❗} .D E S P I T E fact ( quite possibly ) \" SINGLE { D A R K E S T } FILM I E V E R seen \" . . . . I enjoyed TREMENDOUSLY, reason probably best explained like this. I\\'ve victim MULTIPLE injustices personal life ( although SIGNIFICANTLY lesser scale depicted movie, I spontaneously \\' HASTEN-to-add \\' ). As direct result FILM ENDED-UP BEING INCREDIBLY \" C A T H A R T I C 🌠 \" TO ME .. B U T ... I made sure consciously { F O R C E } remember said cinematic presentation was, end day.... J U S T \" prolific \" work art , { P E R I O D } .\" AN UNEQUIVOCAL, LAVISH 13 MARKS OUT OF 10 \" , IF ONLY FOR JOAQUIN PHOENIX\\'S UTTERLY \" D A Z Z L I N G 💎💎💎 \" PERFORMANCE , { A L O N E }❗❗❗\" . I really understand many people consider masterpiece. I simply hated movie since first minute. Maybe sensibility feel empathy joker. The character annoying, screenplay annoying, music noise music. One worst movies seen last years. And save neither phoenix. I never liked him, way laughs absolutely awful. And laugh joker important... take watch Gotham see best joker, even better jack nicholson heath ledger, miles away rubbish This movie masterpiece! It absolutely epitomizes DC movie be. Dark, emotional, thought provoking, action action action. One best movies I\\'ve seen long time.Critics definitely lost touch public ignored one. Do favor watch it!And remember good one another. You dont know someone else going through. There reason masterpiece panned crony capitalist critics. It challenges comfortable fake construction reality effective way, almost automatically elicits dishonest, knee-jerk defensive reaction them, frightened bone gaslighting charade might get uncovered. It Joker delusional, sell delusions order maintain status quo.But, eventually, know it, get deserve. That sentence sentiment scares them, movie cuts close bone, like great, game-changing art, bit true.When Joker, true hero here, helps character, equally mistreated powers be, go free, points one treated well. This call kindness essence movie, barely noticed who, like villain movie, Thomas Wayne, think despicable clowns. So lie pool wool eyes, can, misconstrue make false scares, point movie damaging would get across.All marks great movie. In Europe, instantly recognized - rewarded, subversive potential has. In North America, scared hell conformists, reaction was, many, almost reflexive rejection. Which means hit, hit hard, quite uncomfortably so. And anything hypo crites hate much, movie exposes them, and, even so, exposes paper tiger blood sucking system depend is. Creative actor Joaquin creativity embodied role Joker film deserves 10 Writer-director Todd Phillips\\'s new movie \"Joker\" appeals multiple levels, primarily offering engaging story, strongly rooted believable reality, related audiences mainly opposing protagonist\\'s prevalent dark depressive moods using often optimistic soundtrack sound editing, shallow nonetheless rich visuals, angles framing, theatricality augmented expressive costumes, props sets, impressively via great principal performances acting choices made Joaquin Phoenix lead title character (under proper fictional name Arthur Fleck), whose sudden uncontrollable seemingly inappropriate laughter (justified medical condition) easily counterpoints (painful need for) outcry Gotham (read: any) City masses, hurt deprived injustices quotidian existence, well Robert De Niro quintessential supporting role TV-comedy show host Murray Franklin (both worthy end-of-the-year acting award considerations), setting believable pre-course future adventures realistic DC Comics character, Batman (not superhero all, extraordinary capabilities rather resulting physical fitness skills combined high technology employed), appears young boy, whose later adult activities could understood largely driven happened parents final scene movie, event directly inspired actions Joker, henceforth future main nemeses. I\\'m making sure give movie 1 star definitely 8.9 - that\\'s lie.Joker amazing movie. It\\'s far great. More boring side.It lacks plot twist focus much character development. How many times someone needs get punched face go crazy?He suffers, gets fired, mental illness, nobody loves him, he\\'s sad cries laughs laughs again. And kills people, that\\'s it, that\\'s movie. DC STILL give us compelling movie. Wasn\\'t quite hyped it, I mean, origin story villain made director Hangover movies; could I even expect? Then, reviews started drop. Still sure I would like it. And I saw it, way better I thought would be. I call masterpiece, definitely top 3 DC films times!Good : There\\'s hardly anything bad Joker. Joaquin Phoenix great job bringing character life. Rather typical superhero/supervillain origin story, get see psychological drama + horror, thank God, got that. I love genre, I love films like Infinity War, Days Future Past, Endgame Raimi\\'s Spider-Man. But occasionally, really good take break films. It\\'s, kind of, category films like Unbreakable. Basically, movie (no spoilers ahead) Arthur, tormented society mentally unstable loner, loses mind constant torment that, hell breaks loose. That\\'s movie shows. It would quite difficult give really good story plot like this, since many movies kind plot (awfully crappy ones included). I completely liked movie, means screenplay direction worked me. You feel Arthur, whenever movie asks to. You want root Arthur, know mean incredibly terrible things happen. We see slowly transition Joker, completely turns Joker worth round applause. We feel good well terrified actions Joker whenever snaps crazy stuff happens. Without getting spoilers, I would say - short - many quotable lines make sense. Whatever Joker (a psychopath) says realistic sane person says. And obviously sick, terrifying gruesome Joker moments proper Joker movie have. If clear trailers, there\\'s Batman here. But (again, spoilers) Batman references support movie. It could\\'ve created mess might felt like shoehorned plotline, plays proper support main story transition Arthur Joker.Mixed : It good thing movie 70s psycho horror vibe it. But, could\\'ve original. Like many others pointed out, similar Taxi Driver Scorsese. While copy paste Taxi Driver, parts make obvious movie inspired Taxi Driver. Not necessarily bad thing, movie elements homage-ish way, looking well made was, could\\'ve slightly original. And, may feel bit slow people, though worth time.My take controversy : It happen morons might watch film cause violence. It happen violent movie. But, even though justified Joker\\'s actions, show right. Speaking violence, psychologically compelling horror. It\\'s less violent Deadpool, feels violent serious movie. So, glorification siding psychopath complete total nonsense.Conclusion : It\\'s must watch. You need follow DC movies understand it. But expect typical superhero action film CGI battles spectacle. Wrong expectations might ruin experience. Else, I found better The Dark Knight Rises. And TDKR one favorites genre. If Nolan movie replaced another movie list, may consider great. One last thing, people causing violence Joker would equivalent The Good, The Bad The Ugly inspiring three people gun duel gold.Rating:Score : 10/10Grade : A+ Absolute disappointment. I believed hype like fool. No person actually saw told good movie, stupid reviews. It\\'s cringe, nothing actually happening except Phoenix smoking dancing around. There action, substance, humor. Everything cringe overacted. I suppose like independent movies TIFF Cannes something you. If actually wanna entertained see The Joker DC, it. Best description millennial joker. Society mean him, nobody gives anything cries complains get attention. When none given, starts killing. It seems like making movie psychotic killer clown halfway production decided slap \"Joker\" title make \"origin\" movie one iconic villains time. They could literary change couple names put \"Depressed psycho killer clown\" title make difference. Well, least would give 5 10 score. Maybe.Phoenix\\'s Joker stripped, sliced, diced, blended strained reduce one many aspects character itself, insanity. Well that, clown clothes. No character traits Joker famous, feared loved there, I can\\'t see developing ever version him. Even movie slap one important part lore characterisation, Joker never truly revealed true identity even three comic book versions genesis probably lies (well Jack Napier shortcut story sake first Keaton\\'s Batman, movie-wise). Forget deadly toys gadgets, genius intellect, prankster personality, wits, planning 5 steps ahead? True Joker driving force, one passenger cab (Taxi Driver pun intended). Joker would never pitty himself, laugh psychological condition can\\'t help it, laughs genuinely amused terror pain inflicts, IS truly psychopath, person type Tourette syndrome pushed world murder crime. And Joker supposed actually funny sick twisted way, (as Phoenix is) us. This first time find anything funny ones depiction Joker (well Leto\\'s performance pretty good contender, judge basis 37 seconds screen time lol, even closer Joker this).As make Batman movie Dark Knight left early fear bats mask pointy ears, Iron Man Tony rich pompous jerk.And Bruce Wayne becomes Batman Joker be, what, 65, 70 years old?This movie work origin story, work standalone (it\\'s composed one really long act glimpse second one), part DC general. It origin story need, deserve, simply Joker story. I agree Joaquin\\'s performance great, well done easy part pull off. That however, good part film. Movie dark I expected, much SLOW dialog putting sleep. Parts movie VERY predictable, though couple (literally two) surprises good weigh slow moving poorly laid story. I say skip one wait hit subscription services, I\\'d ask money back I stay till end. Joker basically lite edition postmodern version Fight Club Scorsese films lifts from. It\\'s interesting see easily words like masterpiece groundbreaking used this, one joke movie successfully pulls off. It\\'s whole lot self-seriousness posturing essentially hollow. It pretends say lot ends saying little nothing all, character society he\\'s part of.It also \\'Joker\\' name little super-villain. I\\'m different interpretation even origin story joker movie fails recognise capture spirit. Even \\'Proto-Joker\\' quite justice, I think dozen suitable titles e.g. Arthur, The Untalented Mr. Fleck, Smoker, Poser etc. Infact he\\'s akin less dangerous also mentally unstable villain like Ratcatcher Calendar Man though clown theme, even close embodying joker\\'s extreme form nihilism. It\\'s comic-book accurate portrayal, would irrelevant genuinely good movie. But far masterpiece , quite manage even that. It fails inaccurate portrayal Joker\\'s spirit essence, also film person going edge.The weakest aspect movie poor average direction. The movie lacks subtlety nuance I hoping unfolds much character development things happening Arthur. A good example poor writing direction Trump-like one-dimensional Thomas Wayne character. This first became obvious scene people happened know entire lyrics clown song. In movie otherwise tries hard realistic felt unnecessary took experience felt contrived predictable that. It takes many obvious liberties plot conveniences move story forward unnatural unrefined way, ultimately felt like tried disguise poor writing direction dark gritty atmosphere instead elements complementing other.The reason watch movie Phoenix\\'s performance, groundbreaking good enough earn awards nomination two. I put league Heath Ledger\\'s portrayal two different roles characters. Ledger made joker seem effortless one really see strain work Phoenix puts in. To put simply, Ledger made seem natural look like acting Phoenix really know is, even extent may seem like overacting times. Perhaps owing physical nature version whoever character supposed be, that\\'s necessarily criticism.Overall average film best pretends lot more. I see one ageing well remembered decades later way Fight Club Scorsese movies \"inspired\" by, CBM\\'s like Dark Knight Logan even Tim Burton\\'s Batman, remembered today. The ending matters movie. And movie kind ending would leave many speechless. It\\'s indeed masterpiece:) Joaquin Phoenix playing Joaquin Phoenix. Boring, Twisted, Sick piece crap. A one done movie. W.O.W!!! What I say brilliant Phoenix act performance ?? In shortcut,movie year 💯/💯👏 The movie excellent amazing, beginning Joaquin\\'s personality seen evolves Joker end, Joker difficult character I think Joaquin it!! Please go watch movie! This first time I\\'ve ever wrote review app I\\'ve using read reviews years! That\\'s good film is. Very dark, grimy disturbing, exactly origin film joker be. I doubt win multiple oscars. Do favor go see it!!! I looking forward film given hype brilliant acting etc yet let down!The film real storyline past present although acting brilliant I real trouble understanding plot, one.ONE STAR IS FOR THE ACTORS Joaquin Phoenix good. The directing pretty good. The writing absolutely awful. This movie trying hard relevant \\'message\\' throws jumbled mess quasi-commentary hoping something stick. It completely unclear exactly writer/director Todd Phillips actually trying say, anything. Is Joker hero resistance incel? Does go crazy he\\'s mentally ill people mean him? Both rich people poor people horrible Joker exactly class commentary? It\\'s also confusing Robert De Niro movie clearly ripping Taxi Driver many ways, also little Mr. Robot thrown in. There\\'s also subplot neighbor incredibly stupid pointless, actually bearing story whatsoever. The movie also listless boring throughout much it. A movie slow-paced without boring interesting things happening driving plot towards conclusion. The thing driving story movie knowing he\\'s going become joker points, anything actually happens movie. The movie also spends like 5 minutes making fun little person clear reason. Also people saying movie good job saying nicer people especially they\\'re lonely mental health issues: firstly need movie like nice people, secondly make movie like lonely/mentally ill person become murderer since mentally ill people likely victims perpetrators crime, thirdly want movie showing need empathize criminals movies people color victims mass incarceration locked nonviolent charges instead movie white male becoming mass murderer. This movie terrible. Story really unconvincing. Nobody really cares much random dude ineloquent uninspired joker is. The hype portraying movie painful cruel cringe. To see rated better \"One flew cuckoos nest\" shows way better cruelty saddens me. The performance Joaquin excellent story simply anything Joker, mentaly ill man struggling chaotic enviroment overwhelmed snaps. I would much better film title \"Arthur\" \"The Clown\" fact forced related batman universe feld work. Somehow darkest serious movies get highest ratings. People say movie thrilling Joaquin Phoenix deserves Oscar end day, entertainment. There many evil moments dark scenes what\\'s good that?This movie almost like instructions psycho. They flipped usual idea boundaries good evil audience feel sorry bad guy. People seem think good thing. It\\'s bad!The point movie entertain audiences movie made feel depressed miserable. I\\'ll watch movie hero clear villain clear I actually entertained. The fundemental successful formula film. \"Joker\" \"masterpiece\" \"flawless\" board boasts. It\\'s mirely decent origin, albeit heavy-handed sin, choppy flow, poor directing decisions moments, part brilliant part wildly overacting Phoenix\\'s part. The heavy handed nature mental illness written well... It highlghts many different illnesses none feeling whole handled much, any, sense understanding. Sprinkle light-hearted moments remind \"hey, he\\'s still funny times\"... But strained mental illness angle difficult laugh moments without bit introspection laughing at. The real \"danger\" movie poses another Hollywood blunder mental health handling... Which way harm good.There great existential pandering, ss saying... \"it\\'s deep\", \"my feels\", \"It\\'s superhero movie character study\", regardless anyone wants categorize as.. I\\'ll consider generous 3. This film tries desperately devillify stylish charismatic villain DC universe excruciatingly transform poster child mental illness tedious manner possible.. This version Joker lacks semblance style, luster, flair, charisma, leaving wonder anyone would bother investing time money required create turkey, much less watch it. They\\'ve murdered Joker sake social commentary PC promotion. I deny mental illness real issue attention brought it, folks watch movies supervillians see super-villainy, 2 hour public service announcement. I hung long I could hoping movie redeem itself, 3 quarters way I could take watching spin wheels.If fan Jack Nicholson Heath Ledger versions Joker likely find film painful watch I did. Best acting story. This Oscar winning movie I sat slowwwwww movie would gladly left half way it. Its boring movie last 5 minutes... overhyped usual....the violence must cut version seen think seen gore disney movie The reality, far fiction!! That what\\'s made movie,,, oscar winner actor made new joker rivalry heath ledger joker, better joker people opinion.. piece art A mentally ill person without talents (or intelligence) cannot become super villain angry. He mentally ill person talents (and intelligence) anger. Nothing more. As film, Joker lacks creativity depth. In senses. Unfortunately Joker iconical character thing Twilight vampire films. Yesterday day, I understand, I touched history. This movie drag deepest thoughts, darkest secrets suffering. This masterpiece grind you, like meat grinder watch silence open mouth. Like whole cinema will. I like comics movie, marvel pompous, absurd insipid. In opinion. It\\'s art, attraction. As DC movies too. But DC made history, made art made drama. To understandable. When watch example Avengers League Justice eating McDonald\\'s hamburger. But watch Joker eating 1000$ stake luxurious restaurant world. An outstanding performance Joaquin Phoenix completely embodies Joker\\'s character. This film people, decades now, watching inevitably rendered speechless exceptional is. Is anyone 30 see kind ripped \"the King Comedy (1982)\"? If plan watching I would suggest skipping last 20 30mins. Otherwise completely boring, I thought people saying suppose better Heath Ledgers joker? Not say joker potential spent 90% movie showing mental issue. Joker without doubt new favorite DC film. It\\'s dark gritty enough psychological twists keeps guessing beginning end. Nothing taken face value film forces think beginning end. Don\\'t listen critics, one worth watching multiple times theaters. To say satisfying would somewhat misleading. Joaquin Phoenix makes feel uncomfortable almost entire time. I help thinking Christian Bale The Machinist Robert De Niro Taxi Driver. With comparisons, clearly I high praise acting.The film slowly builds momentum, builds...it\\'s really builds. Those looking traditional comic book action may feel moves bit slow, pace allows transformation feel superficial. When walk theater know exactly feel, surely want know everyone else feels it. Heath great dark Knight, even liked Jared Leto suicide squad seeing countless ad\\'s Joker definitely want watch even free watch rather waste money cinema. Phoenix depressing watch & time want fast forward thru performance much drama sit & watch without wanting get something like make cup tea. Personally would liked see Jared Leto\\'s character tougue cheek type Harvey Quinn cameo. I excited movie came theaters raving reviews I even excited. I never got chance watch theater I\\'m glad I didn\\'t. This movie 2 hours, felt like 4, flat boring plot. Literally nothing happens movie. All mentally ill insecure man talking therapist, laughing, killing people. Arthur\\'s laugh terrible annoys throughout whole movie. Arthur depth personality. This movie boring I started falling asleep. Anyone things movie deep meaningful masterpiece clearly seen movies. I list many movies much moving deep this. All movie try show villain, The Joker, comics distraught weak man. But reality joker comics anything that. He crazy compete mastermind. The 11 Oscar nominations idiotic movie anything Oscar worthy. There homage borrowing wholesale material. This film little remake \"Taxi Driver\" elements (most notably end) borrowed \"Network\". In case \"Taxi Driver\" whole lines dialogue, characters scenes lifted placed movie. Except execution polished, acting caliber story original.Watch \"Taxi Driver\" \"Network\", film made 40 years earlier made better. Disturbing. Just got movie. My humor much better seeing it. At first feel pity guy suffering, lacks charm well killer. Heath Ledger far better. What legendary character legendary performance actor. I able move Heath ledger performance movie totally worth it. This movie deserves oscar. It showcased never seen origin The Joker love it.'"
            ]
          },
          "metadata": {
            "tags": []
          },
          "execution_count": 10
        }
      ]
    },
    {
      "cell_type": "code",
      "metadata": {
        "id": "-flLNGrQ9DEY"
      },
      "source": [
        "count_sentiment = {}\n",
        "analyzer = SentimentIntensityAnalyzer()\n",
        "for word in text.split(' '):\n",
        "    vs = analyzer.polarity_scores(word)\n",
        "    score=vs['compound']\n",
        "    if score >= 0.5 or score <= -0.5:\n",
        "        count_sentiment[word] = count_sentiment.get(word, 0) + 1"
      ],
      "execution_count": 11,
      "outputs": []
    },
    {
      "cell_type": "code",
      "metadata": {
        "colab": {
          "base_uri": "https://localhost:8080/",
          "height": 402
        },
        "id": "5oluyzOP9KGj",
        "outputId": "31c12626-cf64-4d76-ce02-7ceeff266c83"
      },
      "source": [
        "t = []\n",
        "for k, v in count_sentiment.items():\n",
        "    t.append((v, k))\n",
        "t.sort(reverse=True)\n",
        "terms = pd.DataFrame(t,columns=['Frequency', 'Sentiment'])\n",
        "terms"
      ],
      "execution_count": 12,
      "outputs": [
        {
          "output_type": "execute_result",
          "data": {
            "text/html": [
              "<div>\n",
              "<style scoped>\n",
              "    .dataframe tbody tr th:only-of-type {\n",
              "        vertical-align: middle;\n",
              "    }\n",
              "\n",
              "    .dataframe tbody tr th {\n",
              "        vertical-align: top;\n",
              "    }\n",
              "\n",
              "    .dataframe thead th {\n",
              "        text-align: right;\n",
              "    }\n",
              "</style>\n",
              "<table border=\"1\" class=\"dataframe\">\n",
              "  <thead>\n",
              "    <tr style=\"text-align: right;\">\n",
              "      <th></th>\n",
              "      <th>Frequency</th>\n",
              "      <th>Sentiment</th>\n",
              "    </tr>\n",
              "  </thead>\n",
              "  <tbody>\n",
              "    <tr>\n",
              "      <th>0</th>\n",
              "      <td>21</td>\n",
              "      <td>best</td>\n",
              "    </tr>\n",
              "    <tr>\n",
              "      <th>1</th>\n",
              "      <td>19</td>\n",
              "      <td>great</td>\n",
              "    </tr>\n",
              "    <tr>\n",
              "      <th>2</th>\n",
              "      <td>13</td>\n",
              "      <td>bad</td>\n",
              "    </tr>\n",
              "    <tr>\n",
              "      <th>3</th>\n",
              "      <td>10</td>\n",
              "      <td>villain</td>\n",
              "    </tr>\n",
              "    <tr>\n",
              "      <th>4</th>\n",
              "      <td>10</td>\n",
              "      <td>Best</td>\n",
              "    </tr>\n",
              "    <tr>\n",
              "      <th>...</th>\n",
              "      <td>...</td>\n",
              "      <td>...</td>\n",
              "    </tr>\n",
              "    <tr>\n",
              "      <th>239</th>\n",
              "      <td>1</td>\n",
              "      <td>'masterpiece'</td>\n",
              "    </tr>\n",
              "    <tr>\n",
              "      <th>240</th>\n",
              "      <td>1</td>\n",
              "      <td>\"flawless\"</td>\n",
              "    </tr>\n",
              "    <tr>\n",
              "      <th>241</th>\n",
              "      <td>1</td>\n",
              "      <td>\"danger\"</td>\n",
              "    </tr>\n",
              "    <tr>\n",
              "      <th>242</th>\n",
              "      <td>1</td>\n",
              "      <td>\"bad\"</td>\n",
              "    </tr>\n",
              "    <tr>\n",
              "      <th>243</th>\n",
              "      <td>1</td>\n",
              "      <td>\"Depressed</td>\n",
              "    </tr>\n",
              "  </tbody>\n",
              "</table>\n",
              "<p>244 rows × 2 columns</p>\n",
              "</div>"
            ],
            "text/plain": [
              "     Frequency      Sentiment\n",
              "0           21           best\n",
              "1           19          great\n",
              "2           13            bad\n",
              "3           10        villain\n",
              "4           10           Best\n",
              "..         ...            ...\n",
              "239          1  'masterpiece'\n",
              "240          1     \"flawless\"\n",
              "241          1       \"danger\"\n",
              "242          1          \"bad\"\n",
              "243          1     \"Depressed\n",
              "\n",
              "[244 rows x 2 columns]"
            ]
          },
          "metadata": {
            "tags": []
          },
          "execution_count": 12
        }
      ]
    },
    {
      "cell_type": "markdown",
      "metadata": {
        "id": "_ptPAuCuzbOS"
      },
      "source": [
        "## (2) (10 points) Compare the performance of the following tools in sentiment identification: TextBlob (https://textblob.readthedocs.io/en/dev/), VADER (https://github.com/cjhutto/vaderSentiment), TFIDF-based Support Vector Machine (SVM) (Split your data into training and testing data). Take your own annotation as the standard answers. \n",
        "\n",
        "Reference code: https://towardsdatascience.com/fine-grained-sentiment-analysis-in-python-part-1-2697bb111ed4"
      ]
    },
    {
      "cell_type": "code",
      "metadata": {
        "colab": {
          "base_uri": "https://localhost:8080/",
          "height": 402
        },
        "id": "RV5swzzEzbOS",
        "outputId": "ccf79209-9e3d-453e-a6d0-17e1daf7017c"
      },
      "source": [
        "# Write your code here\n",
        "sent = pd.read_csv('/content/sentiment.csv')\n",
        "sent"
      ],
      "execution_count": 13,
      "outputs": [
        {
          "output_type": "execute_result",
          "data": {
            "text/html": [
              "<div>\n",
              "<style scoped>\n",
              "    .dataframe tbody tr th:only-of-type {\n",
              "        vertical-align: middle;\n",
              "    }\n",
              "\n",
              "    .dataframe tbody tr th {\n",
              "        vertical-align: top;\n",
              "    }\n",
              "\n",
              "    .dataframe thead th {\n",
              "        text-align: right;\n",
              "    }\n",
              "</style>\n",
              "<table border=\"1\" class=\"dataframe\">\n",
              "  <thead>\n",
              "    <tr style=\"text-align: right;\">\n",
              "      <th></th>\n",
              "      <th>Review</th>\n",
              "      <th>Sentiment</th>\n",
              "    </tr>\n",
              "  </thead>\n",
              "  <tbody>\n",
              "    <tr>\n",
              "      <th>0</th>\n",
              "      <td>Every movie comes, truly makes impact. Joaquin...</td>\n",
              "      <td>Positive</td>\n",
              "    </tr>\n",
              "    <tr>\n",
              "      <th>1</th>\n",
              "      <td>This movie felt alone isolated truly relate it...</td>\n",
              "      <td>Positive</td>\n",
              "    </tr>\n",
              "    <tr>\n",
              "      <th>2</th>\n",
              "      <td>Truly masterpiece, The Best Hollywood film 201...</td>\n",
              "      <td>Positive</td>\n",
              "    </tr>\n",
              "    <tr>\n",
              "      <th>3</th>\n",
              "      <td>Joaquin Phoenix gives tour de force performanc...</td>\n",
              "      <td>Positive</td>\n",
              "    </tr>\n",
              "    <tr>\n",
              "      <th>4</th>\n",
              "      <td>Most time movies anticipated like end falling ...</td>\n",
              "      <td>Positive</td>\n",
              "    </tr>\n",
              "    <tr>\n",
              "      <th>...</th>\n",
              "      <td>...</td>\n",
              "      <td>...</td>\n",
              "    </tr>\n",
              "    <tr>\n",
              "      <th>95</th>\n",
              "      <td>Heath great dark Knight, even liked Jared Leto...</td>\n",
              "      <td>Neutral</td>\n",
              "    </tr>\n",
              "    <tr>\n",
              "      <th>96</th>\n",
              "      <td>I excited movie came theaters raving reviews I...</td>\n",
              "      <td>Positive</td>\n",
              "    </tr>\n",
              "    <tr>\n",
              "      <th>97</th>\n",
              "      <td>There homage borrowing wholesale material. Thi...</td>\n",
              "      <td>Neutral</td>\n",
              "    </tr>\n",
              "    <tr>\n",
              "      <th>98</th>\n",
              "      <td>Disturbing. Just got movie. My humor much bett...</td>\n",
              "      <td>Neutral</td>\n",
              "    </tr>\n",
              "    <tr>\n",
              "      <th>99</th>\n",
              "      <td>What legendary character legendary performance...</td>\n",
              "      <td>Positive</td>\n",
              "    </tr>\n",
              "  </tbody>\n",
              "</table>\n",
              "<p>100 rows × 2 columns</p>\n",
              "</div>"
            ],
            "text/plain": [
              "                                               Review Sentiment\n",
              "0   Every movie comes, truly makes impact. Joaquin...  Positive\n",
              "1   This movie felt alone isolated truly relate it...  Positive\n",
              "2   Truly masterpiece, The Best Hollywood film 201...  Positive\n",
              "3   Joaquin Phoenix gives tour de force performanc...  Positive\n",
              "4   Most time movies anticipated like end falling ...  Positive\n",
              "..                                                ...       ...\n",
              "95  Heath great dark Knight, even liked Jared Leto...   Neutral\n",
              "96  I excited movie came theaters raving reviews I...  Positive\n",
              "97  There homage borrowing wholesale material. Thi...   Neutral\n",
              "98  Disturbing. Just got movie. My humor much bett...   Neutral\n",
              "99  What legendary character legendary performance...  Positive\n",
              "\n",
              "[100 rows x 2 columns]"
            ]
          },
          "metadata": {
            "tags": []
          },
          "execution_count": 13
        }
      ]
    },
    {
      "cell_type": "code",
      "metadata": {
        "colab": {
          "base_uri": "https://localhost:8080/",
          "height": 195
        },
        "id": "yvSyF-UfAOVu",
        "outputId": "b3c8d9b1-c597-49ff-ac00-54b0a1e36a28"
      },
      "source": [
        "sent['numeric'] = sent.Sentiment.replace(to_replace=['Negative', 'Neutral', 'Positive'],\n",
        "                                       value=[0, 2, 1])\n",
        "sent.head()"
      ],
      "execution_count": 14,
      "outputs": [
        {
          "output_type": "execute_result",
          "data": {
            "text/html": [
              "<div>\n",
              "<style scoped>\n",
              "    .dataframe tbody tr th:only-of-type {\n",
              "        vertical-align: middle;\n",
              "    }\n",
              "\n",
              "    .dataframe tbody tr th {\n",
              "        vertical-align: top;\n",
              "    }\n",
              "\n",
              "    .dataframe thead th {\n",
              "        text-align: right;\n",
              "    }\n",
              "</style>\n",
              "<table border=\"1\" class=\"dataframe\">\n",
              "  <thead>\n",
              "    <tr style=\"text-align: right;\">\n",
              "      <th></th>\n",
              "      <th>Review</th>\n",
              "      <th>Sentiment</th>\n",
              "      <th>numeric</th>\n",
              "    </tr>\n",
              "  </thead>\n",
              "  <tbody>\n",
              "    <tr>\n",
              "      <th>0</th>\n",
              "      <td>Every movie comes, truly makes impact. Joaquin...</td>\n",
              "      <td>Positive</td>\n",
              "      <td>1</td>\n",
              "    </tr>\n",
              "    <tr>\n",
              "      <th>1</th>\n",
              "      <td>This movie felt alone isolated truly relate it...</td>\n",
              "      <td>Positive</td>\n",
              "      <td>1</td>\n",
              "    </tr>\n",
              "    <tr>\n",
              "      <th>2</th>\n",
              "      <td>Truly masterpiece, The Best Hollywood film 201...</td>\n",
              "      <td>Positive</td>\n",
              "      <td>1</td>\n",
              "    </tr>\n",
              "    <tr>\n",
              "      <th>3</th>\n",
              "      <td>Joaquin Phoenix gives tour de force performanc...</td>\n",
              "      <td>Positive</td>\n",
              "      <td>1</td>\n",
              "    </tr>\n",
              "    <tr>\n",
              "      <th>4</th>\n",
              "      <td>Most time movies anticipated like end falling ...</td>\n",
              "      <td>Positive</td>\n",
              "      <td>1</td>\n",
              "    </tr>\n",
              "  </tbody>\n",
              "</table>\n",
              "</div>"
            ],
            "text/plain": [
              "                                              Review Sentiment  numeric\n",
              "0  Every movie comes, truly makes impact. Joaquin...  Positive        1\n",
              "1  This movie felt alone isolated truly relate it...  Positive        1\n",
              "2  Truly masterpiece, The Best Hollywood film 201...  Positive        1\n",
              "3  Joaquin Phoenix gives tour de force performanc...  Positive        1\n",
              "4  Most time movies anticipated like end falling ...  Positive        1"
            ]
          },
          "metadata": {
            "tags": []
          },
          "execution_count": 14
        }
      ]
    },
    {
      "cell_type": "code",
      "metadata": {
        "id": "6cYjn5ttAp2h"
      },
      "source": [
        "def score_textblob(text):\n",
        "    from textblob import TextBlob\n",
        "    return TextBlob(text).sentiment.polarity"
      ],
      "execution_count": 15,
      "outputs": []
    },
    {
      "cell_type": "code",
      "metadata": {
        "colab": {
          "base_uri": "https://localhost:8080/",
          "height": 402
        },
        "id": "GOsREuLkA1w1",
        "outputId": "f64f9b97-c04c-42c2-908f-c37841e6cf29"
      },
      "source": [
        "## Textblob\n",
        "sent['textblob'] = sent.Review.apply(score_textblob)\n",
        "sent"
      ],
      "execution_count": 16,
      "outputs": [
        {
          "output_type": "execute_result",
          "data": {
            "text/html": [
              "<div>\n",
              "<style scoped>\n",
              "    .dataframe tbody tr th:only-of-type {\n",
              "        vertical-align: middle;\n",
              "    }\n",
              "\n",
              "    .dataframe tbody tr th {\n",
              "        vertical-align: top;\n",
              "    }\n",
              "\n",
              "    .dataframe thead th {\n",
              "        text-align: right;\n",
              "    }\n",
              "</style>\n",
              "<table border=\"1\" class=\"dataframe\">\n",
              "  <thead>\n",
              "    <tr style=\"text-align: right;\">\n",
              "      <th></th>\n",
              "      <th>Review</th>\n",
              "      <th>Sentiment</th>\n",
              "      <th>numeric</th>\n",
              "      <th>textblob</th>\n",
              "    </tr>\n",
              "  </thead>\n",
              "  <tbody>\n",
              "    <tr>\n",
              "      <th>0</th>\n",
              "      <td>Every movie comes, truly makes impact. Joaquin...</td>\n",
              "      <td>Positive</td>\n",
              "      <td>1</td>\n",
              "      <td>-0.027126</td>\n",
              "    </tr>\n",
              "    <tr>\n",
              "      <th>1</th>\n",
              "      <td>This movie felt alone isolated truly relate it...</td>\n",
              "      <td>Positive</td>\n",
              "      <td>1</td>\n",
              "      <td>0.000000</td>\n",
              "    </tr>\n",
              "    <tr>\n",
              "      <th>2</th>\n",
              "      <td>Truly masterpiece, The Best Hollywood film 201...</td>\n",
              "      <td>Positive</td>\n",
              "      <td>1</td>\n",
              "      <td>0.236250</td>\n",
              "    </tr>\n",
              "    <tr>\n",
              "      <th>3</th>\n",
              "      <td>Joaquin Phoenix gives tour de force performanc...</td>\n",
              "      <td>Positive</td>\n",
              "      <td>1</td>\n",
              "      <td>-0.081481</td>\n",
              "    </tr>\n",
              "    <tr>\n",
              "      <th>4</th>\n",
              "      <td>Most time movies anticipated like end falling ...</td>\n",
              "      <td>Positive</td>\n",
              "      <td>1</td>\n",
              "      <td>0.086667</td>\n",
              "    </tr>\n",
              "    <tr>\n",
              "      <th>...</th>\n",
              "      <td>...</td>\n",
              "      <td>...</td>\n",
              "      <td>...</td>\n",
              "      <td>...</td>\n",
              "    </tr>\n",
              "    <tr>\n",
              "      <th>95</th>\n",
              "      <td>Heath great dark Knight, even liked Jared Leto...</td>\n",
              "      <td>Neutral</td>\n",
              "      <td>2</td>\n",
              "      <td>0.154167</td>\n",
              "    </tr>\n",
              "    <tr>\n",
              "      <th>96</th>\n",
              "      <td>I excited movie came theaters raving reviews I...</td>\n",
              "      <td>Positive</td>\n",
              "      <td>1</td>\n",
              "      <td>-0.131061</td>\n",
              "    </tr>\n",
              "    <tr>\n",
              "      <th>97</th>\n",
              "      <td>There homage borrowing wholesale material. Thi...</td>\n",
              "      <td>Neutral</td>\n",
              "      <td>2</td>\n",
              "      <td>0.216071</td>\n",
              "    </tr>\n",
              "    <tr>\n",
              "      <th>98</th>\n",
              "      <td>Disturbing. Just got movie. My humor much bett...</td>\n",
              "      <td>Neutral</td>\n",
              "      <td>2</td>\n",
              "      <td>0.125000</td>\n",
              "    </tr>\n",
              "    <tr>\n",
              "      <th>99</th>\n",
              "      <td>What legendary character legendary performance...</td>\n",
              "      <td>Positive</td>\n",
              "      <td>1</td>\n",
              "      <td>0.660000</td>\n",
              "    </tr>\n",
              "  </tbody>\n",
              "</table>\n",
              "<p>100 rows × 4 columns</p>\n",
              "</div>"
            ],
            "text/plain": [
              "                                               Review  ...  textblob\n",
              "0   Every movie comes, truly makes impact. Joaquin...  ... -0.027126\n",
              "1   This movie felt alone isolated truly relate it...  ...  0.000000\n",
              "2   Truly masterpiece, The Best Hollywood film 201...  ...  0.236250\n",
              "3   Joaquin Phoenix gives tour de force performanc...  ... -0.081481\n",
              "4   Most time movies anticipated like end falling ...  ...  0.086667\n",
              "..                                                ...  ...       ...\n",
              "95  Heath great dark Knight, even liked Jared Leto...  ...  0.154167\n",
              "96  I excited movie came theaters raving reviews I...  ... -0.131061\n",
              "97  There homage borrowing wholesale material. Thi...  ...  0.216071\n",
              "98  Disturbing. Just got movie. My humor much bett...  ...  0.125000\n",
              "99  What legendary character legendary performance...  ...  0.660000\n",
              "\n",
              "[100 rows x 4 columns]"
            ]
          },
          "metadata": {
            "tags": []
          },
          "execution_count": 16
        }
      ]
    },
    {
      "cell_type": "code",
      "metadata": {
        "id": "kkqDoW0eA6eV"
      },
      "source": [
        "def score_vader(text):\n",
        "    from nltk.sentiment.vader import SentimentIntensityAnalyzer\n",
        "    vader = SentimentIntensityAnalyzer()\n",
        "    return vader.polarity_scores(text)['compound']"
      ],
      "execution_count": 17,
      "outputs": []
    },
    {
      "cell_type": "code",
      "metadata": {
        "colab": {
          "base_uri": "https://localhost:8080/",
          "height": 402
        },
        "id": "AiqqCaHVA-lp",
        "outputId": "33125d95-5821-477e-fe44-1582929a858e"
      },
      "source": [
        "## vader\n",
        "sent['vader'] = sent.Review.apply(score_vader)\n",
        "sent"
      ],
      "execution_count": 18,
      "outputs": [
        {
          "output_type": "execute_result",
          "data": {
            "text/html": [
              "<div>\n",
              "<style scoped>\n",
              "    .dataframe tbody tr th:only-of-type {\n",
              "        vertical-align: middle;\n",
              "    }\n",
              "\n",
              "    .dataframe tbody tr th {\n",
              "        vertical-align: top;\n",
              "    }\n",
              "\n",
              "    .dataframe thead th {\n",
              "        text-align: right;\n",
              "    }\n",
              "</style>\n",
              "<table border=\"1\" class=\"dataframe\">\n",
              "  <thead>\n",
              "    <tr style=\"text-align: right;\">\n",
              "      <th></th>\n",
              "      <th>Review</th>\n",
              "      <th>Sentiment</th>\n",
              "      <th>numeric</th>\n",
              "      <th>textblob</th>\n",
              "      <th>vader</th>\n",
              "    </tr>\n",
              "  </thead>\n",
              "  <tbody>\n",
              "    <tr>\n",
              "      <th>0</th>\n",
              "      <td>Every movie comes, truly makes impact. Joaquin...</td>\n",
              "      <td>Positive</td>\n",
              "      <td>1</td>\n",
              "      <td>-0.027126</td>\n",
              "      <td>0.8519</td>\n",
              "    </tr>\n",
              "    <tr>\n",
              "      <th>1</th>\n",
              "      <td>This movie felt alone isolated truly relate it...</td>\n",
              "      <td>Positive</td>\n",
              "      <td>1</td>\n",
              "      <td>0.000000</td>\n",
              "      <td>0.9042</td>\n",
              "    </tr>\n",
              "    <tr>\n",
              "      <th>2</th>\n",
              "      <td>Truly masterpiece, The Best Hollywood film 201...</td>\n",
              "      <td>Positive</td>\n",
              "      <td>1</td>\n",
              "      <td>0.236250</td>\n",
              "      <td>0.9794</td>\n",
              "    </tr>\n",
              "    <tr>\n",
              "      <th>3</th>\n",
              "      <td>Joaquin Phoenix gives tour de force performanc...</td>\n",
              "      <td>Positive</td>\n",
              "      <td>1</td>\n",
              "      <td>-0.081481</td>\n",
              "      <td>0.6597</td>\n",
              "    </tr>\n",
              "    <tr>\n",
              "      <th>4</th>\n",
              "      <td>Most time movies anticipated like end falling ...</td>\n",
              "      <td>Positive</td>\n",
              "      <td>1</td>\n",
              "      <td>0.086667</td>\n",
              "      <td>-0.5719</td>\n",
              "    </tr>\n",
              "    <tr>\n",
              "      <th>...</th>\n",
              "      <td>...</td>\n",
              "      <td>...</td>\n",
              "      <td>...</td>\n",
              "      <td>...</td>\n",
              "      <td>...</td>\n",
              "    </tr>\n",
              "    <tr>\n",
              "      <th>95</th>\n",
              "      <td>Heath great dark Knight, even liked Jared Leto...</td>\n",
              "      <td>Neutral</td>\n",
              "      <td>2</td>\n",
              "      <td>0.154167</td>\n",
              "      <td>0.8555</td>\n",
              "    </tr>\n",
              "    <tr>\n",
              "      <th>96</th>\n",
              "      <td>I excited movie came theaters raving reviews I...</td>\n",
              "      <td>Positive</td>\n",
              "      <td>1</td>\n",
              "      <td>-0.131061</td>\n",
              "      <td>-0.8334</td>\n",
              "    </tr>\n",
              "    <tr>\n",
              "      <th>97</th>\n",
              "      <td>There homage borrowing wholesale material. Thi...</td>\n",
              "      <td>Neutral</td>\n",
              "      <td>2</td>\n",
              "      <td>0.216071</td>\n",
              "      <td>0.4404</td>\n",
              "    </tr>\n",
              "    <tr>\n",
              "      <th>98</th>\n",
              "      <td>Disturbing. Just got movie. My humor much bett...</td>\n",
              "      <td>Neutral</td>\n",
              "      <td>2</td>\n",
              "      <td>0.125000</td>\n",
              "      <td>-0.2960</td>\n",
              "    </tr>\n",
              "    <tr>\n",
              "      <th>99</th>\n",
              "      <td>What legendary character legendary performance...</td>\n",
              "      <td>Positive</td>\n",
              "      <td>1</td>\n",
              "      <td>0.660000</td>\n",
              "      <td>0.7841</td>\n",
              "    </tr>\n",
              "  </tbody>\n",
              "</table>\n",
              "<p>100 rows × 5 columns</p>\n",
              "</div>"
            ],
            "text/plain": [
              "                                               Review  ...   vader\n",
              "0   Every movie comes, truly makes impact. Joaquin...  ...  0.8519\n",
              "1   This movie felt alone isolated truly relate it...  ...  0.9042\n",
              "2   Truly masterpiece, The Best Hollywood film 201...  ...  0.9794\n",
              "3   Joaquin Phoenix gives tour de force performanc...  ...  0.6597\n",
              "4   Most time movies anticipated like end falling ...  ... -0.5719\n",
              "..                                                ...  ...     ...\n",
              "95  Heath great dark Knight, even liked Jared Leto...  ...  0.8555\n",
              "96  I excited movie came theaters raving reviews I...  ... -0.8334\n",
              "97  There homage borrowing wholesale material. Thi...  ...  0.4404\n",
              "98  Disturbing. Just got movie. My humor much bett...  ... -0.2960\n",
              "99  What legendary character legendary performance...  ...  0.7841\n",
              "\n",
              "[100 rows x 5 columns]"
            ]
          },
          "metadata": {
            "tags": []
          },
          "execution_count": 18
        }
      ]
    },
    {
      "cell_type": "code",
      "metadata": {
        "id": "MiQRKB-0BAUB"
      },
      "source": [
        "sent.vader = np.where(sent.vader <= -0.5, 1, sent.vader)\n",
        "sent.vader = np.where(sent.vader >= 0.5, 2, sent.vader)\n",
        "sent.vader = np.where((sent.vader > -0.5) & (sent.vader < 0.5), 0, sent.vader)"
      ],
      "execution_count": 19,
      "outputs": []
    },
    {
      "cell_type": "code",
      "metadata": {
        "colab": {
          "base_uri": "https://localhost:8080/",
          "height": 1000
        },
        "id": "5Qj6vyg6Bhhv",
        "outputId": "66a4fe1b-9f74-4d7e-acb4-360900db6c18"
      },
      "source": [
        "display(collections.Counter(sent.textblob.values))\n",
        "display(collections.Counter(sent.vader.values))"
      ],
      "execution_count": 20,
      "outputs": [
        {
          "output_type": "display_data",
          "data": {
            "text/plain": [
              "Counter({-0.7535714285714286: 1,\n",
              "         -0.65: 1,\n",
              "         -0.4541666666666666: 1,\n",
              "         -0.33772941468253964: 1,\n",
              "         -0.2916666666666667: 1,\n",
              "         -0.26666666666666666: 1,\n",
              "         -0.185: 1,\n",
              "         -0.18392857142857139: 1,\n",
              "         -0.16249999999999998: 1,\n",
              "         -0.13106060606060604: 1,\n",
              "         -0.11785714285714288: 1,\n",
              "         -0.11666666666666665: 1,\n",
              "         -0.11000000000000001: 1,\n",
              "         -0.10204081632653061: 1,\n",
              "         -0.1: 1,\n",
              "         -0.08148148148148147: 1,\n",
              "         -0.07395833333333332: 1,\n",
              "         -0.06845238095238095: 1,\n",
              "         -0.06666666666666664: 1,\n",
              "         -0.06414930555555555: 1,\n",
              "         -0.051294642857142844: 1,\n",
              "         -0.027125850340136055: 1,\n",
              "         -0.026851851851851866: 1,\n",
              "         -0.02475: 1,\n",
              "         0.0: 3,\n",
              "         2.7755575615628914e-17: 1,\n",
              "         0.0027777777777777835: 1,\n",
              "         0.0053005108926161264: 1,\n",
              "         0.01718750000000001: 1,\n",
              "         0.026136363636363645: 1,\n",
              "         0.03363095238095239: 1,\n",
              "         0.03503086419753086: 1,\n",
              "         0.04166666666666664: 1,\n",
              "         0.05508333333333333: 1,\n",
              "         0.05950839438339434: 1,\n",
              "         0.06333333333333334: 1,\n",
              "         0.06615384615384615: 1,\n",
              "         0.07113717532467534: 1,\n",
              "         0.0726851851851852: 1,\n",
              "         0.08333333333333333: 1,\n",
              "         0.08666666666666671: 1,\n",
              "         0.09277777777777778: 1,\n",
              "         0.09829545454545455: 1,\n",
              "         0.09880952380952383: 1,\n",
              "         0.1021212121212121: 1,\n",
              "         0.10382235048901717: 1,\n",
              "         0.10397727272727275: 1,\n",
              "         0.1040114196148679: 1,\n",
              "         0.10466666666666666: 1,\n",
              "         0.11412128091815592: 1,\n",
              "         0.11666666666666665: 1,\n",
              "         0.125: 1,\n",
              "         0.12699201839826835: 1,\n",
              "         0.14388888888888887: 1,\n",
              "         0.15000000000000002: 1,\n",
              "         0.15416666666666667: 1,\n",
              "         0.1628348214285714: 1,\n",
              "         0.1633333333333333: 1,\n",
              "         0.16666666666666666: 1,\n",
              "         0.16893939393939394: 1,\n",
              "         0.17604166666666665: 1,\n",
              "         0.18125: 1,\n",
              "         0.18181818181818182: 1,\n",
              "         0.18714123376623376: 1,\n",
              "         0.19535714285714284: 1,\n",
              "         0.20055555555555554: 1,\n",
              "         0.21130952380952378: 1,\n",
              "         0.21607142857142855: 1,\n",
              "         0.22857142857142862: 1,\n",
              "         0.23625: 1,\n",
              "         0.2371794871794872: 1,\n",
              "         0.24166666666666664: 1,\n",
              "         0.24629629629629632: 1,\n",
              "         0.25558999081726347: 1,\n",
              "         0.2597883597883598: 1,\n",
              "         0.26420454545454547: 1,\n",
              "         0.27245726495726497: 1,\n",
              "         0.2729166666666667: 1,\n",
              "         0.2805555555555556: 1,\n",
              "         0.2818840579710145: 1,\n",
              "         0.28857142857142865: 1,\n",
              "         0.2953968253968254: 1,\n",
              "         0.29663134484563053: 1,\n",
              "         0.3125: 1,\n",
              "         0.31666666666666665: 1,\n",
              "         0.3571428571428571: 1,\n",
              "         0.42500000000000004: 1,\n",
              "         0.47000000000000003: 1,\n",
              "         0.4942857142857142: 1,\n",
              "         0.5: 2,\n",
              "         0.5125000000000001: 1,\n",
              "         0.5333333333333333: 1,\n",
              "         0.5825: 1,\n",
              "         0.6: 1,\n",
              "         0.6599999999999999: 1,\n",
              "         0.7777777777777777: 1,\n",
              "         0.9: 1})"
            ]
          },
          "metadata": {
            "tags": []
          }
        },
        {
          "output_type": "display_data",
          "data": {
            "text/plain": [
              "Counter({0.0: 18, 2.0: 82})"
            ]
          },
          "metadata": {
            "tags": []
          }
        }
      ]
    },
    {
      "cell_type": "code",
      "metadata": {
        "id": "c8NXTtfEBkXe"
      },
      "source": [
        "y_true = sent.numeric.values\n",
        "textblob_preds = sent.textblob.astype(int).values\n",
        "vader_preds = sent.vader.astype(int).values"
      ],
      "execution_count": 21,
      "outputs": []
    },
    {
      "cell_type": "code",
      "metadata": {
        "id": "Nj6k1Pi4BpY0"
      },
      "source": [
        "# split the data into training and test sets\n",
        "from random import sample\n",
        "n = sent.shape[0]\n",
        "training_shape = int(n * 0.7) #%70 training\n",
        "test_shape = n - training_shape\n",
        "training_idx = sample(range(sent.shape[0]), training_shape)\n",
        "test_idx = [i for i in range(sent.shape[0]) if i not in training_idx]"
      ],
      "execution_count": 22,
      "outputs": []
    },
    {
      "cell_type": "code",
      "metadata": {
        "colab": {
          "base_uri": "https://localhost:8080/",
          "height": 402
        },
        "id": "pL8nV2MNBs0u",
        "outputId": "b93f58a4-1200-49a7-c61c-1e968f93b6b2"
      },
      "source": [
        "df_training = sent.iloc[training_idx]\n",
        "df_training.reset_index(drop=True, inplace=True)\n",
        "df_training"
      ],
      "execution_count": 23,
      "outputs": [
        {
          "output_type": "execute_result",
          "data": {
            "text/html": [
              "<div>\n",
              "<style scoped>\n",
              "    .dataframe tbody tr th:only-of-type {\n",
              "        vertical-align: middle;\n",
              "    }\n",
              "\n",
              "    .dataframe tbody tr th {\n",
              "        vertical-align: top;\n",
              "    }\n",
              "\n",
              "    .dataframe thead th {\n",
              "        text-align: right;\n",
              "    }\n",
              "</style>\n",
              "<table border=\"1\" class=\"dataframe\">\n",
              "  <thead>\n",
              "    <tr style=\"text-align: right;\">\n",
              "      <th></th>\n",
              "      <th>Review</th>\n",
              "      <th>Sentiment</th>\n",
              "      <th>numeric</th>\n",
              "      <th>textblob</th>\n",
              "      <th>vader</th>\n",
              "    </tr>\n",
              "  </thead>\n",
              "  <tbody>\n",
              "    <tr>\n",
              "      <th>0</th>\n",
              "      <td>I know unpopular opinion, honestly movie overr...</td>\n",
              "      <td>Negative</td>\n",
              "      <td>0</td>\n",
              "      <td>-0.026852</td>\n",
              "      <td>0.0</td>\n",
              "    </tr>\n",
              "    <tr>\n",
              "      <th>1</th>\n",
              "      <td>Joaquin Phoenix produces one memorable perform...</td>\n",
              "      <td>Positive</td>\n",
              "      <td>1</td>\n",
              "      <td>0.211310</td>\n",
              "      <td>0.0</td>\n",
              "    </tr>\n",
              "    <tr>\n",
              "      <th>2</th>\n",
              "      <td>I get people hate . It's political message peo...</td>\n",
              "      <td>Positive</td>\n",
              "      <td>1</td>\n",
              "      <td>0.150000</td>\n",
              "      <td>2.0</td>\n",
              "    </tr>\n",
              "    <tr>\n",
              "      <th>3</th>\n",
              "      <td>Is anyone 30 see kind ripped \"the King Comedy ...</td>\n",
              "      <td>Neutral</td>\n",
              "      <td>2</td>\n",
              "      <td>0.600000</td>\n",
              "      <td>2.0</td>\n",
              "    </tr>\n",
              "    <tr>\n",
              "      <th>4</th>\n",
              "      <td>Don't waste 2 hours life movie baddest i've se...</td>\n",
              "      <td>Negative</td>\n",
              "      <td>0</td>\n",
              "      <td>-0.110000</td>\n",
              "      <td>0.0</td>\n",
              "    </tr>\n",
              "    <tr>\n",
              "      <th>...</th>\n",
              "      <td>...</td>\n",
              "      <td>...</td>\n",
              "      <td>...</td>\n",
              "      <td>...</td>\n",
              "      <td>...</td>\n",
              "    </tr>\n",
              "    <tr>\n",
              "      <th>65</th>\n",
              "      <td>JoaquÃ­n Phoenix's unconvincing laughing, look...</td>\n",
              "      <td>Neutral</td>\n",
              "      <td>2</td>\n",
              "      <td>-0.454167</td>\n",
              "      <td>2.0</td>\n",
              "    </tr>\n",
              "    <tr>\n",
              "      <th>66</th>\n",
              "      <td>Seriously, unbelievable. Dare I say better Hea...</td>\n",
              "      <td>Positive</td>\n",
              "      <td>1</td>\n",
              "      <td>0.494286</td>\n",
              "      <td>2.0</td>\n",
              "    </tr>\n",
              "    <tr>\n",
              "      <th>67</th>\n",
              "      <td>Joker basically lite edition postmodern versio...</td>\n",
              "      <td>Positive</td>\n",
              "      <td>1</td>\n",
              "      <td>0.035031</td>\n",
              "      <td>2.0</td>\n",
              "    </tr>\n",
              "    <tr>\n",
              "      <th>68</th>\n",
              "      <td>Yesterday day, I understand, I touched history...</td>\n",
              "      <td>Neutral</td>\n",
              "      <td>2</td>\n",
              "      <td>-0.100000</td>\n",
              "      <td>2.0</td>\n",
              "    </tr>\n",
              "    <tr>\n",
              "      <th>69</th>\n",
              "      <td>Do really understand tens here. Sure, good mov...</td>\n",
              "      <td>Negative</td>\n",
              "      <td>0</td>\n",
              "      <td>0.103977</td>\n",
              "      <td>2.0</td>\n",
              "    </tr>\n",
              "  </tbody>\n",
              "</table>\n",
              "<p>70 rows × 5 columns</p>\n",
              "</div>"
            ],
            "text/plain": [
              "                                               Review  ... vader\n",
              "0   I know unpopular opinion, honestly movie overr...  ...   0.0\n",
              "1   Joaquin Phoenix produces one memorable perform...  ...   0.0\n",
              "2   I get people hate . It's political message peo...  ...   2.0\n",
              "3   Is anyone 30 see kind ripped \"the King Comedy ...  ...   2.0\n",
              "4   Don't waste 2 hours life movie baddest i've se...  ...   0.0\n",
              "..                                                ...  ...   ...\n",
              "65  JoaquÃ­n Phoenix's unconvincing laughing, look...  ...   2.0\n",
              "66  Seriously, unbelievable. Dare I say better Hea...  ...   2.0\n",
              "67  Joker basically lite edition postmodern versio...  ...   2.0\n",
              "68  Yesterday day, I understand, I touched history...  ...   2.0\n",
              "69  Do really understand tens here. Sure, good mov...  ...   2.0\n",
              "\n",
              "[70 rows x 5 columns]"
            ]
          },
          "metadata": {
            "tags": []
          },
          "execution_count": 23
        }
      ]
    },
    {
      "cell_type": "code",
      "metadata": {
        "colab": {
          "base_uri": "https://localhost:8080/",
          "height": 195
        },
        "id": "Lo1tavSKB4XD",
        "outputId": "fe026b83-5fbe-4a35-b480-104642436f9f"
      },
      "source": [
        "df_test = sent.iloc[test_idx]\n",
        "df_test.reset_index(drop=True, inplace=True)\n",
        "df_test.head()"
      ],
      "execution_count": 24,
      "outputs": [
        {
          "output_type": "execute_result",
          "data": {
            "text/html": [
              "<div>\n",
              "<style scoped>\n",
              "    .dataframe tbody tr th:only-of-type {\n",
              "        vertical-align: middle;\n",
              "    }\n",
              "\n",
              "    .dataframe tbody tr th {\n",
              "        vertical-align: top;\n",
              "    }\n",
              "\n",
              "    .dataframe thead th {\n",
              "        text-align: right;\n",
              "    }\n",
              "</style>\n",
              "<table border=\"1\" class=\"dataframe\">\n",
              "  <thead>\n",
              "    <tr style=\"text-align: right;\">\n",
              "      <th></th>\n",
              "      <th>Review</th>\n",
              "      <th>Sentiment</th>\n",
              "      <th>numeric</th>\n",
              "      <th>textblob</th>\n",
              "      <th>vader</th>\n",
              "    </tr>\n",
              "  </thead>\n",
              "  <tbody>\n",
              "    <tr>\n",
              "      <th>0</th>\n",
              "      <td>Joaquin Phoenix gives tour de force performanc...</td>\n",
              "      <td>Positive</td>\n",
              "      <td>1</td>\n",
              "      <td>-0.081481</td>\n",
              "      <td>2.0</td>\n",
              "    </tr>\n",
              "    <tr>\n",
              "      <th>1</th>\n",
              "      <td>It's sad Joaquin missed Oscar 'The gladiator' ...</td>\n",
              "      <td>Positive</td>\n",
              "      <td>1</td>\n",
              "      <td>0.237179</td>\n",
              "      <td>2.0</td>\n",
              "    </tr>\n",
              "    <tr>\n",
              "      <th>2</th>\n",
              "      <td>The movie affects way makes physically painful...</td>\n",
              "      <td>Neutral</td>\n",
              "      <td>2</td>\n",
              "      <td>0.000000</td>\n",
              "      <td>0.0</td>\n",
              "    </tr>\n",
              "    <tr>\n",
              "      <th>3</th>\n",
              "      <td>I quit relying critic reviews years ago... I n...</td>\n",
              "      <td>Negative</td>\n",
              "      <td>0</td>\n",
              "      <td>0.055083</td>\n",
              "      <td>2.0</td>\n",
              "    </tr>\n",
              "    <tr>\n",
              "      <th>4</th>\n",
              "      <td>I thought film good I get hype personally. The...</td>\n",
              "      <td>Negative</td>\n",
              "      <td>0</td>\n",
              "      <td>0.288571</td>\n",
              "      <td>2.0</td>\n",
              "    </tr>\n",
              "  </tbody>\n",
              "</table>\n",
              "</div>"
            ],
            "text/plain": [
              "                                              Review Sentiment  ...  textblob  vader\n",
              "0  Joaquin Phoenix gives tour de force performanc...  Positive  ... -0.081481    2.0\n",
              "1  It's sad Joaquin missed Oscar 'The gladiator' ...  Positive  ...  0.237179    2.0\n",
              "2  The movie affects way makes physically painful...   Neutral  ...  0.000000    0.0\n",
              "3  I quit relying critic reviews years ago... I n...  Negative  ...  0.055083    2.0\n",
              "4  I thought film good I get hype personally. The...  Negative  ...  0.288571    2.0\n",
              "\n",
              "[5 rows x 5 columns]"
            ]
          },
          "metadata": {
            "tags": []
          },
          "execution_count": 24
        }
      ]
    },
    {
      "cell_type": "code",
      "metadata": {
        "id": "pwGF5dXtBwOG"
      },
      "source": [
        "X_train = df_training.Review.values\n",
        "y_train = df_training.numeric.values\n",
        "X_test = df_test.Review.values\n",
        "y_test = df_test.numeric.values"
      ],
      "execution_count": 25,
      "outputs": []
    },
    {
      "cell_type": "code",
      "metadata": {
        "id": "HPgSfSfKB_aP"
      },
      "source": [
        "from sklearn.feature_extraction.text import CountVectorizer, TfidfTransformer\n",
        "from sklearn.linear_model import SGDClassifier\n",
        "from sklearn.pipeline import Pipeline\n",
        "pipeline = Pipeline([('vect', CountVectorizer()),\n",
        "                     ('tfidf', TfidfTransformer()),\n",
        "                     ('clf', SGDClassifier(loss='hinge',\n",
        "                                           penalty='l2',\n",
        "                                           alpha=1e-3,\n",
        "                                           random_state=42,\n",
        "                                           max_iter=100,\n",
        "                                           learning_rate='optimal',\n",
        "                                           tol=None))\n",
        "                    ]\n",
        "                   )"
      ],
      "execution_count": 26,
      "outputs": []
    },
    {
      "cell_type": "code",
      "metadata": {
        "id": "ltPjszaYCGd3"
      },
      "source": [
        "learner = pipeline.fit(X_train, y_train)\n",
        "# Predict class labels using the learner and output DataFrame\n",
        "preds = learner.predict(X_test)"
      ],
      "execution_count": 27,
      "outputs": []
    },
    {
      "cell_type": "code",
      "metadata": {
        "id": "5HDtgVntCIkT"
      },
      "source": [
        "from sklearn.metrics import accuracy_score, f1_score"
      ],
      "execution_count": 28,
      "outputs": []
    },
    {
      "cell_type": "code",
      "metadata": {
        "id": "i44TBx0cCKLQ"
      },
      "source": [
        "textblob_accuracy = accuracy_score(y_true, textblob_preds)\n",
        "textblob_f1 = f1_score(y_true, textblob_preds, average='weighted')\n",
        "vader_accuracy = accuracy_score(y_true, vader_preds)\n",
        "vader_f1 = f1_score(y_true, vader_preds, average='weighted')\n",
        "svm_accuracy = accuracy_score(y_test, preds)\n",
        "svm_f1 = f1_score(y_test, preds, average='weighted')"
      ],
      "execution_count": 29,
      "outputs": []
    },
    {
      "cell_type": "code",
      "metadata": {
        "colab": {
          "base_uri": "https://localhost:8080/",
          "height": 106
        },
        "id": "x0XA4f6-CL9s",
        "outputId": "492748ca-aba9-4e12-cc18-949d32389677"
      },
      "source": [
        "pd.DataFrame({'TextBlob': [textblob_accuracy, textblob_f1],\n",
        "              'Vader': [vader_accuracy, vader_f1],\n",
        "              'SVM': [svm_accuracy, svm_f1]},\n",
        "             index = ['Accuracy', 'F1 Score'])"
      ],
      "execution_count": 30,
      "outputs": [
        {
          "output_type": "execute_result",
          "data": {
            "text/html": [
              "<div>\n",
              "<style scoped>\n",
              "    .dataframe tbody tr th:only-of-type {\n",
              "        vertical-align: middle;\n",
              "    }\n",
              "\n",
              "    .dataframe tbody tr th {\n",
              "        vertical-align: top;\n",
              "    }\n",
              "\n",
              "    .dataframe thead th {\n",
              "        text-align: right;\n",
              "    }\n",
              "</style>\n",
              "<table border=\"1\" class=\"dataframe\">\n",
              "  <thead>\n",
              "    <tr style=\"text-align: right;\">\n",
              "      <th></th>\n",
              "      <th>TextBlob</th>\n",
              "      <th>Vader</th>\n",
              "      <th>SVM</th>\n",
              "    </tr>\n",
              "  </thead>\n",
              "  <tbody>\n",
              "    <tr>\n",
              "      <th>Accuracy</th>\n",
              "      <td>0.230000</td>\n",
              "      <td>0.340000</td>\n",
              "      <td>0.466667</td>\n",
              "    </tr>\n",
              "    <tr>\n",
              "      <th>F1 Score</th>\n",
              "      <td>0.086016</td>\n",
              "      <td>0.241326</td>\n",
              "      <td>0.418421</td>\n",
              "    </tr>\n",
              "  </tbody>\n",
              "</table>\n",
              "</div>"
            ],
            "text/plain": [
              "          TextBlob     Vader       SVM\n",
              "Accuracy  0.230000  0.340000  0.466667\n",
              "F1 Score  0.086016  0.241326  0.418421"
            ]
          },
          "metadata": {
            "tags": []
          },
          "execution_count": 30
        }
      ]
    }
  ]
}